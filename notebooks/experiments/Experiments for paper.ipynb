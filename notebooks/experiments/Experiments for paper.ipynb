{
 "cells": [
  {
   "cell_type": "code",
   "execution_count": 1,
   "metadata": {
    "collapsed": false
   },
   "outputs": [],
   "source": [
    "%matplotlib inline"
   ]
  },
  {
   "cell_type": "code",
   "execution_count": 2,
   "metadata": {
    "collapsed": false
   },
   "outputs": [
    {
     "name": "stdout",
     "output_type": "stream",
     "text": [
      "The autoreload extension is already loaded. To reload it, use:\n",
      "  %reload_ext autoreload\n"
     ]
    }
   ],
   "source": [
    "%load_ext autoreload"
   ]
  },
  {
   "cell_type": "code",
   "execution_count": 3,
   "metadata": {
    "collapsed": true
   },
   "outputs": [],
   "source": [
    "%autoreload 2"
   ]
  },
  {
   "cell_type": "code",
   "execution_count": 5,
   "metadata": {
    "collapsed": false
   },
   "outputs": [
    {
     "name": "stderr",
     "output_type": "stream",
     "text": [
      "/home/nicolo/anaconda3/envs/python2/lib/python2.7/site-packages/pandas/computation/__init__.py:19: UserWarning: The installed version of numexpr 2.4.4 is not supported in pandas and will be not be used\n",
      "\n",
      "  UserWarning)\n",
      "WARNING:root:using existing cache dir: /tmp/tmpMCHFIU \n"
     ]
    }
   ],
   "source": [
    "import elevation.prediction_pipeline\n",
    "import matplotlib.pyplot as plt\n",
    "import numpy as np\n",
    "import azimuth.util as util\n",
    "import scipy as sp\n",
    "import scipy.stats as st\n",
    "import sklearn\n",
    "import sklearn.cross_validation\n",
    "from elevation.prediction_pipeline import *"
   ]
  },
  {
   "cell_type": "code",
   "execution_count": 6,
   "metadata": {
    "collapsed": true
   },
   "outputs": [],
   "source": [
    "import matplotlib"
   ]
  },
  {
   "cell_type": "code",
   "execution_count": 7,
   "metadata": {
    "collapsed": false
   },
   "outputs": [],
   "source": [
    "np.random.seed(1234)"
   ]
  },
  {
   "cell_type": "code",
   "execution_count": 8,
   "metadata": {
    "collapsed": true
   },
   "outputs": [],
   "source": [
    "best_model = 'linear-raw-stacker'"
   ]
  },
  {
   "cell_type": "code",
   "execution_count": 92,
   "metadata": {
    "collapsed": false
   },
   "outputs": [],
   "source": [
    "learn_options = {    'num_proc': 10,\n",
    "                     'nuc_features_WT': False, 'include_pi_nuc_feat': False,\n",
    "                     'annotation position one-hot': False,\n",
    "                     'mutation_type' : False,\n",
    "                     'mutation_details' : False,\n",
    "                     'annotation_onehot' : False, # featurize like CFD\n",
    "                     'annotation_decoupled_onehot' : ['let', 'pos', 'transl'], # decouple the CFD features into letters and position\n",
    "                     \"include_Tm\": False,\n",
    "                     'include_azimuth_score': None, # all of them [\"WT\",\"MUT\",\"DELTA\"]\n",
    "                     'azimuth_feat' : ['WT'], # ['WT'], #['WT'],#[\"MUT\", \"WT\"],\n",
    "                     \"include_gene_position\": False,\n",
    "                     \"cv\": \"stratified\",\n",
    "                     'adaboost_loss' : 'ls',\n",
    "                     'adaboost_CV': False, \"algorithm_hyperparam_search\" : \"grid\",\n",
    "                     'n_folds' : 10,\n",
    "                     'allowed_category' : None,#\"Mismatch\",#\"Insertion\",\n",
    "                     \"include_NGGX_interaction\": False,\n",
    "                     'normalize_features' : False, 'class_weight': None,\n",
    "                     \"phen_transform\": 'kde_cdf', #  'kde_cdf',\n",
    "                     \"training_metric\": 'spearmanr',\n",
    "                     \"skip_pam_feat\" : True, \"letpos_indep_ft\": False, \"letpos_inter_ft\": True,\n",
    "                     \"fit_intercept\" : True,\n",
    "                     \"seed\" : 12345,\n",
    "                     \"num_proc\": 1,\n",
    "                     \"alpha\": np.array([1.0e-3]),\n",
    "                     \"V\": \"CD33\",\n",
    "                     \"left_right_guide_ind\": [4,27,30], # 23-mer\n",
    "                     \"order\": 1,\n",
    "                     \"testing_non_binary_target_name\": 'ranks',\n",
    "                     'models': ['AdaBoost'],\n",
    "                     'post-process Platt': False,\n",
    "                     'azimuth_score_in_stacker': False,\n",
    "                     'use_mut_distances': False,\n",
    "                     'guide_seq_full': False,\n",
    "                     'reload guideseq': True,\n",
    "                     \"renormalize_guideseq\": True,\n",
    "                    ' sdfdkjdslsdjf': True\n",
    "             }"
   ]
  },
  {
   "cell_type": "markdown",
   "metadata": {},
   "source": [
    "# Load all datasets"
   ]
  },
  {
   "cell_type": "code",
   "execution_count": 93,
   "metadata": {
    "collapsed": false,
    "scrolled": true
   },
   "outputs": [
    {
     "name": "stdout",
     "output_type": "stream",
     "text": [
      "reading GuideSeq data and saving to pickle...\n",
      "Done.\n",
      "reading GuideSeq data and saving to pickle...\n",
      "Done.\n",
      "loading processed data from file: ../../data/offtarget/CD33.processed.[4, 27, 30].pamfiltTrue.p...\n",
      "done.\n",
      "{'bandwidth': 0.23000000000000001}\n"
     ]
    }
   ],
   "source": [
    "guideseq_data = elevation.prediction_pipeline.load_guideseq(learn_options, filterPAMs=True, subsample_zeros=False)\n",
    "guideseq_data_nofilter = elevation.prediction_pipeline.load_guideseq(learn_options, filterPAMs=False, subsample_zeros=False)\n",
    "# mouse_data = elevation.prediction_pipeline.load_mouse(learn_options)\n",
    "# hsu_data = elevation.prediction_pipeline.load_Hsu(learn_options)\n",
    "frock_data_ST3 = elevation.prediction_pipeline.load_Frocketal(learn_options, which_table=3, filterPAMs=False)\n",
    "frock_data_ST7 = elevation.prediction_pipeline.load_Frocketal(learn_options, which_table=7, filterPAMs=False)\n",
    "cd33_data = elevation.load_data.load_cd33(learn_options)[0]\n",
    "cd33_data['Annotation'] = cd33_data['Annotation'].apply(lambda x: [x])"
   ]
  },
  {
   "cell_type": "code",
   "execution_count": 59,
   "metadata": {
    "collapsed": false
   },
   "outputs": [
    {
     "data": {
      "text/plain": [
       "(354, 12)"
      ]
     },
     "execution_count": 59,
     "metadata": {},
     "output_type": "execute_result"
    }
   ],
   "source": [
    "guideseq_data.shape"
   ]
  },
  {
   "cell_type": "markdown",
   "metadata": {},
   "source": [
    "# Train base model"
   ]
  },
  {
   "cell_type": "code",
   "execution_count": 94,
   "metadata": {
    "collapsed": false,
    "scrolled": true
   },
   "outputs": [
    {
     "name": "stdout",
     "output_type": "stream",
     "text": [
      "Received option CV=False, so I'm training using all of the data\n",
      "running AdaBoost, order 1 for final\n",
      "MKL not available, so I'm not adjusting the number of threads\n",
      "Launching 1 jobs with 1 MKL threads each\n",
      "loading processed data from file: ../../data/offtarget/CD33.processed.[4, 27, 30].pamfiltTrue.p...\n",
      "done.\n",
      "{'bandwidth': 0.23000000000000001}\n",
      "featurizing data...\n",
      "done.\n",
      "range of y_all is [0.000002, 1.000000]\n",
      "filename = VCD33AdaBoostRegressor.order1Day21-ETP.gene.spearman\n",
      "Cross-validating genes...\n",
      "\t\tRMSE:  0.181818754071\n",
      "\t\tSpearman correlation:  0.804940180452\n",
      "\t\tfinished fold/gene 1 of 1\n",
      "\t\tmedian spearmanr across gene folds: 0.805\n",
      "\t\tElapsed time for cv is 1.02 seconds\n"
     ]
    }
   ],
   "source": [
    "base_model, base_feature_names = elevation.prediction_pipeline.train_base_model(learn_options)"
   ]
  },
  {
   "cell_type": "markdown",
   "metadata": {},
   "source": [
    "# Guide-Seq data (n=402)"
   ]
  },
  {
   "cell_type": "markdown",
   "metadata": {},
   "source": [
    "Best median for linear-raw-stacker: 0.535, GP-stacker: 0.577\n",
    "with just decoupled + o1 WT azimuth linear stacker = 0.605"
   ]
  },
  {
   "cell_type": "code",
   "execution_count": 95,
   "metadata": {
    "collapsed": false,
    "scrolled": true
   },
   "outputs": [
    {
     "name": "stdout",
     "output_type": "stream",
     "text": [
      "loading processed data from file: ../../data/offtarget/CD33.processed.None.pamfiltTrue.p...\n",
      "done.\n",
      "{'bandwidth': 0.23000000000000001}\n",
      "loading processed data from file: ../../data/offtarget/CD33.processed.None.pamfiltTrue.p...\n",
      "done.\n",
      "{'bandwidth': 0.23000000000000001}\n"
     ]
    }
   ],
   "source": [
    "preds_guideseq = elevation.prediction_pipeline.predict_guideseq(base_model, guideseq_data, learn_options,\n",
    "                                                                naive_bayes_combine=True)\n",
    "preds_guideseq_nofilter = elevation.prediction_pipeline.predict_guideseq(base_model, guideseq_data_nofilter, learn_options,\n",
    "                                                                naive_bayes_combine=True)"
   ]
  },
  {
   "cell_type": "code",
   "execution_count": 61,
   "metadata": {
    "collapsed": false,
    "scrolled": true
   },
   "outputs": [
    {
     "name": "stdout",
     "output_type": "stream",
     "text": [
      "Loading CFD table from file\n",
      "Fold 1, Spearman r: product=0.305 HsuZhang=0.477 CCTOP=0.475 constant-power=0.171 linear-raw-stacker=0.444 CFD=0.426 \n",
      "Loading CFD table from file\n",
      "Fold 2, Spearman r: product=0.580 HsuZhang=0.628 CCTOP=0.631 constant-power=0.570 linear-raw-stacker=0.648 CFD=0.558 \n",
      "Loading CFD table from file\n",
      "Fold 3, Spearman r: product=0.452 HsuZhang=0.339 CCTOP=0.137 constant-power=0.552 linear-raw-stacker=0.432 CFD=0.094 \n",
      "Loading CFD table from file\n",
      "Fold 4, Spearman r: product=0.173 HsuZhang=0.382 CCTOP=0.296 constant-power=0.164 linear-raw-stacker=0.263 CFD=0.069 \n",
      "Loading CFD table from file\n",
      "Fold 5, Spearman r: product=0.472 HsuZhang=0.424 CCTOP=0.473 constant-power=0.352 linear-raw-stacker=0.611 CFD=0.531 \n",
      "Loading CFD table from file\n",
      "Fold 6, Spearman r: product=0.719 HsuZhang=0.782 CCTOP=0.720 constant-power=0.638 linear-raw-stacker=0.620 CFD=0.387 \n",
      "Loading CFD table from file\n",
      "Fold 7, Spearman r: product=0.546 HsuZhang=0.639 CCTOP=0.608 constant-power=0.276 linear-raw-stacker=0.424 CFD=0.391 \n",
      "Loading CFD table from file\n",
      "Fold 8, Spearman r: product=0.447 HsuZhang=0.149 CCTOP=0.249 constant-power=0.406 linear-raw-stacker=0.407 CFD=0.516 \n",
      "Loading CFD table from file\n",
      "Fold 9, Spearman r: product=0.789 HsuZhang=0.738 CCTOP=0.511 constant-power=0.576 linear-raw-stacker=0.810 CFD=0.410 \n",
      "Loading CFD table from file\n",
      "Fold 10, Spearman r: product=0.216 HsuZhang=0.296 CCTOP=-0.026 constant-power=0.287 linear-raw-stacker=0.385 CFD=-0.137 \n",
      "Loading CFD table from file\n",
      "Fold 11, Spearman r: product=0.469 HsuZhang=0.545 CCTOP=0.339 constant-power=0.286 linear-raw-stacker=0.516 CFD=0.110 \n",
      "Loading CFD table from file\n",
      "Fold 12, Spearman r: product=0.482 HsuZhang=0.502 CCTOP=0.336 constant-power=0.513 linear-raw-stacker=0.387 CFD=0.473 \n",
      "Loading CFD table from file\n",
      "Fold 13, Spearman r: product=0.422 HsuZhang=0.231 CCTOP=0.071 constant-power=0.602 linear-raw-stacker=0.550 CFD=0.625 \n",
      "Loading CFD table from file\n",
      "Fold 14, Spearman r: product=0.513 HsuZhang=0.601 CCTOP=0.212 constant-power=0.478 linear-raw-stacker=0.529 CFD=0.143 \n",
      "Loading CFD table from file\n",
      "Fold 15, Spearman r: product=0.652 HsuZhang=0.548 CCTOP=0.611 constant-power=0.535 linear-raw-stacker=0.680 CFD=0.470 \n",
      "Loading CFD table from file\n",
      "Fold 16, Spearman r: product=0.249 HsuZhang=0.234 CCTOP=0.043 constant-power=-0.002 linear-raw-stacker=0.435 CFD=0.314 \n",
      "Loading CFD table from file\n",
      "Fold 17, Spearman r: product=0.579 HsuZhang=0.303 CCTOP=0.218 constant-power=0.611 linear-raw-stacker=0.709 CFD=0.591 \n",
      "Loading CFD table from file\n",
      "Fold 18, Spearman r: product=0.396 HsuZhang=0.197 CCTOP=0.010 constant-power=0.465 linear-raw-stacker=0.352 CFD=0.228 \n",
      "Loading CFD table from file\n",
      "Fold 19, Spearman r: product=0.675 HsuZhang=0.626 CCTOP=0.424 constant-power=0.566 linear-raw-stacker=0.533 CFD=-0.028 \n",
      "Loading CFD table from file\n",
      "Fold 20, Spearman r: product=0.529 HsuZhang=0.749 CCTOP=0.593 constant-power=0.466 linear-raw-stacker=0.492 CFD=0.570 \n",
      "Median Spearman r across all folds: CFD=0.400 product=0.477 HsuZhang=0.490 linear-raw-stacker=0.504 constant-power=0.472 CCTOP=0.338 \n"
     ]
    }
   ],
   "source": [
    "predictions_gs, performance_gs, mismatches_gs, truth_gs, c_pred =  elevation.prediction_pipeline.cross_validate_guideseq(guideseq_data, \n",
    "                                                                                                     preds_guideseq, \n",
    "                                                                                                     learn_options,\n",
    "                                                                                models= ['CFD', 'product',\n",
    "                                                                               'HsuZhang', 'linear-raw-stacker',\n",
    "                                                                                         #'GBRT-raw-stacker',\n",
    "                                                                                        'constant-power', 'CCTOP'])"
   ]
  },
  {
   "cell_type": "code",
   "execution_count": 62,
   "metadata": {
    "collapsed": false,
    "scrolled": false
   },
   "outputs": [
    {
     "name": "stderr",
     "output_type": "stream",
     "text": [
      " /home/nicolo/anaconda3/envs/python2/lib/python2.7/site-packages/ipykernel/__main__.py:5: FutureWarning:\n",
      "The default value for 'return_type' will change to 'axes' in a future release.\n",
      " To use the future behavior now, set return_type='axes'.\n",
      " To keep the previous behavior and silence this warning, set return_type='dict'.\n"
     ]
    },
    {
     "data": {
      "text/plain": [
       "<matplotlib.text.Text at 0x7f24804d4d10>"
      ]
     },
     "execution_count": 62,
     "metadata": {},
     "output_type": "execute_result"
    },
    {
     "data": {
      "image/png": "[encoded data removed]",
      "text/plain": [
       "<matplotlib.figure.Figure at 0x7f247ff3de50>"
      ]
     },
     "metadata": {},
     "output_type": "display_data"
    }
   ],
   "source": [
    "plt.figure(figsize=(10,8))\n",
    "med=performance_gs.T.median()\n",
    "med.sort_values(inplace=True)\n",
    "performance_sorted=performance_gs.T[med.index]\n",
    "performance_sorted.boxplot()\n",
    "plt.ylabel('Spearman r')"
   ]
  },
  {
   "cell_type": "code",
   "execution_count": 1171,
   "metadata": {
    "collapsed": false
   },
   "outputs": [],
   "source": [
    "%%capture\n",
    "rep = 1\n",
    "predictions_repeated = dict([(k, np.ones((guideseq_data.shape[0], rep))) for k in predictions_gs.keys()])\n",
    "\n",
    "for r in range(rep):\n",
    "\n",
    "    predictions, performance, mismatches, truth, c_pred =  elevation.prediction_pipeline.cross_validate_guideseq(guideseq_data, \n",
    "                                                                                                     preds_guideseq, \n",
    "                                                                                                     learn_options,\n",
    "                                                                                models= ['CFD', 'product',\n",
    "                                                                               'linear-raw-stacker'],\n",
    "                                                                                                     seed=r)\n",
    "    for model in predictions.keys():\n",
    "        predictions_repeated[model][:,r] = c_pred[model].flatten()"
   ]
  },
  {
   "cell_type": "code",
   "execution_count": 1172,
   "metadata": {
    "collapsed": false
   },
   "outputs": [],
   "source": [
    "all_cfd_pred = predictions_repeated['CFD'][:,0] # no stochasticity in CFD, so pred all the same across folds\n",
    "all_best_model_pred = predictions_repeated[best_model].mean(1)\n",
    "all_product_pred = predictions_repeated['product'][:, 0]\n",
    "all_truth = guideseq_data['GUIDE-SEQ Reads'].values.copy()\n",
    "all_mismatches = guideseq_data['Annotation'].apply(len).values"
   ]
  },
  {
   "cell_type": "code",
   "execution_count": 1173,
   "metadata": {
    "collapsed": false
   },
   "outputs": [
    {
     "ename": "AssertionError",
     "evalue": "",
     "output_type": "error",
     "traceback": [
      "\u001b[1;31m---------------------------------------------------------------------------\u001b[0m",
      "\u001b[1;31mAssertionError\u001b[0m                            Traceback (most recent call last)",
      "\u001b[1;32m<ipython-input-1173-0fd33a8bafa8>\u001b[0m in \u001b[0;36m<module>\u001b[1;34m()\u001b[0m\n\u001b[1;32m----> 1\u001b[1;33m \u001b[1;32massert\u001b[0m \u001b[0mnp\u001b[0m\u001b[1;33m.\u001b[0m\u001b[0mallclose\u001b[0m\u001b[1;33m(\u001b[0m\u001b[0msp\u001b[0m\u001b[1;33m.\u001b[0m\u001b[0mstats\u001b[0m\u001b[1;33m.\u001b[0m\u001b[0mpearsonr\u001b[0m\u001b[1;33m(\u001b[0m\u001b[0mall_cfd_pred\u001b[0m\u001b[1;33m,\u001b[0m \u001b[0mall_truth\u001b[0m\u001b[1;33m)\u001b[0m\u001b[1;33m[\u001b[0m\u001b[1;36m0\u001b[0m\u001b[1;33m]\u001b[0m\u001b[1;33m,\u001b[0m \u001b[1;36m0.409\u001b[0m\u001b[1;33m,\u001b[0m \u001b[0matol\u001b[0m\u001b[1;33m=\u001b[0m\u001b[1;36m1e-3\u001b[0m\u001b[1;33m)\u001b[0m\u001b[1;33m\u001b[0m\u001b[0m\n\u001b[0m",
      "\u001b[1;31mAssertionError\u001b[0m: "
     ]
    }
   ],
   "source": [
    "assert np.allclose(sp.stats.pearsonr(all_cfd_pred, all_truth)[0], 0.409, atol=1e-3)"
   ]
  },
  {
   "cell_type": "code",
   "execution_count": 1174,
   "metadata": {
    "collapsed": false,
    "scrolled": true
   },
   "outputs": [],
   "source": [
    "%%capture\n",
    "num_mismatches = guideseq_data['Annotation'].apply(len).values\n",
    "mismatches = np.sort(np.unique(num_mismatches))\n",
    "results = []\n",
    "test_ind = []\n",
    "for m in mismatches:\n",
    "    train = num_mismatches!=m\n",
    "    test = num_mismatches==m\n",
    "    # if test.sum() > 50:\n",
    "    #     ind_to_remove = np.random.permutation(np.where(test)[0][50:])\n",
    "    #     test[ind_to_remove] = False\n",
    "    #     train[ind_to_remove] = True\n",
    "    print m, train.sum(), test.sum()\n",
    "    test_ind.append(test)\n",
    "    preds_guideseq_cv = predict_guideseq(base_model, guideseq_data[train], learn_options,\n",
    "                                                            naive_bayes_combine=True)\n",
    "    nb_pred, individual_pred = predict(base_model, guideseq_data[test], learn_options)\n",
    "\n",
    "    preds = stacked_predictions(guideseq_data[test], individual_pred,\n",
    "                                guideseq_data=guideseq_data[train],\n",
    "                                                           models=['product', 'linear-raw-stacker',\n",
    "                                                                   'CFD',],\n",
    "                                                           preds_guideseq=preds_guideseq_cv,\n",
    "                                                           use_mut_distances=False,\n",
    "                                                           prob_calibration_model=None,\n",
    "                                                           learn_options=learn_options)\n",
    "    results.append(preds)\n",
    "\n"
   ]
  },
  {
   "cell_type": "code",
   "execution_count": 1175,
   "metadata": {
    "collapsed": false
   },
   "outputs": [
    {
     "name": "stdout",
     "output_type": "stream",
     "text": [
      "2 0.0570963862703\n",
      "3 0.330149379727\n",
      "4 0.158887472912\n",
      "5 0.0597499239682\n",
      "6 0.436644032168\n"
     ]
    },
    {
     "data": {
      "text/plain": [
       "(2, 6)"
      ]
     },
     "execution_count": 1175,
     "metadata": {},
     "output_type": "execute_result"
    },
    {
     "data": {
      "image/png": "[encoded data removed]",
      "text/plain": [
       "<matplotlib.figure.Figure at 0x7f603bd9e290>"
      ]
     },
     "metadata": {},
     "output_type": "display_data"
    }
   ],
   "source": [
    "plot_results = {'CFD': [],\n",
    "                'us': [],\n",
    "               'product': []}\n",
    "model = 'linear-raw-stacker'\n",
    "for m in mismatches:\n",
    "    plot_results['CFD'].append(sp.stats.spearmanr(results[m-1]['CFD'].flatten(), guideseq_data['GUIDE-SEQ Reads'][test_ind[m-1]].values.flatten())[0])\n",
    "    plot_results['us'].append(sp.stats.spearmanr(results[m-1][model].flatten(), guideseq_data['GUIDE-SEQ Reads'][test_ind[m-1]].values.flatten())[0])\n",
    "    plot_results['product'].append(sp.stats.spearmanr(results[m-1]['product'].flatten(), guideseq_data['GUIDE-SEQ Reads'][test_ind[m-1]].values.flatten())[0])\n",
    "\n",
    "    if m > 1:\n",
    "        t2, pv, corr_cfd, corr_bm, corr01 = util.get_pval_from_predictions(results[m-1][model], \n",
    "                                                                    results[m-1]['CFD'],  \n",
    "                                                                        guideseq_data['GUIDE-SEQ Reads'][test_ind[m-1]].values.flatten()[:, None], \n",
    "                                                                        twotailed=False, method='steiger')\n",
    "        print m, pv\n",
    "\n",
    "plt.figure(figsize=(12, 10))\n",
    "plt.scatter(mismatches, plot_results['CFD'], s=[(num_mismatches==m).sum() for m in mismatches], color='red')\n",
    "plt.plot(mismatches, plot_results['CFD'], 'r', label='CFD')\n",
    "plt.scatter(mismatches, plot_results['us'], s=[(num_mismatches==m).sum() for m in mismatches], color='green')\n",
    "plt.plot(mismatches, plot_results['us'], 'g', label='us')\n",
    "plt.scatter(mismatches, plot_results['product'], s=[(num_mismatches==m).sum() for m in mismatches], color='blue')\n",
    "plt.plot(mismatches, plot_results['product'], 'b', label='product')\n",
    "# plt.plot(mismatches, plot_results['CFD'], 'o-r', label='CFD')\n",
    "#plt.plot(mismatches, plot_results['us'], 'o-g', label='us')\n",
    "plt.legend(loc=0)\n",
    "plt.xlim((2, 6))\n",
    "#plt.ylim((0., 0.8))"
   ]
  },
  {
   "cell_type": "code",
   "execution_count": 1176,
   "metadata": {
    "collapsed": false
   },
   "outputs": [],
   "source": [
    "samples = [(num_mismatches==m).sum() for m in mismatches]\n",
    "# plot_results, mismatches, samples\n",
    "df_gs = pandas.DataFrame(columns=['Number of mismatches', 'Sample size', 'CFD Spearman r', \n",
    "                                  'Elevation-naive Spearman r', 'Elevation Spearman r'])\n",
    "df_gs['Number of mismatches'] = mismatches\n",
    "df_gs['Sample size'] = samples\n",
    "df_gs['CFD Spearman r'] = plot_results['CFD']\n",
    "df_gs['Elevation-naive Spearman r'] = plot_results['product']\n",
    "df_gs['Elevation Spearman r'] = plot_results['us']\n",
    "df_gs.to_excel(\"plots/GuideSeq_leave_one_mismatch_out.xls\")"
   ]
  },
  {
   "cell_type": "code",
   "execution_count": 1177,
   "metadata": {
    "collapsed": false
   },
   "outputs": [
    {
     "name": "stdout",
     "output_type": "stream",
     "text": [
      "0.771542131991 0.81340144073\n",
      "0.0249318451053 0.000672520003462\n"
     ]
    }
   ],
   "source": [
    "pv_guideseq = st.mannwhitneyu(performance_gs.T['CFD'], performance_gs.T[best_model], use_continuity=True, alternative='less')[1]\n",
    "perf_guideseq_cfd = performance_gs.T['CFD'].median()\n",
    "perf_guideseq_best_model = performance_gs.T[best_model].median()\n",
    "\n",
    "t2, pv_gs_steiger, corr_cfd, corr_bm, corr01 = util.get_pval_from_predictions(all_cfd_pred, \n",
    "                                                                        all_best_model_pred,  \n",
    "                                                                        all_truth, \n",
    "                                                                        twotailed=False, method='steiger')\n",
    "\n",
    "print corr_cfd, corr_bm\n",
    "print pv_guideseq, pv_gs_steiger"
   ]
  },
  {
   "cell_type": "markdown",
   "metadata": {},
   "source": [
    "# Train probability calibration model"
   ]
  },
  {
   "cell_type": "code",
   "execution_count": 1178,
   "metadata": {
    "collapsed": false,
    "scrolled": true
   },
   "outputs": [],
   "source": [
    "prob_calibration_model = elevation.prediction_pipeline.train_prob_calibration_model(cd33_data, guideseq_data, \n",
    "                                                                                   preds_guideseq, base_model, \n",
    "                                                                                   learn_options)"
   ]
  },
  {
   "cell_type": "markdown",
   "metadata": {},
   "source": [
    "# Mouse data (n=89)"
   ]
  },
  {
   "cell_type": "markdown",
   "metadata": {},
   "source": [
    "linear-raw: 0.473 CFD: 0.500, product: 0.452"
   ]
  },
  {
   "cell_type": "code",
   "execution_count": 135,
   "metadata": {
    "collapsed": false
   },
   "outputs": [
    {
     "name": "stderr",
     "output_type": "stream",
     "text": [
      "WARNING:root:using existing cache dir: /tmp/tmpMCHFIU \n"
     ]
    }
   ],
   "source": [
    "mouse_data = elevation.prediction_pipeline.load_mouse(learn_options)\n",
    "for i in range(mouse_data.shape[0]):\n",
    "    mouse_data.loc[mouse_data.index[i], '30mer'] = mouse_data.loc[mouse_data.index[i], '30mer'].replace('N', \n",
    "                                                                                                        mouse_data.loc[mouse_data.index[i], '30mer_mut'][20])\n"
   ]
  },
  {
   "cell_type": "code",
   "execution_count": 136,
   "metadata": {
    "collapsed": false
   },
   "outputs": [
    {
     "name": "stdout",
     "output_type": "stream",
     "text": [
      "Loading CFD table from file\n",
      "elapsed:  0.141391038895\n",
      "Spearman r: product=0.480 linear-raw-stacker=0.477 logistic stacker=0.443 CFD=0.500 HsuZhang=0.406 CCTOP=0.309 \n",
      "NDCG: product=0.409 linear-raw-stacker=0.413 logistic stacker=0.404 CFD=0.397 HsuZhang=0.413 CCTOP=0.360 \n"
     ]
    }
   ],
   "source": [
    "nb_pred_mouse, individual_mut_pred_mouse = elevation.prediction_pipeline.predict(base_model, mouse_data, learn_options)\n",
    "pred_mouse = elevation.prediction_pipeline.stacked_predictions(mouse_data, individual_mut_pred_mouse, \n",
    "                                                               truth=mouse_data[\"GUIDE-SEQ Reads\"], \n",
    "                                                               guideseq_data=guideseq_data_nofilter, \n",
    "                                                               models=['product', 'linear-raw-stacker', 'logistic stacker', \n",
    "                                                                       'CFD', 'HsuZhang', 'CCTOP'],\n",
    "                                                               preds_guideseq=preds_guideseq_nofilter, \n",
    "                                                               prob_calibration_model=None, #prob_calibration_model,\n",
    "                                                              learn_options=learn_options)"
   ]
  },
  {
   "cell_type": "code",
   "execution_count": 125,
   "metadata": {
    "collapsed": false
   },
   "outputs": [
    {
     "name": "stdout",
     "output_type": "stream",
     "text": [
      "0.40531524628\n"
     ]
    }
   ],
   "source": [
    "t2, pv_mouse, corr0, corr_naivebayes, corr01 = util.get_pval_from_predictions(pred_mouse['CFD'].flatten(), \n",
    "                                                                        pred_mouse[best_model].flatten(),  \n",
    "                                                                        mouse_data[\"GUIDE-SEQ Reads\"].values.flatten(), \n",
    "                                                                        twotailed=False, method='steiger')\n",
    "print pv_mouse"
   ]
  },
  {
   "cell_type": "code",
   "execution_count": 99,
   "metadata": {
    "collapsed": false
   },
   "outputs": [],
   "source": [
    "all_cfd_pred = np.concatenate([pred_mouse['CFD'][i].flatten().tolist() for i in range(len(pred_mouse['CFD']))], axis=0)\n",
    "all_hsu_pred = np.concatenate([pred_mouse['HsuZhang'][i].flatten().tolist() for i in range(len(pred_mouse['HsuZhang']))], axis=0)\n",
    "\n",
    "truth = mouse_data[\"GUIDE-SEQ Reads\"].values\n",
    "\n",
    "assert np.allclose(sp.stats.pearsonr(all_cfd_pred, truth)[0], 0.57, atol=1e-2)"
   ]
  },
  {
   "cell_type": "code",
   "execution_count": 100,
   "metadata": {
    "collapsed": false
   },
   "outputs": [
    {
     "data": {
      "text/plain": [
       "(array([ 14.,   5.,   2.,   4.,   0.,   1.,   0.,   5.,  20.,  11.,   8.,\n",
       "          5.,   2.,   3.,   0.,   2.,   2.,   2.,   0.,   3.]),\n",
       " array([ 0.00481508,  0.04030367,  0.07579226,  0.11128085,  0.14676944,\n",
       "         0.18225803,  0.21774661,  0.2532352 ,  0.28872379,  0.32421238,\n",
       "         0.35970097,  0.39518956,  0.43067814,  0.46616673,  0.50165532,\n",
       "         0.53714391,  0.5726325 ,  0.60812109,  0.64360967,  0.67909826,\n",
       "         0.71458685]),\n",
       " <a list of 20 Patch objects>)"
      ]
     },
     "execution_count": 100,
     "metadata": {},
     "output_type": "execute_result"
    },
    {
     "data": {
      "image/png": "[encoded data removed]",
      "text/plain": [
       "<matplotlib.figure.Figure at 0x7f247bfb9250>"
      ]
     },
     "metadata": {},
     "output_type": "display_data"
    }
   ],
   "source": [
    "plt.figure(); plt.hist(pred_mouse['linear-raw-stacker'], bins=20)"
   ]
  },
  {
   "cell_type": "code",
   "execution_count": 101,
   "metadata": {
    "collapsed": false
   },
   "outputs": [],
   "source": [
    "def get_performance(prediction, truth, metric='spearman'):\n",
    "    performance = {}\n",
    "    for k in prediction.keys():\n",
    "        if metric == 'spearman':\n",
    "            performance[k] = sp.stats.spearmanr(prediction[k], truth)[0]\n",
    "        elif metric == 'pearson':\n",
    "            performance[k] = sp.stats.pearsonr(prediction[k].flatten(), truth.values.flatten())[0]\n",
    "            \n",
    "    return performance\n",
    "\n",
    "performance_mouse = get_performance(pred_mouse, mouse_data['GUIDE-SEQ Reads'])"
   ]
  },
  {
   "cell_type": "markdown",
   "metadata": {},
   "source": [
    "# Hsu data (n=825)"
   ]
  },
  {
   "cell_type": "markdown",
   "metadata": {},
   "source": [
    "linear-raw: 0.419, product=0.408"
   ]
  },
  {
   "cell_type": "code",
   "execution_count": 102,
   "metadata": {
    "collapsed": false
   },
   "outputs": [
    {
     "name": "stdout",
     "output_type": "stream",
     "text": [
      "reading and featurizing Hsu-Zhang data...\n",
      "Done. Now saving to file: ../../data/offtarget/2013.HsuZhang.DNAtargetingSpec.NBT.SITab5.p\n"
     ]
    }
   ],
   "source": [
    "hsu_data = elevation.prediction_pipeline.load_Hsu(learn_options)"
   ]
  },
  {
   "cell_type": "code",
   "execution_count": 137,
   "metadata": {
    "collapsed": false
   },
   "outputs": [
    {
     "name": "stdout",
     "output_type": "stream",
     "text": [
      "Loading CFD table from file\n",
      "elapsed:  0.109152078629\n",
      "Spearman r: CFD=0.272 product=0.457 linear-raw-stacker=0.459 HsuZhang=0.527 CCTOP=0.444 \n",
      "NDCG: CFD=0.680 product=0.748 linear-raw-stacker=0.748 HsuZhang=0.795 CCTOP=0.797 \n"
     ]
    }
   ],
   "source": [
    "nb_pred, individual_mut_pred_hsu = elevation.prediction_pipeline.predict(base_model, hsu_data, learn_options)\n",
    "pred_hsu = elevation.prediction_pipeline.stacked_predictions(hsu_data, individual_mut_pred_hsu, \n",
    "                                                             truth=hsu_data[\"GUIDE-SEQ Reads\"], \n",
    "                                                             models=['CFD', 'product', 'linear-raw-stacker',\n",
    "                                                                    'HsuZhang', 'CCTOP'],\n",
    "                                                             guideseq_data=guideseq_data_nofilter, \n",
    "                                                             preds_guideseq=preds_guideseq_nofilter, \n",
    "                                                             prob_calibration_model=None,#prob_calibration_model,\n",
    "                                                            learn_options=learn_options)"
   ]
  },
  {
   "cell_type": "code",
   "execution_count": 127,
   "metadata": {
    "collapsed": false
   },
   "outputs": [],
   "source": [
    "t2, pv_hsu, corr_cfd, corr_stack, corr_cfd_stack = util.get_pval_from_predictions(pred_hsu['CFD'].flatten(), \n",
    "                                                                     pred_hsu['linear-raw-stacker'].flatten(),  \n",
    "                                                                     hsu_data[\"GUIDE-SEQ Reads\"].values.flatten(), \n",
    "                                                                     twotailed=False, method='steiger')"
   ]
  },
  {
   "cell_type": "code",
   "execution_count": 105,
   "metadata": {
    "collapsed": false
   },
   "outputs": [
    {
     "name": "stdout",
     "output_type": "stream",
     "text": [
      "0.271849960318 0.100442809062\n",
      "6.12258092031e-05\n"
     ]
    }
   ],
   "source": [
    "print corr_cfd, corr_stack\n",
    "print pv_hsu"
   ]
  },
  {
   "cell_type": "code",
   "execution_count": 106,
   "metadata": {
    "collapsed": false
   },
   "outputs": [
    {
     "data": {
      "text/plain": [
       "(array([  12.,    0.,   20.,    2.,   52.,   56.,   64.,  318.,   54.,\n",
       "           7.,  100.,    8.,    0.,    8.,    0.,    8.,   88.,   14.,\n",
       "           0.,   14.]),\n",
       " array([ 0.11054789,  0.14183468,  0.17312147,  0.20440826,  0.23569505,\n",
       "         0.26698184,  0.29826863,  0.32955542,  0.36084221,  0.392129  ,\n",
       "         0.42341579,  0.45470258,  0.48598937,  0.51727616,  0.54856295,\n",
       "         0.57984974,  0.61113653,  0.64242332,  0.67371012,  0.70499691,\n",
       "         0.7362837 ]),\n",
       " <a list of 20 Patch objects>)"
      ]
     },
     "execution_count": 106,
     "metadata": {},
     "output_type": "execute_result"
    },
    {
     "data": {
      "image/png": "[encoded data removed]",
      "text/plain": [
       "<matplotlib.figure.Figure at 0x7f247fe0c990>"
      ]
     },
     "metadata": {},
     "output_type": "display_data"
    }
   ],
   "source": [
    "plt.figure(); plt.hist(pred_hsu['linear-raw-stacker'], bins=20)"
   ]
  },
  {
   "cell_type": "code",
   "execution_count": 107,
   "metadata": {
    "collapsed": true
   },
   "outputs": [],
   "source": [
    "performance_hsu = get_performance(pred_hsu, hsu_data['GUIDE-SEQ Reads'])"
   ]
  },
  {
   "cell_type": "markdown",
   "metadata": {},
   "source": [
    "# Frock et al. Supplementary Table 3 data (n=33)"
   ]
  },
  {
   "cell_type": "markdown",
   "metadata": {},
   "source": [
    "GP-stacker=0.344 CFD=0.159 product=0.316 linear-raw-stacker=0.366 logistic stacker=0.397 "
   ]
  },
  {
   "cell_type": "code",
   "execution_count": 138,
   "metadata": {
    "collapsed": false
   },
   "outputs": [
    {
     "name": "stdout",
     "output_type": "stream",
     "text": [
      "Loading CFD table from file\n",
      "elapsed:  0.11224603653\n",
      "Spearman r: CFD=0.159 product=0.326 linear-raw-stacker=0.211 logistic stacker=0.417 constant-power=0.278 HsuZhang=0.309 CCTOP=0.248 \n",
      "NDCG: CFD=0.631 product=0.704 linear-raw-stacker=0.695 logistic stacker=0.706 constant-power=0.588 HsuZhang=0.561 CCTOP=0.634 \n"
     ]
    }
   ],
   "source": [
    "nb_pred, individual_mut_pred_frock = elevation.prediction_pipeline.predict(base_model, frock_data_ST3, learn_options)\n",
    "pred_frock_t3 = elevation.prediction_pipeline.stacked_predictions(frock_data_ST3, individual_mut_pred_frock, \n",
    "                                                             truth=frock_data_ST3[\"GUIDE-SEQ Reads\"], \n",
    "                                                             models=[ 'CFD', 'product', 'linear-raw-stacker',\n",
    "                                                                                'logistic stacker', 'constant-power', 'HsuZhang',\n",
    "                                                                     'CCTOP'],\n",
    "                                                             guideseq_data=guideseq_data_nofilter, \n",
    "                                                             preds_guideseq=preds_guideseq_nofilter, \n",
    "                                                             prob_calibration_model=None,#prob_calibration_model,\n",
    "                                                              learn_options=learn_options)"
   ]
  },
  {
   "cell_type": "code",
   "execution_count": 133,
   "metadata": {
    "collapsed": false
   },
   "outputs": [
    {
     "name": "stdout",
     "output_type": "stream",
     "text": [
      "0.308515084222 0.170120320856\n",
      "0.25060685124\n"
     ]
    }
   ],
   "source": [
    "t2, pv_frocks3, corr_cfd, corr_stack, corr_cfd_stack = util.get_pval_from_predictions(pred_frock_t3['HsuZhang'].flatten(), \n",
    "                                                                     pred_frock_t3['linear-raw-stacker'].flatten(),  \n",
    "                                                                     frock_data_ST3[\"GUIDE-SEQ Reads\"].values.flatten(), \n",
    "                                                                     twotailed=False, method='steiger')\n",
    "print corr_cfd, corr_stack\n",
    "print pv_frocks3"
   ]
  },
  {
   "cell_type": "code",
   "execution_count": 110,
   "metadata": {
    "collapsed": false
   },
   "outputs": [
    {
     "data": {
      "text/plain": [
       "(array([ 6.,  5.,  3.,  4.,  1.,  2.,  0.,  1.,  2.,  3.,  0.,  1.,  1.,\n",
       "         1.,  1.,  0.,  0.,  0.,  1.,  1.]),\n",
       " array([ 0.0039935 ,  0.00940504,  0.01481657,  0.02022811,  0.02563964,\n",
       "         0.03105118,  0.03646271,  0.04187425,  0.04728578,  0.05269731,\n",
       "         0.05810885,  0.06352038,  0.06893192,  0.07434345,  0.07975499,\n",
       "         0.08516652,  0.09057806,  0.09598959,  0.10140112,  0.10681266,\n",
       "         0.11222419]),\n",
       " <a list of 20 Patch objects>)"
      ]
     },
     "execution_count": 110,
     "metadata": {},
     "output_type": "execute_result"
    },
    {
     "data": {
      "image/png": "[encoded data removed]",
      "text/plain": [
       "<matplotlib.figure.Figure at 0x7f248002e410>"
      ]
     },
     "metadata": {},
     "output_type": "display_data"
    }
   ],
   "source": [
    "plt.figure(); plt.hist(pred_frock_t3['linear-raw-stacker'], bins=20)"
   ]
  },
  {
   "cell_type": "code",
   "execution_count": 111,
   "metadata": {
    "collapsed": true
   },
   "outputs": [],
   "source": [
    "performance_frockt3 = get_performance(pred_frock_t3, frock_data_ST3['GUIDE-SEQ Reads'])"
   ]
  },
  {
   "cell_type": "markdown",
   "metadata": {},
   "source": [
    "# Frock et al. Supplementary Table 7 data (n=51)"
   ]
  },
  {
   "cell_type": "markdown",
   "metadata": {},
   "source": [
    "Spearman r: GP-stacker=0.546 CFD=0.435 product=0.539 linear-raw-stacker=0.554 logistic stacker=0.492 "
   ]
  },
  {
   "cell_type": "code",
   "execution_count": 139,
   "metadata": {
    "collapsed": false
   },
   "outputs": [
    {
     "name": "stdout",
     "output_type": "stream",
     "text": [
      "Loading CFD table from file\n",
      "elapsed:  0.127134084702\n",
      "Spearman r: CFD=0.435 product=0.512 linear-raw-stacker=0.539 logistic stacker=0.473 constant-power=0.426 HsuZhang=0.490 CCTOP=0.471 \n",
      "NDCG: CFD=0.830 product=0.677 linear-raw-stacker=0.677 logistic stacker=0.738 constant-power=0.675 HsuZhang=0.699 CCTOP=0.836 \n"
     ]
    }
   ],
   "source": [
    "nb_pred, individual_mut_pred_frock = elevation.prediction_pipeline.predict(base_model, frock_data_ST7, learn_options)\n",
    "pred_frock_t7, m_stack, f_stack = elevation.prediction_pipeline.stacked_predictions(frock_data_ST7, individual_mut_pred_frock, \n",
    "                                                             truth=frock_data_ST7[\"GUIDE-SEQ Reads\"], \n",
    "                                                             models=['CFD', 'product', 'linear-raw-stacker',\n",
    "                                                                                'logistic stacker', 'constant-power', 'HsuZhang',\n",
    "                                                                    'CCTOP'],\n",
    "                                                             guideseq_data=guideseq_data, \n",
    "                                                             preds_guideseq=preds_guideseq, \n",
    "                                                             prob_calibration_model=None,#prob_calibration_model,\n",
    "                                                              learn_options=learn_options, \n",
    "                                                              return_model = True)"
   ]
  },
  {
   "cell_type": "code",
   "execution_count": 131,
   "metadata": {
    "collapsed": false
   },
   "outputs": [
    {
     "name": "stdout",
     "output_type": "stream",
     "text": [
      "0.4899196753 0.504355697508\n",
      "0.44667344305\n"
     ]
    }
   ],
   "source": [
    "t2, pv_frocks7, corr_cfd, corr_stack, corr_cfd_stack = util.get_pval_from_predictions(pred_frock_t7['HsuZhang'].flatten(), \n",
    "                                                                     pred_frock_t7['linear-raw-stacker'].flatten(),  \n",
    "                                                                     frock_data_ST7[\"GUIDE-SEQ Reads\"].values.flatten(), \n",
    "                                                                     twotailed=False, method='steiger')\n",
    "print corr_cfd, corr_stack\n",
    "print pv_frocks7"
   ]
  },
  {
   "cell_type": "code",
   "execution_count": 132,
   "metadata": {
    "collapsed": false
   },
   "outputs": [
    {
     "data": {
      "text/plain": [
       "(array([  3.,   4.,   4.,  11.,  11.,   2.,   4.,   2.,   3.,   1.,   0.,\n",
       "          1.,   0.,   3.,   0.,   0.,   0.,   0.,   0.,   2.]),\n",
       " array([ 0.00397202,  0.04310192,  0.08223182,  0.12136172,  0.16049161,\n",
       "         0.19962151,  0.23875141,  0.27788131,  0.31701121,  0.3561411 ,\n",
       "         0.395271  ,  0.4344009 ,  0.4735308 ,  0.5126607 ,  0.55179059,\n",
       "         0.59092049,  0.63005039,  0.66918029,  0.70831019,  0.74744008,\n",
       "         0.78656998]),\n",
       " <a list of 20 Patch objects>)"
      ]
     },
     "execution_count": 132,
     "metadata": {},
     "output_type": "execute_result"
    },
    {
     "data": {
      "image/png": "[encoded data removed]",
      "text/plain": [
       "<matplotlib.figure.Figure at 0x7f247fce4bd0>"
      ]
     },
     "metadata": {},
     "output_type": "display_data"
    }
   ],
   "source": [
    "plt.figure(); plt.hist(pred_frock_t7['linear-raw-stacker'], bins=20)"
   ]
  },
  {
   "cell_type": "code",
   "execution_count": 115,
   "metadata": {
    "collapsed": false
   },
   "outputs": [],
   "source": [
    "performance_frockt7 = get_performance(pred_frock_t7, frock_data_ST7['GUIDE-SEQ Reads'])"
   ]
  },
  {
   "cell_type": "markdown",
   "metadata": {},
   "source": [
    "# Cross-validate CD33"
   ]
  },
  {
   "cell_type": "code",
   "execution_count": 1199,
   "metadata": {
    "collapsed": false
   },
   "outputs": [
    {
     "name": "stdout",
     "output_type": "stream",
     "text": [
      "Received option CV=False, so I'm training using all of the data\n",
      "running AdaBoost, order 1 for final\n",
      "MKL not available, so I'm not adjusting the number of threads\n",
      "Launching 1 jobs with 1 MKL threads each\n",
      "loading processed data from file: ../../data/offtarget/CD33.processed.[4, 27, 30].pamfiltTrue.p...\n",
      "done.\n",
      "{'bandwidth': 0.23000000000000001}\n",
      "featurizing data...\n",
      "done.\n",
      "range of y_all is [0.000002, 1.000000]\n",
      "filename = VCD33AdaBoostRegressor.order1Day21-ETP.gene.spearman\n",
      "Cross-validating genes...\n",
      "Adaboost with GridSearch\n",
      "Fitting 10 folds for each of 240 candidates, totalling 2400 fits\n"
     ]
    },
    {
     "name": "stderr",
     "output_type": "stream",
     "text": [
      "[Parallel(n_jobs=20)]: Done  10 tasks      | elapsed:    3.7s\n"
     ]
    },
    {
     "ename": "KeyboardInterrupt",
     "evalue": "",
     "output_type": "error",
     "traceback": [
      "\u001b[1;31m---------------------------------------------------------------------------\u001b[0m",
      "\u001b[1;31mKeyboardInterrupt\u001b[0m                         Traceback (most recent call last)",
      "\u001b[1;32m<ipython-input-1199-8014af3380cd>\u001b[0m in \u001b[0;36m<module>\u001b[1;34m()\u001b[0m\n\u001b[0;32m     17\u001b[0m     \u001b[0mlearn_options_fold\u001b[0m \u001b[1;33m=\u001b[0m \u001b[0mcopy\u001b[0m\u001b[1;33m.\u001b[0m\u001b[0mdeepcopy\u001b[0m\u001b[1;33m(\u001b[0m\u001b[0mlearn_options\u001b[0m\u001b[1;33m)\u001b[0m\u001b[1;33m\u001b[0m\u001b[0m\n\u001b[0;32m     18\u001b[0m     \u001b[0mlearn_options_fold\u001b[0m\u001b[1;33m[\u001b[0m\u001b[1;34m'training_indices'\u001b[0m\u001b[1;33m]\u001b[0m \u001b[1;33m=\u001b[0m \u001b[0mtrain\u001b[0m\u001b[1;33m\u001b[0m\u001b[0m\n\u001b[1;32m---> 19\u001b[1;33m     \u001b[0mbase_model_i\u001b[0m \u001b[1;33m=\u001b[0m \u001b[0mtrain_base_model\u001b[0m\u001b[1;33m(\u001b[0m\u001b[0mlearn_options_fold\u001b[0m\u001b[1;33m)\u001b[0m\u001b[1;33m[\u001b[0m\u001b[1;36m0\u001b[0m\u001b[1;33m]\u001b[0m\u001b[1;33m\u001b[0m\u001b[0m\n\u001b[0m\u001b[0;32m     20\u001b[0m     preds_guideseq_i = elevation.prediction_pipeline.predict_guideseq(base_model_i, guideseq_data, learn_options_fold,\n\u001b[0;32m     21\u001b[0m                                                                     naive_bayes_combine=True)\n",
      "\u001b[1;32m/media/nicolo/projects/CRISPR/code/elevation/elevation/prediction_pipeline.py\u001b[0m in \u001b[0;36mtrain_base_model\u001b[1;34m(learn_options)\u001b[0m\n\u001b[0;32m     62\u001b[0m                                                 \u001b[0mlearn_options_set\u001b[0m\u001b[1;33m=\u001b[0m\u001b[1;33m{\u001b[0m\u001b[1;34m'final'\u001b[0m\u001b[1;33m:\u001b[0m \u001b[0mlearn_options\u001b[0m\u001b[1;33m}\u001b[0m\u001b[1;33m,\u001b[0m\u001b[1;33m\u001b[0m\u001b[0m\n\u001b[0;32m     63\u001b[0m                                                 \u001b[0mtest\u001b[0m\u001b[1;33m=\u001b[0m\u001b[0mFalse\u001b[0m\u001b[1;33m,\u001b[0m \u001b[0mCV\u001b[0m\u001b[1;33m=\u001b[0m\u001b[0mFalse\u001b[0m\u001b[1;33m,\u001b[0m \u001b[0msetup_function\u001b[0m\u001b[1;33m=\u001b[0m\u001b[0msetup_elevation\u001b[0m\u001b[1;33m,\u001b[0m\u001b[1;33m\u001b[0m\u001b[0m\n\u001b[1;32m---> 64\u001b[1;33m                                                 set_target_fn=set_target_elevation, pam_audit=False, length_audit=False)\n\u001b[0m\u001b[0;32m     65\u001b[0m \u001b[1;33m\u001b[0m\u001b[0m\n\u001b[0;32m     66\u001b[0m     \u001b[1;32mif\u001b[0m \u001b[0mdebug_base_model_predictions\u001b[0m\u001b[1;33m:\u001b[0m\u001b[1;33m\u001b[0m\u001b[0m\n",
      "\u001b[1;32m/media/nicolo/projects/CRISPR/code/azimuth/azimuth/model_comparison.pyc\u001b[0m in \u001b[0;36mrun_models\u001b[1;34m(models, orders, GP_likelihoods, WD_kernel_degrees, adaboost_learning_rates, adaboost_num_estimators, adaboost_max_depths, learn_options_set, test, CV, setup_function, set_target_fn, pam_audit, length_audit, return_data)\u001b[0m\n\u001b[0;32m    354\u001b[0m                         \u001b[0mmodel_string\u001b[0m \u001b[1;33m=\u001b[0m \u001b[0mfeat_models_short\u001b[0m\u001b[1;33m[\u001b[0m\u001b[0mmodel\u001b[0m\u001b[1;33m]\u001b[0m \u001b[1;33m+\u001b[0m \u001b[1;34m'_ord%d_%s'\u001b[0m \u001b[1;33m%\u001b[0m \u001b[1;33m(\u001b[0m\u001b[0mlearn_options_set\u001b[0m\u001b[1;33m[\u001b[0m\u001b[0mlearn_options_str\u001b[0m\u001b[1;33m]\u001b[0m\u001b[1;33m[\u001b[0m\u001b[1;34m\"order\"\u001b[0m\u001b[1;33m]\u001b[0m\u001b[1;33m,\u001b[0m \u001b[0mlearn_options_str\u001b[0m\u001b[1;33m)\u001b[0m\u001b[1;33m\u001b[0m\u001b[0m\n\u001b[0;32m    355\u001b[0m \u001b[1;33m\u001b[0m\u001b[0m\n\u001b[1;32m--> 356\u001b[1;33m                     \u001b[0mresults\u001b[0m\u001b[1;33m[\u001b[0m\u001b[0mmodel_string\u001b[0m\u001b[1;33m]\u001b[0m \u001b[1;33m=\u001b[0m \u001b[0mpd\u001b[0m\u001b[1;33m.\u001b[0m\u001b[0mcross_validate\u001b[0m\u001b[1;33m(\u001b[0m\u001b[0mY\u001b[0m\u001b[1;33m,\u001b[0m \u001b[0mfeature_sets\u001b[0m\u001b[1;33m,\u001b[0m \u001b[0mlearn_options\u001b[0m\u001b[1;33m=\u001b[0m\u001b[0mlearn_options_model\u001b[0m\u001b[1;33m,\u001b[0m \u001b[0mTEST\u001b[0m\u001b[1;33m=\u001b[0m\u001b[0mtest\u001b[0m\u001b[1;33m,\u001b[0m \u001b[0mCV\u001b[0m\u001b[1;33m=\u001b[0m\u001b[0mCV\u001b[0m\u001b[1;33m)\u001b[0m\u001b[1;33m\u001b[0m\u001b[0m\n\u001b[0m\u001b[0;32m    357\u001b[0m \u001b[1;33m\u001b[0m\u001b[0m\n\u001b[0;32m    358\u001b[0m                     \u001b[0mall_learn_options\u001b[0m\u001b[1;33m[\u001b[0m\u001b[0mmodel_string\u001b[0m\u001b[1;33m]\u001b[0m \u001b[1;33m=\u001b[0m \u001b[0mlearn_options_model\u001b[0m\u001b[1;33m\u001b[0m\u001b[0m\n",
      "\u001b[1;32m/media/nicolo/projects/CRISPR/code/azimuth/azimuth/predict.pyc\u001b[0m in \u001b[0;36mcross_validate\u001b[1;34m(y_all, feature_sets, learn_options, TEST, train_genes, CV)\u001b[0m\n\u001b[0;32m    314\u001b[0m                 \u001b[0my_pred\u001b[0m\u001b[1;33m,\u001b[0m \u001b[0mm\u001b[0m\u001b[1;33m[\u001b[0m\u001b[0mi\u001b[0m\u001b[1;33m]\u001b[0m \u001b[1;33m=\u001b[0m \u001b[0mazimuth\u001b[0m\u001b[1;33m.\u001b[0m\u001b[0mmodels\u001b[0m\u001b[1;33m.\u001b[0m\u001b[0mregression\u001b[0m\u001b[1;33m.\u001b[0m\u001b[0mlogreg_on_fold\u001b[0m\u001b[1;33m(\u001b[0m\u001b[0mfeature_sets\u001b[0m\u001b[1;33m,\u001b[0m \u001b[0mtrain\u001b[0m\u001b[1;33m,\u001b[0m \u001b[0mtest\u001b[0m\u001b[1;33m,\u001b[0m \u001b[0my\u001b[0m\u001b[1;33m,\u001b[0m \u001b[0my_all\u001b[0m\u001b[1;33m,\u001b[0m \u001b[0minputs\u001b[0m\u001b[1;33m,\u001b[0m \u001b[0mdim\u001b[0m\u001b[1;33m,\u001b[0m \u001b[0mdimsum\u001b[0m\u001b[1;33m,\u001b[0m \u001b[0mlearn_options\u001b[0m\u001b[1;33m)\u001b[0m\u001b[1;33m\u001b[0m\u001b[0m\n\u001b[0;32m    315\u001b[0m             \u001b[1;32melif\u001b[0m \u001b[0mlearn_options\u001b[0m\u001b[1;33m[\u001b[0m\u001b[1;34m\"method\"\u001b[0m\u001b[1;33m]\u001b[0m\u001b[1;33m==\u001b[0m\u001b[1;34m\"AdaBoostRegressor\"\u001b[0m\u001b[1;33m:\u001b[0m\u001b[1;33m\u001b[0m\u001b[0m\n\u001b[1;32m--> 316\u001b[1;33m                  \u001b[0my_pred\u001b[0m\u001b[1;33m,\u001b[0m \u001b[0mm\u001b[0m\u001b[1;33m[\u001b[0m\u001b[0mi\u001b[0m\u001b[1;33m]\u001b[0m \u001b[1;33m=\u001b[0m \u001b[0mazimuth\u001b[0m\u001b[1;33m.\u001b[0m\u001b[0mmodels\u001b[0m\u001b[1;33m.\u001b[0m\u001b[0mensembles\u001b[0m\u001b[1;33m.\u001b[0m\u001b[0madaboost_on_fold\u001b[0m\u001b[1;33m(\u001b[0m\u001b[0mfeature_sets\u001b[0m\u001b[1;33m,\u001b[0m \u001b[0mtrain\u001b[0m\u001b[1;33m,\u001b[0m \u001b[0mtest\u001b[0m\u001b[1;33m,\u001b[0m \u001b[0my\u001b[0m\u001b[1;33m,\u001b[0m \u001b[0my_all\u001b[0m\u001b[1;33m,\u001b[0m \u001b[0minputs\u001b[0m\u001b[1;33m,\u001b[0m \u001b[0mdim\u001b[0m\u001b[1;33m,\u001b[0m \u001b[0mdimsum\u001b[0m\u001b[1;33m,\u001b[0m \u001b[0mlearn_options\u001b[0m\u001b[1;33m,\u001b[0m \u001b[0mclassification\u001b[0m\u001b[1;33m=\u001b[0m\u001b[0mFalse\u001b[0m\u001b[1;33m)\u001b[0m\u001b[1;33m\u001b[0m\u001b[0m\n\u001b[0m\u001b[0;32m    317\u001b[0m             \u001b[1;32melif\u001b[0m \u001b[0mlearn_options\u001b[0m\u001b[1;33m[\u001b[0m\u001b[1;34m\"method\"\u001b[0m\u001b[1;33m]\u001b[0m\u001b[1;33m==\u001b[0m\u001b[1;34m\"AdaBoostClassifier\"\u001b[0m\u001b[1;33m:\u001b[0m\u001b[1;33m\u001b[0m\u001b[0m\n\u001b[0;32m    318\u001b[0m                  \u001b[0my_pred\u001b[0m\u001b[1;33m,\u001b[0m \u001b[0mm\u001b[0m\u001b[1;33m[\u001b[0m\u001b[0mi\u001b[0m\u001b[1;33m]\u001b[0m \u001b[1;33m=\u001b[0m \u001b[0mazimuth\u001b[0m\u001b[1;33m.\u001b[0m\u001b[0mmodels\u001b[0m\u001b[1;33m.\u001b[0m\u001b[0mensembles\u001b[0m\u001b[1;33m.\u001b[0m\u001b[0madaboost_on_fold\u001b[0m\u001b[1;33m(\u001b[0m\u001b[0mfeature_sets\u001b[0m\u001b[1;33m,\u001b[0m \u001b[0mtrain\u001b[0m\u001b[1;33m,\u001b[0m \u001b[0mtest\u001b[0m\u001b[1;33m,\u001b[0m \u001b[0my\u001b[0m\u001b[1;33m,\u001b[0m \u001b[0my_all\u001b[0m\u001b[1;33m,\u001b[0m \u001b[0minputs\u001b[0m\u001b[1;33m,\u001b[0m \u001b[0mdim\u001b[0m\u001b[1;33m,\u001b[0m \u001b[0mdimsum\u001b[0m\u001b[1;33m,\u001b[0m \u001b[0mlearn_options\u001b[0m\u001b[1;33m,\u001b[0m \u001b[0mclassification\u001b[0m\u001b[1;33m=\u001b[0m\u001b[0mTrue\u001b[0m\u001b[1;33m)\u001b[0m\u001b[1;33m\u001b[0m\u001b[0m\n",
      "\u001b[1;32m/media/nicolo/projects/CRISPR/code/azimuth/azimuth/models/ensembles.pyc\u001b[0m in \u001b[0;36madaboost_on_fold\u001b[1;34m(feature_sets, train, test, y, y_all, X, dim, dimsum, learn_options, classification)\u001b[0m\n\u001b[0;32m    101\u001b[0m                  \u001b[0mest\u001b[0m \u001b[1;33m=\u001b[0m \u001b[0men\u001b[0m\u001b[1;33m.\u001b[0m\u001b[0mGradientBoostingRegressor\u001b[0m\u001b[1;33m(\u001b[0m\u001b[0mloss\u001b[0m\u001b[1;33m=\u001b[0m\u001b[0mlearn_options\u001b[0m\u001b[1;33m[\u001b[0m\u001b[1;34m'adaboost_loss'\u001b[0m\u001b[1;33m]\u001b[0m\u001b[1;33m)\u001b[0m\u001b[1;31m#, n_estimators=learn_options['adaboost_n_estimators'])\u001b[0m\u001b[1;33m\u001b[0m\u001b[0m\n\u001b[0;32m    102\u001b[0m                  \u001b[0mclf\u001b[0m \u001b[1;33m=\u001b[0m \u001b[0mGridSearchCV\u001b[0m\u001b[1;33m(\u001b[0m\u001b[0mest\u001b[0m\u001b[1;33m,\u001b[0m \u001b[0mparam_grid\u001b[0m\u001b[1;33m,\u001b[0m \u001b[0mn_jobs\u001b[0m\u001b[1;33m=\u001b[0m\u001b[0mn_jobs\u001b[0m\u001b[1;33m,\u001b[0m \u001b[0mverbose\u001b[0m\u001b[1;33m=\u001b[0m\u001b[1;36m1\u001b[0m\u001b[1;33m,\u001b[0m \u001b[0mcv\u001b[0m\u001b[1;33m=\u001b[0m\u001b[0mcv\u001b[0m\u001b[1;33m,\u001b[0m \u001b[0mscoring\u001b[0m\u001b[1;33m=\u001b[0m\u001b[0mspearman_scoring\u001b[0m\u001b[1;33m,\u001b[0m \u001b[0miid\u001b[0m\u001b[1;33m=\u001b[0m\u001b[0mFalse\u001b[0m\u001b[1;33m)\u001b[0m\u001b[1;33m\u001b[0m\u001b[0m\n\u001b[1;32m--> 103\u001b[1;33m                  \u001b[0mclf\u001b[0m\u001b[1;33m.\u001b[0m\u001b[0mfit\u001b[0m\u001b[1;33m(\u001b[0m\u001b[0mX\u001b[0m\u001b[1;33m[\u001b[0m\u001b[0mtrain\u001b[0m\u001b[1;33m]\u001b[0m\u001b[1;33m,\u001b[0m \u001b[0my\u001b[0m\u001b[1;33m[\u001b[0m\u001b[0mtrain\u001b[0m\u001b[1;33m]\u001b[0m\u001b[1;33m.\u001b[0m\u001b[0mflatten\u001b[0m\u001b[1;33m(\u001b[0m\u001b[1;33m)\u001b[0m\u001b[1;33m)\u001b[0m\u001b[1;33m\u001b[0m\u001b[0m\n\u001b[0m\u001b[0;32m    104\u001b[0m                  \u001b[1;32mprint\u001b[0m \u001b[0mclf\u001b[0m\u001b[1;33m.\u001b[0m\u001b[0mbest_params_\u001b[0m\u001b[1;33m\u001b[0m\u001b[0m\n\u001b[0;32m    105\u001b[0m             \u001b[1;32melse\u001b[0m\u001b[1;33m:\u001b[0m\u001b[1;33m\u001b[0m\u001b[0m\n",
      "\u001b[1;32m/home/nicolo/anaconda3/envs/python2/lib/python2.7/site-packages/sklearn/grid_search.pyc\u001b[0m in \u001b[0;36mfit\u001b[1;34m(self, X, y)\u001b[0m\n\u001b[0;32m    802\u001b[0m \u001b[1;33m\u001b[0m\u001b[0m\n\u001b[0;32m    803\u001b[0m         \"\"\"\n\u001b[1;32m--> 804\u001b[1;33m         \u001b[1;32mreturn\u001b[0m \u001b[0mself\u001b[0m\u001b[1;33m.\u001b[0m\u001b[0m_fit\u001b[0m\u001b[1;33m(\u001b[0m\u001b[0mX\u001b[0m\u001b[1;33m,\u001b[0m \u001b[0my\u001b[0m\u001b[1;33m,\u001b[0m \u001b[0mParameterGrid\u001b[0m\u001b[1;33m(\u001b[0m\u001b[0mself\u001b[0m\u001b[1;33m.\u001b[0m\u001b[0mparam_grid\u001b[0m\u001b[1;33m)\u001b[0m\u001b[1;33m)\u001b[0m\u001b[1;33m\u001b[0m\u001b[0m\n\u001b[0m\u001b[0;32m    805\u001b[0m \u001b[1;33m\u001b[0m\u001b[0m\n\u001b[0;32m    806\u001b[0m \u001b[1;33m\u001b[0m\u001b[0m\n",
      "\u001b[1;32m/home/nicolo/anaconda3/envs/python2/lib/python2.7/site-packages/sklearn/grid_search.pyc\u001b[0m in \u001b[0;36m_fit\u001b[1;34m(self, X, y, parameter_iterable)\u001b[0m\n\u001b[0;32m    551\u001b[0m                                     \u001b[0mself\u001b[0m\u001b[1;33m.\u001b[0m\u001b[0mfit_params\u001b[0m\u001b[1;33m,\u001b[0m \u001b[0mreturn_parameters\u001b[0m\u001b[1;33m=\u001b[0m\u001b[0mTrue\u001b[0m\u001b[1;33m,\u001b[0m\u001b[1;33m\u001b[0m\u001b[0m\n\u001b[0;32m    552\u001b[0m                                     error_score=self.error_score)\n\u001b[1;32m--> 553\u001b[1;33m                 \u001b[1;32mfor\u001b[0m \u001b[0mparameters\u001b[0m \u001b[1;32min\u001b[0m \u001b[0mparameter_iterable\u001b[0m\u001b[1;33m\u001b[0m\u001b[0m\n\u001b[0m\u001b[0;32m    554\u001b[0m                 for train, test in cv)\n\u001b[0;32m    555\u001b[0m \u001b[1;33m\u001b[0m\u001b[0m\n",
      "\u001b[1;32m/home/nicolo/anaconda3/envs/python2/lib/python2.7/site-packages/sklearn/externals/joblib/parallel.pyc\u001b[0m in \u001b[0;36m__call__\u001b[1;34m(self, iterable)\u001b[0m\n\u001b[0;32m    808\u001b[0m                 \u001b[1;31m# consumption.\u001b[0m\u001b[1;33m\u001b[0m\u001b[1;33m\u001b[0m\u001b[0m\n\u001b[0;32m    809\u001b[0m                 \u001b[0mself\u001b[0m\u001b[1;33m.\u001b[0m\u001b[0m_iterating\u001b[0m \u001b[1;33m=\u001b[0m \u001b[0mFalse\u001b[0m\u001b[1;33m\u001b[0m\u001b[0m\n\u001b[1;32m--> 810\u001b[1;33m             \u001b[0mself\u001b[0m\u001b[1;33m.\u001b[0m\u001b[0mretrieve\u001b[0m\u001b[1;33m(\u001b[0m\u001b[1;33m)\u001b[0m\u001b[1;33m\u001b[0m\u001b[0m\n\u001b[0m\u001b[0;32m    811\u001b[0m             \u001b[1;31m# Make sure that we get a last message telling us we are done\u001b[0m\u001b[1;33m\u001b[0m\u001b[1;33m\u001b[0m\u001b[0m\n\u001b[0;32m    812\u001b[0m             \u001b[0melapsed_time\u001b[0m \u001b[1;33m=\u001b[0m \u001b[0mtime\u001b[0m\u001b[1;33m.\u001b[0m\u001b[0mtime\u001b[0m\u001b[1;33m(\u001b[0m\u001b[1;33m)\u001b[0m \u001b[1;33m-\u001b[0m \u001b[0mself\u001b[0m\u001b[1;33m.\u001b[0m\u001b[0m_start_time\u001b[0m\u001b[1;33m\u001b[0m\u001b[0m\n",
      "\u001b[1;32m/home/nicolo/anaconda3/envs/python2/lib/python2.7/site-packages/sklearn/externals/joblib/parallel.pyc\u001b[0m in \u001b[0;36mretrieve\u001b[1;34m(self)\u001b[0m\n\u001b[0;32m    755\u001b[0m                     \u001b[1;31m# a working pool as they expect.\u001b[0m\u001b[1;33m\u001b[0m\u001b[1;33m\u001b[0m\u001b[0m\n\u001b[0;32m    756\u001b[0m                     \u001b[0mself\u001b[0m\u001b[1;33m.\u001b[0m\u001b[0m_initialize_pool\u001b[0m\u001b[1;33m(\u001b[0m\u001b[1;33m)\u001b[0m\u001b[1;33m\u001b[0m\u001b[0m\n\u001b[1;32m--> 757\u001b[1;33m                 \u001b[1;32mraise\u001b[0m \u001b[0mexception\u001b[0m\u001b[1;33m\u001b[0m\u001b[0m\n\u001b[0m\u001b[0;32m    758\u001b[0m \u001b[1;33m\u001b[0m\u001b[0m\n\u001b[0;32m    759\u001b[0m     \u001b[1;32mdef\u001b[0m \u001b[0m__call__\u001b[0m\u001b[1;33m(\u001b[0m\u001b[0mself\u001b[0m\u001b[1;33m,\u001b[0m \u001b[0miterable\u001b[0m\u001b[1;33m)\u001b[0m\u001b[1;33m:\u001b[0m\u001b[1;33m\u001b[0m\u001b[0m\n",
      "\u001b[1;31mKeyboardInterrupt\u001b[0m: "
     ]
    }
   ],
   "source": [
    "# %%capture\n",
    "import copy\n",
    "label_encoder = sklearn.preprocessing.LabelEncoder()\n",
    "cv_classes = label_encoder.fit_transform(cd33_data['Category'])\n",
    "\n",
    "skf = sklearn.cross_validation.StratifiedKFold(cv_classes, n_folds=20, shuffle=True)\n",
    "# skf = sklearn.cross_validation.KFold(cd33_data.shape[0], n_folds=20, shuffle=True)\n",
    "spearman_scores_cd33 = {'CFD': [], 'ours': [], 'product': [], 'hsu':[]}\n",
    "pearson_scores_cd33 = {'CFD': [], 'ours': [], 'product': [], 'hsu':[]}\n",
    "cfd_all_preds_cd33 = np.zeros((len(cv_classes)))\n",
    "ours_all_preds_cd33 = np.zeros((len(cv_classes)))\n",
    "product_all_preds_cd33 = np.zeros((len(cv_classes)))\n",
    "all_truth_cd33 = np.zeros((len(cv_classes)))\n",
    "categories = np.zeros((len(cv_classes)))\n",
    "\n",
    "for train, test in skf:\n",
    "    learn_options_fold = copy.deepcopy(learn_options)\n",
    "    learn_options_fold['training_indices'] = train\n",
    "    base_model_i = train_base_model(learn_options_fold)[0]\n",
    "    preds_guideseq_i = elevation.prediction_pipeline.predict_guideseq(base_model_i, guideseq_data, learn_options_fold,\n",
    "                                                                    naive_bayes_combine=True)\n",
    "    \n",
    "    nb_pred, individual_mut_predictions = predict(base_model_i, cd33_data.iloc[test], learn_options)\n",
    "    \n",
    "    preds_all = elevation.prediction_pipeline.stacked_predictions(cd33_data.iloc[test], individual_mut_predictions, \n",
    "                                                             models=['linear-raw-stacker', 'HsuZhang'],\n",
    "                                                             guideseq_data=guideseq_data, \n",
    "                                                             preds_guideseq=preds_guideseq_i, \n",
    "                                                             use_mut_distances=False,\n",
    "                                                             prob_calibration_model=None,\n",
    "                                                              learn_options=learn_options_fold)\n",
    "    \n",
    "    \n",
    "    preds_i = preds_all['linear-raw-stacker']\n",
    "    preds_ih = preds_all['HsuZhang']\n",
    "\n",
    "    cfd_train = make_cfd_from_data(learn_options=learn_options_fold)\n",
    "    m1 = elevation.models.CFDModel(cfd_table=cfd_train)\n",
    "    cfd_pred =  m1.predict(cd33_data.iloc[test]['Annotation'])\n",
    "    truth = cd33_data.iloc[test]['Day21-ETP']\n",
    "\n",
    "    all_truth_cd33[test] = truth.copy()\n",
    "    ours_all_preds_cd33[test] = nb_pred.copy()\n",
    "    cfd_all_preds_cd33[test] = cfd_pred.copy()\n",
    "    categories[test] = cv_classes[test]\n",
    "\n",
    "    spearman_scores_cd33['ours'].append(sp.stats.spearmanr(preds_i, truth)[0])\n",
    "    spearman_scores_cd33['product'].append(sp.stats.spearmanr(nb_pred, truth)[0])\n",
    "    spearman_scores_cd33['CFD'].append(sp.stats.spearmanr(cfd_pred, truth)[0])\n",
    "    spearman_scores_cd33['hsu'].append(sp.stats.spearmanr(preds_ih, truth)[0])\n",
    "    pearson_scores_cd33['product'].append(sp.stats.pearsonr(nb_pred, truth)[0])\n",
    "    pearson_scores_cd33['ours'].append(sp.stats.pearsonr(preds_i, truth)[0])\n",
    "    pearson_scores_cd33['CFD'].append(sp.stats.pearsonr(cfd_pred, truth)[0])\n",
    "    print spearman_scores_cd33"
   ]
  },
  {
   "cell_type": "code",
   "execution_count": null,
   "metadata": {
    "collapsed": false
   },
   "outputs": [],
   "source": [
    "spearman_scores_cd33"
   ]
  },
  {
   "cell_type": "markdown",
   "metadata": {
    "collapsed": true
   },
   "source": [
    "# Figures and statistics"
   ]
  },
  {
   "cell_type": "markdown",
   "metadata": {},
   "source": [
    "### 1) CD33 cross validation"
   ]
  },
  {
   "cell_type": "code",
   "execution_count": 1115,
   "metadata": {
    "collapsed": false
   },
   "outputs": [
    {
     "name": "stdout",
     "output_type": "stream",
     "text": [
      "ours, median Spearman 0.7842, median Pearson 0.7696\n",
      "CFD, median Spearman 0.5936, median Pearson 0.5660\n",
      "product, median Spearman 0.7852, median Pearson 0.7732\n",
      "hsu, median Spearman 0.3456, median Pearson nan\n"
     ]
    },
    {
     "name": "stderr",
     "output_type": "stream",
     "text": [
      " /home/nicolo/anaconda3/envs/python2/lib/python2.7/site-packages/numpy/core/_methods.py:59: RuntimeWarning:Mean of empty slice.\n"
     ]
    }
   ],
   "source": [
    "for k in spearman_scores_cd33.keys():\n",
    "    print \"%s, median Spearman %.4f, median Pearson %.4f\" % (k, np.median(spearman_scores_cd33[k]), np.median(pearson_scores_cd33[k]))"
   ]
  },
  {
   "cell_type": "code",
   "execution_count": 1116,
   "metadata": {
    "collapsed": false
   },
   "outputs": [
    {
     "name": "stdout",
     "output_type": "stream",
     "text": [
      "Steiger pv: 0.0000\n"
     ]
    }
   ],
   "source": [
    "t2, pv, corr_cfd, corr_bm, corr01 = util.get_pval_from_predictions(cfd_all_preds_cd33, ours_all_preds_cd33, all_truth_cd33, \n",
    "                                                                        twotailed=False, method='steiger')\n",
    "print \"Steiger pv: %.4f\" % pv"
   ]
  },
  {
   "cell_type": "markdown",
   "metadata": {},
   "source": [
    "### 2) Guideseq"
   ]
  },
  {
   "cell_type": "code",
   "execution_count": 1117,
   "metadata": {
    "collapsed": false
   },
   "outputs": [
    {
     "name": "stdout",
     "output_type": "stream",
     "text": [
      "CFD, median Spearman 0.7624, median Pearson 0.6572\n",
      "linear-raw-stacker, median Spearman 0.8333, median Pearson 0.7555\n"
     ]
    }
   ],
   "source": [
    "models_to_print = ['CFD', 'linear-raw-stacker']\n",
    "for k in models_to_print:\n",
    "    sp_k = np.median([sp.stats.spearmanr(predictions_gs[k][c], truth_gs[c])[0] for c in range(len(predictions_gs[k]))])\n",
    "    pe_k = np.median([sp.stats.pearsonr(predictions_gs[k][c].flatten(), truth_gs[c].flatten())[0] for c in range(len(predictions_gs[k]))])\n",
    "    print \"%s, median Spearman %.4f, median Pearson %.4f\" % (k, sp_k, pe_k)"
   ]
  },
  {
   "cell_type": "code",
   "execution_count": null,
   "metadata": {
    "collapsed": true
   },
   "outputs": [],
   "source": [
    "# TODO steiger"
   ]
  },
  {
   "cell_type": "code",
   "execution_count": null,
   "metadata": {
    "collapsed": false
   },
   "outputs": [],
   "source": []
  },
  {
   "cell_type": "code",
   "execution_count": 1200,
   "metadata": {
    "collapsed": false
   },
   "outputs": [
    {
     "ename": "AttributeError",
     "evalue": "'GridSearchCV' object has no attribute 'feature_importances_'",
     "output_type": "error",
     "traceback": [
      "\u001b[1;31m---------------------------------------------------------------------------\u001b[0m",
      "\u001b[1;31mAttributeError\u001b[0m                            Traceback (most recent call last)",
      "\u001b[1;32m<ipython-input-1200-324df75cb9ab>\u001b[0m in \u001b[0;36m<module>\u001b[1;34m()\u001b[0m\n\u001b[1;32m----> 1\u001b[1;33m \u001b[0mfeat\u001b[0m \u001b[1;33m=\u001b[0m \u001b[0mpandas\u001b[0m\u001b[1;33m.\u001b[0m\u001b[0mDataFrame\u001b[0m\u001b[1;33m(\u001b[0m\u001b[0mindex\u001b[0m\u001b[1;33m=\u001b[0m\u001b[0mbase_feature_names\u001b[0m\u001b[1;33m,\u001b[0m \u001b[0mdata\u001b[0m\u001b[1;33m=\u001b[0m\u001b[0mbase_model\u001b[0m\u001b[1;33m.\u001b[0m\u001b[0mfeature_importances_\u001b[0m\u001b[1;33m,\u001b[0m \u001b[0mcolumns\u001b[0m\u001b[1;33m=\u001b[0m\u001b[1;33m[\u001b[0m\u001b[1;34m'Gini importance'\u001b[0m\u001b[1;33m]\u001b[0m\u001b[1;33m)\u001b[0m\u001b[1;33m\u001b[0m\u001b[0m\n\u001b[0m\u001b[0;32m      2\u001b[0m \u001b[0mfeat_sorted\u001b[0m \u001b[1;33m=\u001b[0m \u001b[0mfeat\u001b[0m\u001b[1;33m.\u001b[0m\u001b[0msort_values\u001b[0m\u001b[1;33m(\u001b[0m\u001b[0maxis\u001b[0m\u001b[1;33m=\u001b[0m\u001b[1;36m0\u001b[0m\u001b[1;33m,\u001b[0m \u001b[0mascending\u001b[0m\u001b[1;33m=\u001b[0m\u001b[0mFalse\u001b[0m\u001b[1;33m,\u001b[0m \u001b[0mby\u001b[0m\u001b[1;33m=\u001b[0m\u001b[1;34m'Gini importance'\u001b[0m\u001b[1;33m)\u001b[0m\u001b[1;33m\u001b[0m\u001b[0m\n\u001b[0;32m      3\u001b[0m \u001b[0mfeat_sorted_filt\u001b[0m \u001b[1;33m=\u001b[0m \u001b[0mfeat_sorted\u001b[0m\u001b[1;33m[\u001b[0m\u001b[0mfeat_sorted\u001b[0m\u001b[1;33m[\u001b[0m\u001b[1;34m'Gini importance'\u001b[0m\u001b[1;33m]\u001b[0m \u001b[1;33m>\u001b[0m \u001b[1;36m0\u001b[0m\u001b[1;33m]\u001b[0m\u001b[1;33m\u001b[0m\u001b[0m\n\u001b[0;32m      4\u001b[0m \u001b[1;33m\u001b[0m\u001b[0m\n\u001b[0;32m      5\u001b[0m \u001b[0mfeat_sorted\u001b[0m\u001b[1;33m.\u001b[0m\u001b[0mto_excel\u001b[0m\u001b[1;33m(\u001b[0m\u001b[1;34m'plots/base_model_feature_importances.xls'\u001b[0m\u001b[1;33m)\u001b[0m\u001b[1;33m\u001b[0m\u001b[0m\n",
      "\u001b[1;31mAttributeError\u001b[0m: 'GridSearchCV' object has no attribute 'feature_importances_'"
     ]
    }
   ],
   "source": [
    "feat = pandas.DataFrame(index=base_feature_names, data=base_model.feature_importances_, columns=['Gini importance'])\n",
    "feat_sorted = feat.sort_values(axis=0, ascending=False, by='Gini importance')\n",
    "feat_sorted_filt = feat_sorted[feat_sorted['Gini importance'] > 0]\n",
    "\n",
    "feat_sorted.to_excel('plots/base_model_feature_importances.xls')\n",
    "\n",
    "feature_groups = {'nucleotides': [],\n",
    "                  'mutation ident.': [],\n",
    "                  'mutation position': [],\n",
    "                  'mutation trans.': [],\n",
    "                  'GC content': []}\n",
    "\n",
    "for f in feat_sorted_filt.index:\n",
    "    if \":\" in f:\n",
    "        feature_groups['mutation ident.'].append(f)\n",
    "    elif \"pos\" in f:\n",
    "        feature_groups['mutation position'].append(f)\n",
    "    elif \"_\" in f:\n",
    "        feature_groups['nucleotides'].append(f)\n",
    "    elif \"GC \" in f:\n",
    "        feature_groups['GC content'].append(f)\n",
    "    elif 'trans' in f or 'translation' in f:\n",
    "        feature_groups['mutation trans.'].append(f)\n",
    "    else: # it's a PAM\n",
    "        feature_groups['mutation ident.'].append(f)\n",
    "        \n",
    "names, values = [], []\n",
    "for fg in feature_groups.keys():\n",
    "    names.append(fg)\n",
    "    values.append(feat_sorted_filt.loc[feature_groups[fg]].sum().values[0])\n",
    "\n",
    "ind = np.argsort(values)[::-1]\n",
    "names = np.array(names)[ind]\n",
    "values = np.array(values)[ind]\n",
    "plt.style.use(['seaborn-darkgrid', 'seaborn-paper'])\n",
    "# plt.style.use(['fivethirtyeight'])\n",
    "plt.figure(facecolor='white')\n",
    "w = 0.4\n",
    "matplotlib.rcParams.update({'xtick.labelsize': 10,\n",
    "                           'ytick.labelsize': 10,\n",
    "                           'axes.labelsize': 10,\n",
    "                           'font.size': 10,\n",
    "                           'savefig.facecolor': 'white', })\n",
    "plt.ylabel('Gini importance')\n",
    "plt.bar(np.arange(len(values))+w, values, w)\n",
    "plt.xticks(np.arange(len(values))+w+w/2, names, rotation=0)\n",
    "plt.savefig('plots/base_feature_importances.pdf')"
   ]
  },
  {
   "cell_type": "code",
   "execution_count": 1201,
   "metadata": {
    "collapsed": false
   },
   "outputs": [
    {
     "ename": "IndexError",
     "evalue": "cannot do a non-empty take from an empty axes.",
     "output_type": "error",
     "traceback": [
      "\u001b[1;31m---------------------------------------------------------------------------\u001b[0m",
      "\u001b[1;31mIndexError\u001b[0m                                Traceback (most recent call last)",
      "\u001b[1;32m<ipython-input-1201-d5377ff20b56>\u001b[0m in \u001b[0;36m<module>\u001b[1;34m()\u001b[0m\n\u001b[0;32m     31\u001b[0m \u001b[1;33m\u001b[0m\u001b[0m\n\u001b[0;32m     32\u001b[0m errors = {'CFD':\n\u001b[1;32m---> 33\u001b[1;33m                  [[np.abs(np.percentile(spearman_scores_cd33['CFD'], 25) - values['CFD'][0]), \n\u001b[0m\u001b[0;32m     34\u001b[0m                    np.abs(np.percentile(spearman_scores_cd33['CFD'], 75) - values['CFD'][0])],\n\u001b[0;32m     35\u001b[0m                   [np.abs(np.percentile(performance_gs.T['CFD'], 25) - values['CFD'][1]), \n",
      "\u001b[1;32m/home/nicolo/anaconda3/envs/python2/lib/python2.7/site-packages/numpy/lib/function_base.pyc\u001b[0m in \u001b[0;36mpercentile\u001b[1;34m(a, q, axis, out, overwrite_input, interpolation, keepdims)\u001b[0m\n\u001b[0;32m   3686\u001b[0m     r, k = _ureduce(a, func=_percentile, q=q, axis=axis, out=out,\n\u001b[0;32m   3687\u001b[0m                     \u001b[0moverwrite_input\u001b[0m\u001b[1;33m=\u001b[0m\u001b[0moverwrite_input\u001b[0m\u001b[1;33m,\u001b[0m\u001b[1;33m\u001b[0m\u001b[0m\n\u001b[1;32m-> 3688\u001b[1;33m                     interpolation=interpolation)\n\u001b[0m\u001b[0;32m   3689\u001b[0m     \u001b[1;32mif\u001b[0m \u001b[0mkeepdims\u001b[0m\u001b[1;33m:\u001b[0m\u001b[1;33m\u001b[0m\u001b[0m\n\u001b[0;32m   3690\u001b[0m         \u001b[1;32mif\u001b[0m \u001b[0mq\u001b[0m\u001b[1;33m.\u001b[0m\u001b[0mndim\u001b[0m \u001b[1;33m==\u001b[0m \u001b[1;36m0\u001b[0m\u001b[1;33m:\u001b[0m\u001b[1;33m\u001b[0m\u001b[0m\n",
      "\u001b[1;32m/home/nicolo/anaconda3/envs/python2/lib/python2.7/site-packages/numpy/lib/function_base.pyc\u001b[0m in \u001b[0;36m_ureduce\u001b[1;34m(a, func, **kwargs)\u001b[0m\n\u001b[0;32m   3412\u001b[0m         \u001b[0mkeepdim\u001b[0m \u001b[1;33m=\u001b[0m \u001b[1;33m[\u001b[0m\u001b[1;36m1\u001b[0m\u001b[1;33m]\u001b[0m \u001b[1;33m*\u001b[0m \u001b[0ma\u001b[0m\u001b[1;33m.\u001b[0m\u001b[0mndim\u001b[0m\u001b[1;33m\u001b[0m\u001b[0m\n\u001b[0;32m   3413\u001b[0m \u001b[1;33m\u001b[0m\u001b[0m\n\u001b[1;32m-> 3414\u001b[1;33m     \u001b[0mr\u001b[0m \u001b[1;33m=\u001b[0m \u001b[0mfunc\u001b[0m\u001b[1;33m(\u001b[0m\u001b[0ma\u001b[0m\u001b[1;33m,\u001b[0m \u001b[1;33m**\u001b[0m\u001b[0mkwargs\u001b[0m\u001b[1;33m)\u001b[0m\u001b[1;33m\u001b[0m\u001b[0m\n\u001b[0m\u001b[0;32m   3415\u001b[0m     \u001b[1;32mreturn\u001b[0m \u001b[0mr\u001b[0m\u001b[1;33m,\u001b[0m \u001b[0mkeepdim\u001b[0m\u001b[1;33m\u001b[0m\u001b[0m\n\u001b[0;32m   3416\u001b[0m \u001b[1;33m\u001b[0m\u001b[0m\n",
      "\u001b[1;32m/home/nicolo/anaconda3/envs/python2/lib/python2.7/site-packages/numpy/lib/function_base.pyc\u001b[0m in \u001b[0;36m_percentile\u001b[1;34m(a, q, axis, out, overwrite_input, interpolation, keepdims)\u001b[0m\n\u001b[0;32m   3803\u001b[0m             \u001b[0mn\u001b[0m \u001b[1;33m=\u001b[0m \u001b[0mnp\u001b[0m\u001b[1;33m.\u001b[0m\u001b[0misnan\u001b[0m\u001b[1;33m(\u001b[0m\u001b[0map\u001b[0m\u001b[1;33m[\u001b[0m\u001b[1;33m-\u001b[0m\u001b[1;36m1\u001b[0m\u001b[1;33m:\u001b[0m\u001b[1;33m,\u001b[0m \u001b[1;33m.\u001b[0m\u001b[1;33m.\u001b[0m\u001b[1;33m.\u001b[0m\u001b[1;33m]\u001b[0m\u001b[1;33m)\u001b[0m\u001b[1;33m\u001b[0m\u001b[0m\n\u001b[0;32m   3804\u001b[0m \u001b[1;33m\u001b[0m\u001b[0m\n\u001b[1;32m-> 3805\u001b[1;33m         \u001b[0mx1\u001b[0m \u001b[1;33m=\u001b[0m \u001b[0mtake\u001b[0m\u001b[1;33m(\u001b[0m\u001b[0map\u001b[0m\u001b[1;33m,\u001b[0m \u001b[0mindices_below\u001b[0m\u001b[1;33m,\u001b[0m \u001b[0maxis\u001b[0m\u001b[1;33m=\u001b[0m\u001b[0maxis\u001b[0m\u001b[1;33m)\u001b[0m \u001b[1;33m*\u001b[0m \u001b[0mweights_below\u001b[0m\u001b[1;33m\u001b[0m\u001b[0m\n\u001b[0m\u001b[0;32m   3806\u001b[0m         \u001b[0mx2\u001b[0m \u001b[1;33m=\u001b[0m \u001b[0mtake\u001b[0m\u001b[1;33m(\u001b[0m\u001b[0map\u001b[0m\u001b[1;33m,\u001b[0m \u001b[0mindices_above\u001b[0m\u001b[1;33m,\u001b[0m \u001b[0maxis\u001b[0m\u001b[1;33m=\u001b[0m\u001b[0maxis\u001b[0m\u001b[1;33m)\u001b[0m \u001b[1;33m*\u001b[0m \u001b[0mweights_above\u001b[0m\u001b[1;33m\u001b[0m\u001b[0m\n\u001b[0;32m   3807\u001b[0m \u001b[1;33m\u001b[0m\u001b[0m\n",
      "\u001b[1;32m/home/nicolo/anaconda3/envs/python2/lib/python2.7/site-packages/numpy/core/fromnumeric.pyc\u001b[0m in \u001b[0;36mtake\u001b[1;34m(a, indices, axis, out, mode)\u001b[0m\n\u001b[0;32m    122\u001b[0m     \u001b[1;32mexcept\u001b[0m \u001b[0mAttributeError\u001b[0m\u001b[1;33m:\u001b[0m\u001b[1;33m\u001b[0m\u001b[0m\n\u001b[0;32m    123\u001b[0m         \u001b[1;32mreturn\u001b[0m \u001b[0m_wrapit\u001b[0m\u001b[1;33m(\u001b[0m\u001b[0ma\u001b[0m\u001b[1;33m,\u001b[0m \u001b[1;34m'take'\u001b[0m\u001b[1;33m,\u001b[0m \u001b[0mindices\u001b[0m\u001b[1;33m,\u001b[0m \u001b[0maxis\u001b[0m\u001b[1;33m,\u001b[0m \u001b[0mout\u001b[0m\u001b[1;33m,\u001b[0m \u001b[0mmode\u001b[0m\u001b[1;33m)\u001b[0m\u001b[1;33m\u001b[0m\u001b[0m\n\u001b[1;32m--> 124\u001b[1;33m     \u001b[1;32mreturn\u001b[0m \u001b[0mtake\u001b[0m\u001b[1;33m(\u001b[0m\u001b[0mindices\u001b[0m\u001b[1;33m,\u001b[0m \u001b[0maxis\u001b[0m\u001b[1;33m,\u001b[0m \u001b[0mout\u001b[0m\u001b[1;33m,\u001b[0m \u001b[0mmode\u001b[0m\u001b[1;33m)\u001b[0m\u001b[1;33m\u001b[0m\u001b[0m\n\u001b[0m\u001b[0;32m    125\u001b[0m \u001b[1;33m\u001b[0m\u001b[0m\n\u001b[0;32m    126\u001b[0m \u001b[1;33m\u001b[0m\u001b[0m\n",
      "\u001b[1;31mIndexError\u001b[0m: cannot do a non-empty take from an empty axes."
     ]
    }
   ],
   "source": [
    "names = ['CD33\\n(N=%d)' % len(cd33_data), \n",
    "         'GUIDE-seq\\n(N=%d)' % len(guideseq_data),  \n",
    "         'Hsu et al.\\n(N=%d)' % len(hsu_data), \n",
    "         'Frock et al. S3\\n(N=%d)' % len(frock_data_ST3), \n",
    "         'Frock et al. S7\\n(N=%d)' % len(frock_data_ST7),\n",
    "        'Mouse\\n(N=%d)' % len(mouse_data),]\n",
    "values = {'CFD': [np.median(spearman_scores_cd33['CFD']), \n",
    "                  np.median(performance_gs.T['CFD'].values),\n",
    "                 performance_hsu['CFD'],\n",
    "                 performance_frockt3['CFD'],\n",
    "                 performance_frockt7['CFD'],\n",
    "                 performance_mouse['CFD'],],\n",
    "          'us': [np.median(spearman_scores_cd33['ours']), \n",
    "                 np.median(performance_gs.T['linear-raw-stacker'].values),\n",
    "                 performance_hsu['linear-raw-stacker'],\n",
    "                 performance_frockt3['linear-raw-stacker'],\n",
    "                 performance_frockt7['linear-raw-stacker'],\n",
    "                performance_mouse['linear-raw-stacker'],],\n",
    "          'product': [np.median(spearman_scores_cd33['product']), \n",
    "                      np.median(performance_gs.T['product'].values),\n",
    "                     performance_hsu['product'],\n",
    "                     performance_frockt3['product'],\n",
    "                     performance_frockt7['product'],\n",
    "                     performance_mouse['product'],],\n",
    "         'hsu': [np.median(spearman_scores_cd33['hsu']),\n",
    "                 np.median(performance_gs.T['HsuZhang'].values),\n",
    "                      0.0,\n",
    "                     performance_frockt3['HsuZhang'],\n",
    "                     performance_frockt7['HsuZhang'],\n",
    "                     performance_mouse['HsuZhang'],]} \n",
    "\n",
    "errors = {'CFD':\n",
    "                 [[np.abs(np.percentile(spearman_scores_cd33['CFD'], 25) - values['CFD'][0]), \n",
    "                   np.abs(np.percentile(spearman_scores_cd33['CFD'], 75) - values['CFD'][0])],\n",
    "                  [np.abs(np.percentile(performance_gs.T['CFD'], 25) - values['CFD'][1]), \n",
    "                   np.abs(np.percentile(performance_gs.T['CFD'], 75) - values['CFD'][1])]],\n",
    "          \n",
    "          'us':\n",
    "                 [[np.abs(np.percentile(spearman_scores_cd33['ours'], 25) - values['us'][0]), \n",
    "                   np.abs(np.percentile(spearman_scores_cd33['ours'], 75) - values['us'][0])],\n",
    "                  [np.abs(np.percentile(performance_gs.T['linear-raw-stacker'], 25) - values['us'][1]), \n",
    "                   np.abs(np.percentile(performance_gs.T['linear-raw-stacker'], 75) - values['us'][1])]],        \n",
    "          \n",
    "          'product':\n",
    "                 [[np.abs(np.percentile(spearman_scores_cd33['product'], 25) - values['product'][0]), \n",
    "                   np.abs(np.percentile(spearman_scores_cd33['product'], 75) - values['product'][0])],\n",
    "                  [np.abs(np.percentile(performance_gs.T['product'], 25) - values['product'][1]), \n",
    "                   np.abs(np.percentile(performance_gs.T['product'], 75) - values['product'][1])]],\n",
    "         \n",
    "          'hsu':\n",
    "                 [[np.abs(np.percentile(spearman_scores_cd33['product'], 25) - values['product'][0]), \n",
    "                   np.abs(np.percentile(spearman_scores_cd33['product'], 75) - values['product'][0])],\n",
    "                  [np.abs(np.percentile(performance_gs.T['HsuZhang'], 25) - values['hsu'][1]), \n",
    "                   np.abs(np.percentile(performance_gs.T['HsuZhang'], 75) - values['hsu'][1])]],\n",
    "         \n",
    "         \n",
    "         }\n",
    "\n",
    "def get_stars(pv):\n",
    "    if pv <= 0.01:\n",
    "        return \"***\"\n",
    "    if pv <= 0.025:\n",
    "        return \"**\"\n",
    "    if pv <= 0.05:\n",
    "        return \"*\"\n",
    "    else:\n",
    "        return \"\"\n",
    "    \n",
    "stars = [get_stars(p) for p in [0.0, pv_gs_steiger, pv_hsu, pv_frocks3, pv_frocks7, pv_mouse]]\n",
    "\n",
    "cfd_color = '#d7191c'\n",
    "naive_color = '#fdae61'\n",
    "elevation_color = '#2c7bb6'\n",
    "ind = np.arange(len(names))\n",
    "width = 0.15\n",
    "\n",
    "matplotlib.rcParams.update({'xtick.labelsize': 10,\n",
    "                           'ytick.labelsize': 10,\n",
    "                           'axes.labelsize': 10,\n",
    "                           'font.size': 12,\n",
    "                           'legend.fontsize': 11})\n",
    "\n",
    "plt.figure(figsize=(8, 6), facecolor='white')\n",
    "\n",
    "plt.bar(ind[:2], values['CFD'][:2], width, yerr=np.array(errors['CFD']).T, color=cfd_color, error_kw={'elinewidth': 0.7, 'ecolor': 'k'})\n",
    "plt.bar(ind[2:], values['CFD'][2:], width, color=cfd_color, label='CFD')\n",
    "\n",
    "plt.bar(ind[:2]+width, values['product'][:2], width, yerr=np.array(errors['product']).T, color=naive_color, error_kw={'elinewidth': 0.7, 'ecolor': 'k'})\n",
    "plt.bar(ind[2:]+width, values['product'][2:], width, color=naive_color, label='Elevation-naive')\n",
    "\n",
    "plt.bar(ind[:2]+width*2, values['us'][:2], width, yerr=np.array(errors['us']).T, color=elevation_color, error_kw={'elinewidth': 0.7, 'ecolor': 'k'})\n",
    "plt.bar(ind[2:]+width*2, values['us'][2:], width, color=elevation_color, label='Elevation')\n",
    "\n",
    "plt.bar(ind[:2]+width*3, values['hsu'][:2], width, yerr=np.array(errors['hsu']).T, color='k', label='Hsu', error_kw={'elinewidth': 0.7, 'ecolor': 'k'})\n",
    "plt.bar(ind[2:]+width*3, values['hsu'][2:], width,  color='k', error_kw={'elinewidth': 0.7, 'ecolor': 'k'})\n",
    "\n",
    "plt.legend(loc=0)\n",
    "plt.ylim(0.0, 1.0)\n",
    "plt.ylabel('Spearman correlation')\n",
    "plt.xticks(ind+width+width/2., names)\n",
    "\n",
    "for i in range(len(values['us'])):\n",
    "    pos = values['us'][i]\n",
    "\n",
    "    plt.text(ind[i]+width+width, pos+0.08, stars[i])\n",
    "    \n",
    "plt.savefig('plots/Spearman_across_data.pdf')"
   ]
  },
  {
   "cell_type": "code",
   "execution_count": null,
   "metadata": {
    "collapsed": false
   },
   "outputs": [],
   "source": [
    "names = ['CD33\\n(N=%d)' % len(cd33_data), \n",
    "         'GUIDE-seq\\n(N=%d)' % len(guideseq_data),  \n",
    "         'Hsu et al.\\n(N=%d)' % len(hsu_data), \n",
    "         'Frock et al. S3\\n(N=%d)' % len(frock_data_ST3), \n",
    "         'Frock et al. S7\\n(N=%d)' % len(frock_data_ST7),\n",
    "        'Mouse\\n(N=%d)' % len(mouse_data),]\n",
    "\n",
    "performance_mouse_p = get_performance(pred_mouse, mouse_data['GUIDE-SEQ Reads'], 'pearson')\n",
    "performance_frockt7_p = get_performance(pred_frock_t7, frock_data_ST7['GUIDE-SEQ Reads'], 'pearson')\n",
    "performance_frockt3_p = get_performance(pred_frock_t3, frock_data_ST3['GUIDE-SEQ Reads'], 'pearson')\n",
    "performance_hsu_p = get_performance(pred_hsu, hsu_data['GUIDE-SEQ Reads'], 'pearson')\n",
    "performance_gs_p = pandas.DataFrame(data=np.zeros((len(predictions_gs.keys()), len(truth_gs))), \n",
    "                                    columns=['Fold %d' % (i+1) for i in range(len(truth_gs))], \n",
    "                                    index=[model for model in predictions_gs.keys()])\n",
    "for fold in range(len(truth_gs)):\n",
    "    for model in predictions_gs.keys():\n",
    "        performance_gs_p['Fold %d' % (fold+1)].T[model] = sp.stats.pearsonr(predictions_gs[model][fold].flatten(), truth_gs[fold].flatten())[0]\n",
    "        \n",
    "values = {'CFD': [np.median(pearson_scores_cd33['CFD']), \n",
    "                  np.median(performance_gs_p.T['CFD'].values),\n",
    "                 performance_hsu_p['CFD'],\n",
    "                 performance_frockt3_p['CFD'],\n",
    "                 performance_frockt7_p['CFD'],\n",
    "                 performance_mouse_p['CFD'],],\n",
    "          'us': [np.median(spearman_scores_cd33['ours']), \n",
    "                 np.median(performance_gs_p.T['linear-raw-stacker'].values),\n",
    "                 performance_hsu_p['linear-raw-stacker'],\n",
    "                 performance_frockt3_p['linear-raw-stacker'],\n",
    "                 performance_frockt7_p['linear-raw-stacker'],\n",
    "                performance_mouse_p['linear-raw-stacker'],],\n",
    "          'product': [np.median(spearman_scores_cd33['product']), \n",
    "                      np.median(performance_gs_p.T['product'].values),\n",
    "                     performance_hsu_p['product'],\n",
    "                     performance_frockt3_p['product'],\n",
    "                     performance_frockt7_p['product'],\n",
    "                     performance_mouse_p['product'],]} \n",
    "\n",
    "errors = {'CFD':\n",
    "                 [[np.abs(np.percentile(pearson_scores_cd33['CFD'], 25) - values['CFD'][0]), \n",
    "                   np.abs(np.percentile(pearson_scores_cd33['CFD'], 75) - values['CFD'][0])],\n",
    "                  [np.abs(np.percentile(performance_gs_p.T['CFD'], 25) - values['CFD'][1]), \n",
    "                   np.abs(np.percentile(performance_gs_p.T['CFD'], 75) - values['CFD'][1])]],\n",
    "          \n",
    "          'us':\n",
    "                 [[np.abs(np.percentile(pearson_scores_cd33['ours'], 25) - values['us'][0]), \n",
    "                   np.abs(np.percentile(pearson_scores_cd33['ours'], 75) - values['us'][0])],\n",
    "                  [np.abs(np.percentile(performance_gs_p.T['linear-raw-stacker'], 25) - values['us'][1]), \n",
    "                   np.abs(np.percentile(performance_gs_p.T['linear-raw-stacker'], 75) - values['us'][1])]],        \n",
    "          \n",
    "          'product':\n",
    "                 [[np.abs(np.percentile(pearson_scores_cd33['product'], 25) - values['product'][0]), \n",
    "                   np.abs(np.percentile(pearson_scores_cd33['product'], 75) - values['product'][0])],\n",
    "                  [np.abs(np.percentile(performance_gs_p.T['product'], 25) - values['product'][1]), \n",
    "                   np.abs(np.percentile(performance_gs_p.T['product'], 75) - values['product'][1])]]}\n",
    "\n",
    "def get_stars(pv):\n",
    "    if pv <= 0.01:\n",
    "        return \"***\"\n",
    "    if pv <= 0.025:\n",
    "        return \"**\"\n",
    "    if pv <= 0.05:\n",
    "        return \"*\"\n",
    "    else:\n",
    "        return \"\"\n",
    "    \n",
    "stars = [get_stars(p) for p in [0.0, pv_gs_steiger, pv_hsu, pv_frocks3, pv_frocks7, pv_mouse]]\n",
    "\n",
    "cfd_color = '#d7191c'\n",
    "naive_color = '#fdae61'\n",
    "elevation_color = '#2c7bb6'\n",
    "ind = np.arange(len(names))\n",
    "width = 0.25\n",
    "\n",
    "matplotlib.rcParams.update({'xtick.labelsize': 10,\n",
    "                           'ytick.labelsize': 10,\n",
    "                           'axes.labelsize': 10,\n",
    "                           'font.size': 12,\n",
    "                           'legend.fontsize': 11})\n",
    "\n",
    "plt.figure(figsize=(8, 6), facecolor='white')\n",
    "plt.bar(ind[:2], values['CFD'][:2], width, yerr=np.array(errors['CFD']).T, color=cfd_color, error_kw={'elinewidth': 0.7, 'ecolor': 'k'})\n",
    "plt.bar(ind[2:], values['CFD'][2:], width, color=cfd_color, label='CFD')\n",
    "plt.bar(ind[:2]+width, values['product'][:2], width, yerr=np.array(errors['product']).T, color=naive_color, error_kw={'elinewidth': 0.7, 'ecolor': 'k'})\n",
    "plt.bar(ind[2:]+width, values['product'][2:], width, color=naive_color, label='Elevation-naive')\n",
    "plt.bar(ind[:2]+width*2, values['us'][:2], width, yerr=np.array(errors['us']).T, color=elevation_color, error_kw={'elinewidth': 0.7, 'ecolor': 'k'})\n",
    "plt.bar(ind[2:]+width*2, values['us'][2:], width, color=elevation_color, label='Elevation')\n",
    "\n",
    "\n",
    "plt.legend(loc=0)\n",
    "plt.ylim(0.0, 1.0)\n",
    "plt.ylabel('Pearson correlation')\n",
    "plt.xticks(ind+width+width/2., names)\n",
    "\n",
    "for i in range(len(values['us'])):\n",
    "    pos = values['us'][i]\n",
    "\n",
    "    plt.text(ind[i]+width, pos+0.08, stars[i])\n",
    "    \n",
    "plt.savefig('plots/Pearson_across_data.pdf')"
   ]
  },
  {
   "cell_type": "code",
   "execution_count": null,
   "metadata": {
    "collapsed": false
   },
   "outputs": [],
   "source": [
    "predictions_gs['CFD'], truth_gs"
   ]
  },
  {
   "cell_type": "code",
   "execution_count": null,
   "metadata": {
    "collapsed": false
   },
   "outputs": [],
   "source": [
    "plt.figure(facecolor='white')\n",
    "coef = m_stack.coef_\n",
    "\n",
    "meta_coef = coef[-3:]\n",
    "nucl_coef = coef[:-3]\n",
    "\n",
    "names = []\n",
    "for n in f_stack:\n",
    "    if 'pos' in n:\n",
    "        l = n.replace('pos', '')\n",
    "        if l == '21':\n",
    "            l = 'N'\n",
    "        names.append(l)\n",
    "    elif 'annotations' in n:\n",
    "        names.append(n.replace('annotations', 'mismatches'))\n",
    "    else:\n",
    "        names.append(n)\n",
    "        \n",
    "ind = np.arange(len(coef))\n",
    "width = 0.8\n",
    "plt.bar(ind[:-3], nucl_coef, width, color=elevation_color)\n",
    "plt.bar(ind[-3:], meta_coef, width, color=cfd_color)\n",
    "plt.xticks(ind+width/2., names, rotation=90)\n",
    "#bbox_inches='tight'\n",
    "plt.tight_layout()\n",
    "plt.ylabel('feature weight')\n",
    "plt.savefig('plots/stacker_feat_importances.pdf')\n",
    "#plt.xticks(ind[-3:]+width/2., names[-3:], rotation=80)"
   ]
  },
  {
   "cell_type": "markdown",
   "metadata": {},
   "source": [
    "## Classification vs Regression"
   ]
  },
  {
   "cell_type": "code",
   "execution_count": null,
   "metadata": {
    "collapsed": true
   },
   "outputs": [],
   "source": [
    "learn_options_class = copy.deepcopy(learn_options)\n",
    "learn_options_class['models'] = ['AdaBoostClassifier']\n",
    "learn_options_class['phen_transform'] = 'binarize'"
   ]
  },
  {
   "cell_type": "code",
   "execution_count": null,
   "metadata": {
    "collapsed": false,
    "scrolled": true
   },
   "outputs": [],
   "source": [
    "base_model_class, base_feature_names_class = elevation.prediction_pipeline.train_base_model(learn_options_class)\n",
    "preds_guideseq_class = elevation.prediction_pipeline.predict_guideseq(base_model_class, guideseq_data, learn_options_class,\n",
    "                                                                naive_bayes_combine=True)\n",
    "predictions_gs_class, performance_gs_class, mismatches_gs_class, truth_gs_class, c_pred_class =  elevation.prediction_pipeline.cross_validate_guideseq(guideseq_data, \n",
    "                                                                                                     preds_guideseq_class, \n",
    "                                                                                                     learn_options_class,\n",
    "                                                                                models= ['GP-stacker', 'CFD', 'product',\n",
    "                                                                               'linear-raw-stacker'])"
   ]
  },
  {
   "cell_type": "markdown",
   "metadata": {},
   "source": [
    "## Old vs new features"
   ]
  },
  {
   "cell_type": "code",
   "execution_count": null,
   "metadata": {
    "collapsed": true
   },
   "outputs": [],
   "source": [
    "learn_options_feat = copy.deepcopy(learn_options)\n",
    "learn_options_feat['azimuth_feat'] = None\n",
    "learn_options_feat['annotation_decoupled_onehot'] = False\n",
    "learn_options_feat['annotation_onehot'] = True"
   ]
  },
  {
   "cell_type": "code",
   "execution_count": null,
   "metadata": {
    "collapsed": false,
    "scrolled": true
   },
   "outputs": [],
   "source": [
    "base_model_feat, base_feature_names_feat = elevation.prediction_pipeline.train_base_model(learn_options_feat)\n",
    "preds_guideseq_feat = elevation.prediction_pipeline.predict_guideseq(base_model_feat, guideseq_data, learn_options_feat,\n",
    "                                                                naive_bayes_combine=True)\n",
    "predictions_gs_feat, performance_gs_feat, mismatches_gs_feat, truth_gs_feat, c_pred_feat =  elevation.prediction_pipeline.cross_validate_guideseq(guideseq_data, \n",
    "                                                                                                     preds_guideseq_feat, \n",
    "                                                                                                     learn_options_feat,\n",
    "                                                                                models= ['GP-stacker', 'CFD', 'product',\n",
    "                                                                               'linear-raw-stacker'])"
   ]
  },
  {
   "cell_type": "code",
   "execution_count": null,
   "metadata": {
    "collapsed": false
   },
   "outputs": [],
   "source": [
    "values = [np.median(performance_gs.T['CFD']),\n",
    "          np.median(performance_gs.T['linear-raw-stacker']), \n",
    "          np.median(performance_gs_class.T['linear-raw-stacker']), \n",
    "          np.median(performance_gs_feat.T['linear-raw-stacker'])]\n",
    "\n",
    "errors = [[[np.abs(np.percentile(performance_gs.T['CFD'], 25) - values[0])], \n",
    "           [np.abs(np.percentile(performance_gs.T['CFD'], 75) - values[0])]],\n",
    "          \n",
    "          [[np.abs(np.percentile(performance_gs.T['linear-raw-stacker'], 25) - values[1])], \n",
    "           [np.abs(np.percentile(performance_gs.T['linear-raw-stacker'], 75) - values[1])]],\n",
    "          \n",
    "          [[np.abs(np.percentile(performance_gs_class.T['linear-raw-stacker'], 25) - values[2])], \n",
    "           [np.abs(np.percentile(performance_gs_class.T['linear-raw-stacker'], 75) - values[2])]],\n",
    "          \n",
    "          [[np.abs(np.percentile(performance_gs_feat.T['linear-raw-stacker'], 25) - values[3])], \n",
    "           [np.abs(np.percentile(performance_gs_feat.T['linear-raw-stacker'], 75) - values[3])]]]\n",
    "\n",
    "names = ['CFD', 'Elevation', 'Elevation-classification', 'Elevation-simple-feat']\n",
    "plt.figure(facecolor='white')\n",
    "ind = np.array([1])\n",
    "width=0.3\n",
    "plt.figure()\n",
    "plt.bar(ind, [values[0]], width, color=cfd_color, yerr=errors[0], label=names[0], error_kw={'elinewidth': 0.7, 'ecolor': 'k'})\n",
    "plt.bar(ind+width*1, [values[2]], width, color='#f4a582', yerr=errors[2], label=names[2], error_kw={'elinewidth': 0.7, 'ecolor': 'k'})\n",
    "plt.bar(ind+width*2, [values[3]], width, color='#92c5de', yerr=errors[3], label=names[3], error_kw={'elinewidth': 0.7, 'ecolor': 'k'})\n",
    "plt.bar(ind+width*3, [values[1]], width, color=elevation_color, yerr=errors[1], label=names[1], error_kw={'elinewidth': 0.7, 'ecolor': 'k'})\n",
    "plt.ylim(0.0, 0.7)\n",
    "plt.xlim(0.3, 4.0)\n",
    "plt.legend(loc=0)\n",
    "plt.ylabel('Spearman correlation')\n",
    "plt.xticks([])\n",
    "plt.savefig(\"plots/class_vs_feat_vs_elevation.pdf\")"
   ]
  },
  {
   "cell_type": "code",
   "execution_count": null,
   "metadata": {
    "collapsed": false
   },
   "outputs": [],
   "source": [
    "plt.plot(m_stack.alphas_, 'o-')"
   ]
  },
  {
   "cell_type": "code",
   "execution_count": null,
   "metadata": {
    "collapsed": false
   },
   "outputs": [],
   "source": [
    "m_stack.alphas_.min(), m_stack.alphas_.max() "
   ]
  },
  {
   "cell_type": "code",
   "execution_count": 1132,
   "metadata": {
    "collapsed": false
   },
   "outputs": [
    {
     "data": {
      "image/png": "[encoded data removed]",
      "text/plain": [
       "<matplotlib.figure.Figure at 0x7f6033e1fe50>"
      ]
     },
     "metadata": {},
     "output_type": "display_data"
    }
   ],
   "source": [
    "def median_dist(median, q1, q3):\n",
    "    return median, [[np.abs(q1-median)], [np.abs(q3-median)]]\n",
    "\n",
    "cd_33_exp = {'elevation': [0.78198, 0.754171, 0.793050],\n",
    "            'no position': [0.719615, 0.696937,0.732687],\n",
    "            'no mismatch nt': [0.697318, 0.681226, 0.719169],\n",
    "            'no nucleotide': [0.604790, 0.584646, 0.618526],\n",
    "            'no GC': [0.775354, 0.767718, 0.786855]}\n",
    "\n",
    "gs_exp = {'elevation': [0.595256, 0.398174, 0.641509],\n",
    "            'no position': [0.547643, 0.368088, 0.618912],\n",
    "            'no mismatch nt': [0.523239, 0.380507, 0.605046],\n",
    "            'no nucleotide': [0.523052, 0.407058,0.644489],\n",
    "            'no GC': [0.579782, 0.407438, 0.631960]}\n",
    "\n",
    "colors = ['#ca0020', '#f4a582', '#ffffbf', '#92c5de', '#0571b0']\n",
    "\n",
    "width=0.7/len(cd_33_exp.keys())\n",
    "ind = 0\n",
    "for i, n in enumerate(['elevation', 'no GC', 'no position', 'no mismatch nt', 'no nucleotide'][::-1]):\n",
    "    med, err = median_dist(*cd_33_exp[n])\n",
    "    plt.bar(ind+(width*i), med, width, color=colors[i], \n",
    "            yerr=err, label=n, error_kw={'elinewidth': 0.7, 'ecolor': 'k'})\n",
    "    med, err = median_dist(*gs_exp[n])\n",
    "    plt.bar(ind+1+(width*i), med, width, color=colors[i], \n",
    "            yerr=err, error_kw={'elinewidth': 0.7, 'ecolor': 'k'})\n",
    "\n",
    "\n",
    "plt.xlim(-0.1, 1.8)\n",
    "plt.ylim(0.0, 1.0)\n",
    "plt.legend(loc=0)\n",
    "plt.ylabel('Spearman correlation')\n",
    "plt.xticks(np.array([0, 1])+width*2+width/2., ['CD33\\n(N=%d)' % len(cd33_data), \n",
    "         'GUIDE-seq\\n(N=%d)' % len(guideseq_data)])\n",
    "plt.tight_layout()\n",
    "plt.savefig('plots/feature_importances_removing.pdf')"
   ]
  },
  {
   "cell_type": "code",
   "execution_count": null,
   "metadata": {
    "collapsed": false
   },
   "outputs": [],
   "source": [
    "hsu_data"
   ]
  },
  {
   "cell_type": "code",
   "execution_count": null,
   "metadata": {
    "collapsed": true
   },
   "outputs": [],
   "source": []
  }
 ],
 "metadata": {
  "kernelspec": {
   "display_name": "Python 2",
   "language": "python",
   "name": "python2"
  },
  "language_info": {
   "codemirror_mode": {
    "name": "ipython",
    "version": 2
   },
   "file_extension": ".py",
   "mimetype": "text/x-python",
   "name": "python",
   "nbconvert_exporter": "python",
   "pygments_lexer": "ipython2",
   "version": "2.7.11"
  }
 },
 "nbformat": 4,
 "nbformat_minor": 0
}
