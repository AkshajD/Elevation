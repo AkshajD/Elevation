{
 "cells": [
  {
   "cell_type": "code",
   "execution_count": 1,
   "metadata": {
    "collapsed": false,
    "scrolled": true
   },
   "outputs": [
    {
     "data": {
      "text/plain": [
       "<module 'elevation.aggregation' from 'c:\\dev\\elevation\\elevation\\aggregation.pyc'>"
      ]
     },
     "execution_count": 1,
     "metadata": {},
     "output_type": "execute_result"
    }
   ],
   "source": [
    "%reload_ext autoreload\n",
    "%autoreload 2\n",
    "%matplotlib inline\n",
    "import os\n",
    "import numpy as np\n",
    "import pandas as pd\n",
    "import elevation\n",
    "import elevation.prediction_pipeline as pp\n",
    "import elevation.aggregation\n",
    "from IPython.core.debugger import Tracer\n",
    "import matplotlib.pyplot as plt\n",
    "np.random.seed(123) \n",
    "import scipy.stats as st\n",
    "import pickle\n",
    "#import seaborn\n",
    "import matplotlib\n",
    "import azimuth.util\n",
    "import sklearn\n",
    "import copy\n",
    "import sklearn.cross_validation\n",
    "import sklearn.ensemble\n",
    "import sklearn.linear_model\n",
    "from sklearn.grid_search import GridSearchCV\n",
    "import elevation.aggregation\n",
    "reload(elevation.aggregation)"
   ]
  },
  {
   "cell_type": "code",
   "execution_count": 2,
   "metadata": {
    "collapsed": false
   },
   "outputs": [],
   "source": [
    "# how this was loaded:\n",
    "# with open(savefile + \"_groupby_nonagg.p\", 'wb') as f:  pickle.dump([all_predictions, gene_names, off_target_seq, models_to_calibrate], f)\n",
    "\n",
    "# with open('\\\\\\\\nerds5\\\\compbio_storage\\\\CRISPR.offtarget\\\\gecko_new.calib1_ctnm1.3MM.v10.N9919088_groupby_nonagg_small.p', 'rb') as f:\n",
    "with open('\\\\\\\\nerds5\\\\compbio_storage\\\\CRISPR.offtarget\\\\gecko_new.calib1_ctnm1.3MM.v10.N9919088_groupby_nonagg.p', 'rb') as f:\n",
    "    results_gecko = pickle.load(f)# with open('/mnt/nerds5_genetics/CRISPR.offtarget/allsitesGecko.calib0_countnormTrue.v7.gbrtw1.00e+02.N3137128_groupby_nonagg_small.p', 'rb') as f:"
   ]
  },
  {
   "cell_type": "code",
   "execution_count": 3,
   "metadata": {
    "collapsed": true
   },
   "outputs": [],
   "source": [
    "new_gecko_df = pd.read_csv('C:\\\\dev\\\\CRISPR\\\\data\\\\Mudra_clean.2017-04-10\\\\GeCKOv2_essential_nonessential_v4.csv')\n",
    "celltypes = new_gecko_df['Cell Type'].unique()\n",
    "original_celltypes = celltypes\n",
    "celltypes = map(lambda x: x.split(\"_\")[0], celltypes)\n",
    "celltype_map = dict(zip(celltypes, original_celltypes))"
   ]
  },
  {
   "cell_type": "code",
   "execution_count": 4,
   "metadata": {
    "collapsed": false
   },
   "outputs": [
    {
     "name": "stdout",
     "output_type": "stream",
     "text": [
      "A375 A375_SKIN\n",
      "A673 A673_BONE\n",
      "BXPC3 BXPC3_PANCREAS\n",
      "CADOES1 CADOES1_BONE\n",
      "CAL120 CAL120_BREAST\n",
      "COLO741 COLO741_SKIN\n",
      "CORL105 CORL105_LUNG\n",
      "EW8 EW8_BONE\n",
      "EWS502 EWS502_BONE\n",
      "G402 G402_SOFT_TISSUE\n",
      "HCC44 HCC44_LUNG\n",
      "HS294T HS294T_SKIN\n",
      "HT29 HT29_LARGE_INTESTINE\n",
      "K562 K562_HAEMATOPOIETIC_AND_LYMPHOID_TISSUE\n",
      "L33 L33_PANCREAS\n",
      "LNCAPCLONEFGC LNCAPCLONEFGC_PROSTATE\n",
      "MEWO MEWO_SKIN\n",
      "MHHES1 MHHES1_BONE\n",
      "NCIH1373 NCIH1373_LUNG\n",
      "NCIH2009 NCIH2009_LUNG\n",
      "PANC0327 PANC0327_PANCREAS\n",
      "PANC0813 PANC0813_PANCREAS\n",
      "PANC1 PANC1_PANCREAS\n",
      "PATU8902 PATU8902_PANCREAS\n",
      "PATU8988T PATU8988T_PANCREAS\n",
      "PC3 PC3_PROSTATE\n",
      "RDES RDES_BONE\n",
      "SKES1 SKES1_BONE\n",
      "SU8686 SU8686_PANCREAS\n",
      "T47D T47D_BREAST\n",
      "TC32 TC32_BONE\n",
      "TC71 TC71_BONE\n",
      "TOV112D TOV112D_OVARY\n"
     ]
    }
   ],
   "source": [
    "# test everything is equal\n",
    "seq_by_celltype = {}\n",
    "for celltype, ocelltype in zip(celltypes, original_celltypes):\n",
    "    print celltype, ocelltype\n",
    "    seq_by_celltype[celltype] = np.sort(new_gecko_df[new_gecko_df['Cell Type'] == ocelltype]['sgRNA context sequence'].dropna(how=\"any\").apply(lambda x: x[4:20+4+3]).values)"
   ]
  },
  {
   "cell_type": "code",
   "execution_count": 5,
   "metadata": {
    "collapsed": false
   },
   "outputs": [
    {
     "name": "stdout",
     "output_type": "stream",
     "text": [
      "102354\n",
      "4537\n",
      "4537\n"
     ]
    }
   ],
   "source": [
    "curr_set = None\n",
    "for k, v in seq_by_celltype.iteritems():\n",
    "    if curr_set is not None:\n",
    "        assert curr_set.symmetric_difference(set(v)) == set()\n",
    "    curr_set = set(v)\n",
    "print len(curr_set)\n",
    "new_set = curr_set\n",
    "\n",
    "curr_set = None\n",
    "for method in results_gecko[0]:\n",
    "    next_set = set(results_gecko[0][method].keys())\n",
    "    if curr_set is not None:\n",
    "        assert curr_set.symmetric_difference(next_set) == set()\n",
    "    curr_set = next_set\n",
    "print len(curr_set)\n",
    "old_set = curr_set\n",
    "\n",
    "results_gecko_sequences = set(results_gecko[2].keys())\n",
    "assert results_gecko_sequences == old_set\n",
    "assert results_gecko_sequences - new_set == set()\n",
    "print len(results_gecko_sequences)"
   ]
  },
  {
   "cell_type": "code",
   "execution_count": 6,
   "metadata": {
    "collapsed": true
   },
   "outputs": [],
   "source": [
    "gecko_offtarget_df = pd.read_csv('C:\\\\dev\\\\dnase_elevation\\\\gecko_offtargets.csv')"
   ]
  },
  {
   "cell_type": "code",
   "execution_count": 7,
   "metadata": {
    "collapsed": true
   },
   "outputs": [],
   "source": [
    "gecko_offtarget_dict = {ontarget: {} for ontarget in gecko_offtarget_df['ontarget'].unique()}\n",
    "for ontarget, offtarget, c, s, e in gecko_offtarget_df[['ontarget', 'offtarget', 'chromosome', 'start', 'end']].values:\n",
    "    gecko_offtarget_dict[ontarget][offtarget] = (c, s, e)"
   ]
  },
  {
   "cell_type": "code",
   "execution_count": 8,
   "metadata": {
    "collapsed": false
   },
   "outputs": [],
   "source": [
    "results_gecko_coordinates = {k: [] for k in results_gecko[2]}\n",
    "for ontarget in results_gecko[2]:\n",
    "    assert (set(results_gecko[2][ontarget]) - set(gecko_offtarget_dict[ontarget].keys())) == set()\n",
    "    for offtarget in results_gecko[2][ontarget]:\n",
    "        results_gecko_coordinates[ontarget].append(gecko_offtarget_dict[ontarget][offtarget])"
   ]
  },
  {
   "cell_type": "code",
   "execution_count": 9,
   "metadata": {
    "collapsed": true
   },
   "outputs": [],
   "source": [
    "class DnaseRegions(object):\n",
    "\n",
    "    def __init__(self, filename, check_data=False):\n",
    "        self.filename = filename\n",
    "        self.df = pd.read_csv(filename, delimiter=\"\\t\")\n",
    "        self.chromosomes = self.df['chrom'].unique()\n",
    "        self.data = self.build_data()\n",
    "        if check_data:\n",
    "            self.do_check_data()\n",
    "\n",
    "    def build_data(self):\n",
    "        data = {chrom: self.df[self.df['chrom'] == chrom][['chromStart', 'chromEnd', 'signalValue']].sort_values(by='chromStart').values.T for chrom in self.chromosomes}\n",
    "        return data\n",
    "\n",
    "    def do_check_data(self):\n",
    "        for chrom in self.data:\n",
    "            values = self.data[chrom]\n",
    "            prev = None\n",
    "            for start, end, signalValue in values.T:\n",
    "                if prev is None:\n",
    "                    prev = start, end\n",
    "                    continue\n",
    "                assert prev[1] <= start\n",
    "                prev = start, end\n",
    "\n",
    "    def find(self, chrom_num, qstart, qend):\n",
    "\n",
    "        def b(t, a, p=0):\n",
    "            if len(a) == 0:\n",
    "                return p\n",
    "            i = len(a)//2\n",
    "            if t < a[i]:\n",
    "                return b(t, a[:i], p)\n",
    "            if t > a[i]:\n",
    "                return b(t, a[i+1:], p + i + 1)\n",
    "            return p + i\n",
    "\n",
    "        chrom = \"chr%s\" % chrom_num\n",
    "        if chrom not in self.data:\n",
    "            return None\n",
    "\n",
    "        start_values, end_values, signals = self.data[chrom]\n",
    "        pos = b(qstart, start_values)\n",
    "\n",
    "        if pos == start_values.shape[0] or (pos == 0 and qstart < start_values[pos]):\n",
    "            return None\n",
    "\n",
    "        # b returns insertion position s.t. t <= a[p]\n",
    "        # we want a[p] <= t\n",
    "        if start_values[pos] != qstart and start_values[pos-1] <= qstart:\n",
    "            pos -= 1\n",
    "\n",
    "        assert start_values[pos] <= qstart, \"%s <= %s\" % (start_values[pos], qstart)\n",
    "        if qend <= end_values[pos]:\n",
    "            return signals[pos]\n",
    "        else:\n",
    "            return None\n",
    "\n",
    "def get_filename(cell_type):\n",
    "    filename = pk_dfs = {\n",
    "        \"AVG\": \"C:\\\\dev\\\\dnase_elevation\\\\average_pk.txt\",\n",
    "        \"K562\": \"C:\\\\dev\\\\dnase_elevation\\\\k562_pk.txt\",\n",
    "        \"PANC1\": \"C:\\\\dev\\\\dnase_elevation\\\\panc1_pk.txt\",\n",
    "        \"T47D\": \"C:\\\\\\dev\\\\dnase_elevation\\\\t47d_pk.txt\",\n",
    "    }[cell_type]\n",
    "    return filename\n"
   ]
  },
  {
   "cell_type": "code",
   "execution_count": 10,
   "metadata": {
    "collapsed": true
   },
   "outputs": [],
   "source": [
    "# available cell types\n",
    "# target_celltype = \"A375\"\n",
    "# target_celltype = \"K562\"\n",
    "# target_celltype = \"PANC1\"\n",
    "target_celltype = \"T47D\""
   ]
  },
  {
   "cell_type": "code",
   "execution_count": 11,
   "metadata": {
    "collapsed": false
   },
   "outputs": [],
   "source": [
    "# load and identify dnase\n",
    "dnase = DnaseRegions(get_filename(\"AVG\"), check_data=True)\n",
    "# dnase = DnaseRegions(get_filename(target_celltype), check_data=True)\n",
    "results_gecko_dnase_original = {k: [] for k in results_gecko[2]}\n",
    "for ontarget in results_gecko_coordinates:\n",
    "    for c, s, e in results_gecko_coordinates[ontarget]:\n",
    "        value = dnase.find(c, s, e)\n",
    "        results_gecko_dnase_original[ontarget].append(value)"
   ]
  },
  {
   "cell_type": "code",
   "execution_count": 12,
   "metadata": {
    "collapsed": false
   },
   "outputs": [
    {
     "name": "stdout",
     "output_type": "stream",
     "text": [
      "9683973 0 8618428 1065545\n"
     ]
    }
   ],
   "source": [
    "total_len = 0\n",
    "zero_len = 0\n",
    "none_len = 0\n",
    "for ontarget in results_gecko_dnase_original:\n",
    "    for item in results_gecko_dnase_original[ontarget]:\n",
    "        total_len += 1\n",
    "        if item is None:\n",
    "            none_len += 1\n",
    "        elif item == 0.0:\n",
    "            zero_len += 1\n",
    "print total_len, zero_len, none_len, total_len - none_len"
   ]
  },
  {
   "cell_type": "code",
   "execution_count": 13,
   "metadata": {
    "collapsed": false,
    "scrolled": true
   },
   "outputs": [],
   "source": [
    "# impute\n",
    "impute_dnase_value = 1.0/95\n",
    "results_gecko_dnase = copy.deepcopy(results_gecko_dnase_original)\n",
    "for ontarget in results_gecko_dnase:\n",
    "    results_gecko_dnase[ontarget] = np.array(results_gecko_dnase[ontarget], dtype=np.float32)\n",
    "    results_gecko_dnase[ontarget][np.isnan(results_gecko_dnase[ontarget])] = impute_dnase_value"
   ]
  },
  {
   "cell_type": "code",
   "execution_count": 14,
   "metadata": {
    "collapsed": true
   },
   "outputs": [],
   "source": [
    "# load gecko\n",
    "def load_celltype(cell_type):\n",
    "    df_fn = 'C:\\\\dev\\\\CRISPR\\\\data\\\\Mudra_clean.2017-04-10\\\\GeCKOv2_essential_nonessential_v4.csv'\n",
    "    df = pd.read_csv(df_fn)\n",
    "    target_celltypes = [\"A375\", \"K562\", \"PANC1\", \"T47D\"]\n",
    "    all_celltypes = df[\"Cell Type\"].unique()\n",
    "    celltype_names = []\n",
    "    for tct in target_celltypes:\n",
    "        for act in all_celltypes:\n",
    "            if act.find(tct) != -1:\n",
    "                celltype_names.append((tct, act))\n",
    "    for tct, act in celltype_names:\n",
    "        if tct == cell_type:\n",
    "            target_df = df[df[\"Cell Type\"] == act]\n",
    "            target_df['celltype'] = cell_type\n",
    "            break\n",
    "\n",
    "    isviability = target_df[\"Assay Type\"].apply(lambda x: \"viability\" in x if isinstance(x, basestring) else False)\n",
    "    isnot_essential = target_df['Non-Essential genes'] == \"Y\"\n",
    "    viable_and_essential = (isviability & isnot_essential) | (~isviability)\n",
    "    target_df = target_df[viable_and_essential]\n",
    "    return target_df"
   ]
  },
  {
   "cell_type": "code",
   "execution_count": 15,
   "metadata": {
    "collapsed": false,
    "scrolled": false
   },
   "outputs": [
    {
     "name": "stdout",
     "output_type": "stream",
     "text": [
      "T47D\n"
     ]
    },
    {
     "name": "stderr",
     "output_type": "stream",
     "text": [
      "C:\\Users\\v-huelib\\AppData\\Local\\Continuum\\Anaconda2\\envs\\elevation\\lib\\site-packages\\ipykernel\\__main__.py:15: SettingWithCopyWarning: \n",
      "A value is trying to be set on a copy of a slice from a DataFrame.\n",
      "Try using .loc[row_indexer,col_indexer] = value instead\n",
      "\n",
      "See the caveats in the documentation: http://pandas.pydata.org/pandas-docs/stable/indexing.html#indexing-view-versus-copy\n"
     ]
    },
    {
     "name": "stdout",
     "output_type": "stream",
     "text": [
      "(4685, 34)\n",
      "(4039, 2)\n",
      "(4029, 35)\n"
     ]
    }
   ],
   "source": [
    "print target_celltype\n",
    "MAX_VALUE_JOHN = 1000\n",
    "#with open('/mnt/nerds5_genetics/CRISPR.offtarget/allsitesGecko, 'rb') as f:\n",
    "# with open('/mnt/nerds5_genetics/CRISPR.offtarget/allsitesGecko_allmodels_calib0_countnormTrue.N3137128_groupby_nonagg.p', 'rb') as f:\n",
    "#    results_gecko_v6 = pickle.load(f)\n",
    "\n",
    "mit_gecko = pd.read_excel('../../CRISPR/data/offtarget/GeCKOv2_Non_essentials_Achilles_A375_complete.xls')\n",
    "mit_gecko = mit_gecko[['offtarget_score', 'sgRNA measured value', 'sgRNA Sequence']].dropna()\n",
    "st.spearmanr(mit_gecko['offtarget_score'], mit_gecko['sgRNA measured value'])\n",
    "\n",
    "# gecko_data = pd.read_csv('../../CRISPR/data/offtarget/3MM_michael/GeCKOv2_Non_essentials_Achilles_A375.txt', delimiter='\\t')\n",
    "\n",
    "# gecko_data = load_celltype(\"A375\")\n",
    "gecko_data = load_celltype(target_celltype)\n",
    "gecko_data = gecko_data.dropna(how=\"any\", subset=['sgRNA context sequence'])\n",
    "gecko_data['sgRNA measured value'] = -gecko_data['sgRNA measured value']\n",
    "\n",
    "gecko_data['full_seq'] = gecko_data['sgRNA context sequence'].apply(lambda x: x[4:20+4+3])\n",
    "gecko_data['A375 Percent rank'] = gecko_data['sgRNA measured value']\n",
    "gecko_merged = pd.merge(gecko_data, mit_gecko, left_on='sgRNA Sequence', right_on='sgRNA Sequence')\n",
    "\n",
    "jd_gecko = pd.read_excel('../../CRISPR/data/offtarget/GeCKOv2_Non_essentials_Achilles_A375_updated.xls')\n",
    "#jd_gecko['full_seq'] = jd['sgRNA Sequence'] + jd['PAM Sequence']\n",
    "# jd_gecko = jd_gecko[['sgRNA Sequence', 'Broad_John_bin_average', 'full_seq']].set_index(['full_seq'])\n",
    "# jd = jd.loc[jd['T1 MB12'] != 'MAX']\n",
    "jd_gecko = jd_gecko[['sgRNA Sequence', 'Broad_John_bin_average']].replace([np.inf, -np.inf], MAX_VALUE_JOHN).dropna()\n",
    "print gecko_merged.shape\n",
    "print jd_gecko.shape\n",
    "gecko_merged = pd.merge(gecko_merged, jd_gecko, on=['sgRNA Sequence'])\n",
    "print gecko_merged.shape"
   ]
  },
  {
   "cell_type": "code",
   "execution_count": 16,
   "metadata": {
    "collapsed": true
   },
   "outputs": [],
   "source": [
    "def aggregator_features(results, mit_results, N=None, methods=['product', 'CFD', 'linear-raw-stacker', 'MIT', 'ensemble', 'HsuZhang'], which='old'):\n",
    "    truth = []\n",
    "    broad = []\n",
    "    mean = dict((m, []) for m in methods)\n",
    "    score = dict((m, []) for m in methods)\n",
    "    raw = dict((m, []) for m in methods)\n",
    "    skipped = 0\n",
    "    if N is None:\n",
    "        N = min(len(results[1].keys()), mit_results.shape[0])\n",
    "    # N = min(N, len(results[1].keys()), mit_results.shape[0])\n",
    "    \n",
    "    D = 30\n",
    "\n",
    "    features = dict((m, np.zeros((N, D))) for m in methods) # 46, 18\n",
    "    features['ensemble'] = np.zeros((N, D*2))\n",
    "    if 'ensemble_1' in methods:\n",
    "        features['ensemble_1'] = np.zeros((N, D*2))\n",
    "    if 'ensemble_2' in methods:\n",
    "        features['ensemble_2'] = np.zeros((N, D*4))\n",
    "    if 'ensemble_3' in methods:\n",
    "        features['ensemble_3'] = np.zeros((N, D*3))\n",
    "    if 'ensemble_4' in methods:\n",
    "        features['ensemble_4'] = np.zeros((N, D*5))\n",
    "\n",
    "    guides = []\n",
    "    # pdf = np.exp(kd.score_samples(Xgs[:, None]))\n",
    "    i = 0\n",
    "    #for g in results[1].keys():\n",
    "    for g in mit_results['full_seq'].values:\n",
    "\n",
    "        if i % 1000 == 0:\n",
    "            print i, mit_results.shape[0]\n",
    "\n",
    "        if not (g in results[0]['linear-raw-stacker'] and g in results[0]['CFD']):\n",
    "            skipped += 1\n",
    "            continue\n",
    "\n",
    "        if i >= N:\n",
    "            break\n",
    "\n",
    "        try:\n",
    "            for method in methods:\n",
    "                if method == 'MIT':\n",
    "                    mean[method].append(mit_results[mit_results['full_seq'] == g]['offtarget_score'].values[0])\n",
    "                    score[method].append(mit_results[mit_results['full_seq'] == g]['offtarget_score'].values[0])\n",
    "                elif method == 'broad':\n",
    "                    score[method].append(-mit_results[mit_results['full_seq'] == g]['Broad_John_bin_average'].values[0])\n",
    "                elif method == 'ensemble':\n",
    "                    genic_g = np.array(results[1][g]) != 'NoGene' \n",
    "                    features[method][i], names = elevation.aggregation.get_stats(np.array(results[0]['linear-raw-stacker'][g]), \n",
    "                                                                          np.array(results[0]['CFD'][g]), genic_g)\n",
    "                elif method == 'ensemble_1':\n",
    "                    genic_g = np.array(results[1][g]) != 'NoGene' \n",
    "                    dnase = results_gecko_dnase[g]\n",
    "                    features[method][i], names = elevation.aggregation.get_stats_dnase(\n",
    "                        np.array(results[0]['linear-raw-stacker'][g]), \n",
    "                        np.array(results[0]['CFD'][g]), \n",
    "                        dnase,\n",
    "                        genic_g, 1)\n",
    "                elif method == 'ensemble_2':\n",
    "                    genic_g = np.array(results[1][g]) != 'NoGene' \n",
    "                    dnase = results_gecko_dnase[g]\n",
    "                    features[method][i], names = elevation.aggregation.get_stats_dnase(\n",
    "                        np.array(results[0]['linear-raw-stacker'][g]), \n",
    "                        np.array(results[0]['CFD'][g]), \n",
    "                        dnase,\n",
    "                        genic_g, 2)\n",
    "                elif method == 'ensemble_3':\n",
    "                    genic_g = np.array(results[1][g]) != 'NoGene' \n",
    "                    dnase = results_gecko_dnase[g]\n",
    "                    features[method][i], names = elevation.aggregation.get_stats_dnase(\n",
    "                        np.array(results[0]['linear-raw-stacker'][g]), \n",
    "                        np.array(results[0]['CFD'][g]), \n",
    "                        dnase,\n",
    "                        genic_g, 3)\n",
    "                elif method == 'ensemble_4':\n",
    "                    genic_g = np.array(results[1][g]) != 'NoGene' \n",
    "                    dnase = results_gecko_dnase[g]\n",
    "                    features[method][i], names = elevation.aggregation.get_stats_dnase(\n",
    "                        np.array(results[0]['linear-raw-stacker'][g]), \n",
    "                        np.array(results[0]['CFD'][g]), \n",
    "                        dnase,\n",
    "                        genic_g, 4)\n",
    "                elif method == 'HsuZhang':\n",
    "                    t = np.array(results[0][method][g])\n",
    "                    preds_g = t\n",
    "                    score[method].append(100./(100 + np.sum(preds_g)))\n",
    "                else:\n",
    "                    t = np.array(results[0][method][g])\n",
    "                    # if method == 'linear-raw-stacker':\n",
    "                    #    a,b,c,d,f = [-0.40317539,  0.48128055,  0.6186926 ,  0.14710948,  0.78741327]\n",
    "\n",
    "                    #    # avana = [ 1.26015589, -0.01607083,  4.17914254,  0.39207014, -0.30867801]\n",
    "                    #    t =  a + b*t + c*np.tanh(d*t + f)\n",
    "                    #    # print \"WARNING: warping based on Avana values\"\n",
    "                    preds_g = t\n",
    "                    genic_g = np.array(results[1][g]) != 'NoGene' \n",
    "\n",
    "                    mean[method].append(np.mean(preds_g[genic_g]))\n",
    "                    score[method].append(np.sum(preds_g[genic_g])/float(len(preds_g)))\n",
    "\n",
    "\n",
    "                    if which == 'old':\n",
    "                        features[method][i] = elevation.aggregation.get_stats(preds_g, genic_g)\n",
    "                    elif which == 'new':\n",
    "                        features[method][i] = elevation.aggregation.get_stats(preds_g, genic_g)\n",
    "                    else:\n",
    "                        sorted_bo = np.sort(preds_g)\n",
    "                        yvals_bo = np.arange(len(sorted_bo))/float(len(sorted_bo))\n",
    "                        features[method][i] = yvals_bo[np.logspace(np.log10(2), np.log10(len(yvals_bo)), 50, dtype=int)-1]\n",
    "\n",
    "                    raw[method].append((preds_g, genic_g))\n",
    "\n",
    "                    # reference_guide = mit_results.iloc[mit_results['A375 Percent rank'].idxmin()].full_seq\n",
    "                    # reference_offtargets = np.array(results[0][method][reference_guide])\n",
    "                    # genic_reference = np.array(results[1][reference_guide]) != 'NoGene'\n",
    "                    #bad_guide = mit_results.iloc[mit_results['A375 Percent rank'].idxmax()].full_seq\n",
    "                    #bad_offtargets = np.array(results[0][method][bad_guide]\n",
    "                    sorted_bo = np.sort(preds_g)\n",
    "                    yvals_bo = np.arange(len(sorted_bo))/float(len(sorted_bo))\n",
    "\n",
    "                    # try:\n",
    "                    #    mean['KS2_%s'% method].append(st.ks_2samp(preds_g[genic_g], reference_offtargets[genic_reference])[1])\n",
    "                    #    mean['AUC_%s' % method].append(sklearn.metrics.auc(sorted_bo, yvals_bo))\n",
    "                    #except KeyError:\n",
    "                    #    mean['KS2_%s'% method] = [st.ks_2samp(preds_g[genic_g], reference_offtargets[genic_reference])[1]]\n",
    "                    #    mean['AUC_%s' % method] = [sklearn.metrics.auc(sorted_bo, yvals_bo)]\n",
    "\n",
    "            i+=1\n",
    "            truth.append(mit_results[mit_results['full_seq'] == g]['A375 Percent rank'].values[0])\n",
    "            guides.append(g)\n",
    "\n",
    "        except KeyError as e:\n",
    "            # print type(e), e\n",
    "            # print \"skipping guide: \", g\n",
    "            skipped += 1\n",
    "            #continue\n",
    "            \n",
    "    for method in mean.keys():\n",
    "        mean[method] = np.array(mean[method])\n",
    "        \n",
    "    for method in score.keys():\n",
    "        score[method] = np.array(score[method])\n",
    "    print \"skipped %d guides\" % skipped\n",
    "    return features, truth, mean, score,  guides\n"
   ]
  },
  {
   "cell_type": "code",
   "execution_count": 17,
   "metadata": {
    "collapsed": false,
    "scrolled": true
   },
   "outputs": [
    {
     "name": "stdout",
     "output_type": "stream",
     "text": [
      "0 4029\n",
      "1000 4029\n",
      "2000 4029\n",
      "3000 4029\n",
      "skipped 148 guides\n",
      "broad (3890L, 30L) (0L,) (3881L,)\n",
      "ensemble (3890L, 60L) (0L,) (0L,)\n",
      "ensemble_2 (3890L, 120L) (0L,) (0L,)\n",
      "ensemble_3 (3890L, 90L) (0L,) (0L,)\n",
      "ensemble_1 (3890L, 60L) (0L,) (0L,)\n",
      "MIT (3890L, 30L) (3881L,) (3881L,)\n",
      "ensemble_4 (3890L, 150L) (0L,) (0L,)\n"
     ]
    }
   ],
   "source": [
    "features_gecko, truth_gecko, mean_gecko, score_gecko,  guides_gecko = aggregator_features(results_gecko, gecko_merged, N=3890, \n",
    "                                                                           which='new',\n",
    "                                                                                  methods=['MIT', 'broad', 'ensemble', \n",
    "                                                                                           'ensemble_1',\n",
    "                                                                                           'ensemble_2',\n",
    "                                                                                           'ensemble_3',\n",
    "                                                                                           'ensemble_4'\n",
    "                                                                                          ])\n",
    "\n",
    "for method in score_gecko:\n",
    "    print method, features_gecko[method].shape, mean_gecko[method].shape, score_gecko[method].shape"
   ]
  },
  {
   "cell_type": "code",
   "execution_count": 18,
   "metadata": {
    "collapsed": false,
    "scrolled": true
   },
   "outputs": [
    {
     "name": "stdout",
     "output_type": "stream",
     "text": [
      "0 3880\n",
      "1 3880\n",
      "2 3880\n",
      "3 3880\n",
      "4 3880\n",
      "5 3880\n",
      "6 3880\n",
      "7 3880\n",
      "8 3880\n",
      "9 3880\n",
      "10 3880\n",
      "11 3880\n",
      "12 3880\n",
      "13 3880\n",
      "14 3880\n",
      "15 3880\n",
      "16 3880\n",
      "17 3880\n",
      "18 3880\n",
      "19 3880\n"
     ]
    }
   ],
   "source": [
    "y_rank = st.mstats.rankdata(truth_gecko)/float(len(truth_gecko))\n",
    "kf = sklearn.cross_validation.KFold(y_rank.shape[0], n_folds=20, random_state=np.random.RandomState(1))\n",
    "preds = dict((m, np.zeros_like(y_rank)) for m in features_gecko.keys())\n",
    "\n",
    "for i, split in enumerate(kf):\n",
    "    train, test = split\n",
    "    print i, max(max(train), max(test))\n",
    "    for method in features_gecko.keys():\n",
    "        try:\n",
    "            # print method\n",
    "            if method == 'MIT' or method == 'broad':\n",
    "                preds[method][test] = score_gecko[method][test]\n",
    "            else:\n",
    "                feat = features_gecko[method]\n",
    "                final_model = elevation.aggregation.train_model(feat[train], y_rank[train])\n",
    "                preds[method][test] = final_model.predict(feat[test])\n",
    "        except Exception as e:\n",
    "            print train\n",
    "            print method\n",
    "            raise e"
   ]
  },
  {
   "cell_type": "code",
   "execution_count": 19,
   "metadata": {
    "collapsed": false
   },
   "outputs": [
    {
     "name": "stdout",
     "output_type": "stream",
     "text": [
      "broad\n",
      "ensemble\n",
      "ensemble_2\n",
      "ensemble_3\n",
      "ensemble_1\n",
      "MIT\n",
      "ensemble_4\n",
      "T47D\n"
     ]
    },
    {
     "data": {
      "image/png": "[encoded data removed]",
      "text/plain": [
       "<matplotlib.figure.Figure at 0xa75d10f0>"
      ]
     },
     "metadata": {},
     "output_type": "display_data"
    }
   ],
   "source": [
    "_ = elevation.prediction_pipeline.plot_spearman_with_different_weights(preds, y_rank, \n",
    "                                                                    weights=np.logspace(np.log10(0.00001), np.log10(100), 20))\n",
    "plt.xscale('log')\n",
    "print target_celltype"
   ]
  }
 ],
 "metadata": {
  "anaconda-cloud": {},
  "kernelspec": {
   "display_name": "Python 2",
   "language": "python",
   "name": "python2"
  },
  "language_info": {
   "codemirror_mode": {
    "name": "ipython",
    "version": 2
   },
   "file_extension": ".py",
   "mimetype": "text/x-python",
   "name": "python",
   "nbconvert_exporter": "python",
   "pygments_lexer": "ipython2",
   "version": "2.7.11"
  }
 },
 "nbformat": 4,
 "nbformat_minor": 0
}
