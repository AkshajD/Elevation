{
 "cells": [
  {
   "cell_type": "code",
   "execution_count": 2,
   "metadata": {
    "collapsed": false
   },
   "outputs": [
    {
     "name": "stderr",
     "output_type": "stream",
     "text": [
      "/home/nicolo/anaconda3/envs/python2/lib/python2.7/site-packages/pandas/computation/__init__.py:19: UserWarning: The installed version of numexpr 2.4.4 is not supported in pandas and will be not be used\n",
      "\n",
      "  UserWarning)\n",
      "WARNING:root:using existing cache dir: /tmp/tmpMCHFIU \n"
     ]
    }
   ],
   "source": [
    "from elevation.prediction_pipeline import *\n",
    "import matplotlib.pyplot as plt\n",
    "import numpy as np\n",
    "import scipy as sp\n",
    "import scipy.stats\n",
    "import azimuth.util"
   ]
  },
  {
   "cell_type": "code",
   "execution_count": null,
   "metadata": {
    "collapsed": false
   },
   "outputs": [],
   "source": [
    "np.random.seed(1234)\n",
    "learn_options = {'num_proc': 10,\n",
    "                 'nuc_features_WT': False, 'include_pi_nuc_feat': False,\n",
    "                     'mutation_type' : False,\n",
    "                     'mutation_details' : False,\n",
    "                     'annotation_onehot' : False, #featurize like CFD\n",
    "                     'annotation_decoupled_onehot' : True, #decouple the CFD features into letters and position\n",
    "                     \"include_Tm\": False,\n",
    "                     'include_azimuth_score': None, # all of them [\"WT\",\"MUT\",\"DELTA\"]\n",
    "                     'azimuth_feat' : None,#[\"MUT\", \"WT\"],\n",
    "                     \"include_gene_position\": False,\n",
    "                     \"cv\": \"stratified\",\n",
    "                     'adaboost_loss' : 'ls',\n",
    "                     'adaboost_CV': False, \"algorithm_hyperparam_search\" : \"grid\",\n",
    "                     'n_folds' : 10,\n",
    "                     'allowed_category' : None,#\"Mismatch\",#\"Insertion\",\n",
    "                     \"include_NGGX_interaction\": False,\n",
    "                     'normalize_features' : False, 'class_weight': None,\n",
    "                     \"phen_transform\": 'kde_cdf',\n",
    "                     \"training_metric\": 'spearmanr',\n",
    "                     \"skip_pam_feat\" : True, \"letpos_indep_ft\": False, \"letpos_inter_ft\": True,\n",
    "                     \"fit_intercept\" : True,\n",
    "                     \"seed\" : 12345,\n",
    "                     \"num_proc\": 1,\n",
    "                     \"alpha\": np.array([1.0e-3]),\n",
    "                     \"V\": \"CD33\",\n",
    "                     \"left_right_guide_ind\": [4,26,30],\n",
    "                     \"order\": 2,\n",
    "                     \"testing_non_binary_target_name\": 'ranks',\n",
    "                     'stack model': 'GP',\n",
    "                     'models': ['AdaBoost'],\n",
    "                     }"
   ]
  },
  {
   "cell_type": "code",
   "execution_count": null,
   "metadata": {
    "collapsed": false
   },
   "outputs": [],
   "source": [
    "base_model, _ = train_base_model(learn_options)\n",
    "guideseq_data = load_guideseq(learn_options)\n",
    "preds = predict_guideseq(base_model, guideseq_data, learn_options)\n",
    "stacker_preds, naive_preds, cfd_preds, y_all, r_naive, r_stacker =  cross_validate_guideseq(guideseq_data, preds, learn_options)"
   ]
  },
  {
   "cell_type": "code",
   "execution_count": 8,
   "metadata": {
    "collapsed": true
   },
   "outputs": [],
   "source": [
    "truth, mism = y_all"
   ]
  },
  {
   "cell_type": "code",
   "execution_count": 11,
   "metadata": {
    "collapsed": false
   },
   "outputs": [],
   "source": [
    "%matplotlib inline"
   ]
  },
  {
   "cell_type": "code",
   "execution_count": null,
   "metadata": {
    "collapsed": false
   },
   "outputs": [],
   "source": [
    "plt.figure();\n",
    "plt.title('#Mismatches vs truth (sanity check)')\n",
    "plt.plot(mism, truth, 'o', alpha=0.5)"
   ]
  },
  {
   "cell_type": "code",
   "execution_count": 6,
   "metadata": {
    "collapsed": false
   },
   "outputs": [],
   "source": [
    "def get_corr_by_mismatches(pred, truth, mism, cfd_pred=None):\n",
    "    results = []\n",
    "    sorted_mism = np.sort(np.unique(mism))\n",
    "    for m in sorted_mism:\n",
    "        if m == 1:\n",
    "            continue\n",
    "        pred_sub = pred[mism==m]\n",
    "        truth_sub = truth[mism==m]\n",
    "        corr = sp.stats.spearmanr(pred_sub, truth_sub)[0]\n",
    "        # corr = azimuth.util.get_pval_from_predictions(cfd_pred[mism==m], pred_sub, truth_sub, twotailed=False, method='steiger')[1]\n",
    "        # corr = -np.log10(pv)\n",
    "        results.append([m, corr, (mism==m).sum()])\n",
    "    return np.array(results)"
   ]
  },
  {
   "cell_type": "code",
   "execution_count": null,
   "metadata": {
    "collapsed": false
   },
   "outputs": [],
   "source": [
    "naive_res = get_corr_by_mismatches(naive_preds, truth, mism)\n",
    "stacker_res = get_corr_by_mismatches(stacker_preds, truth, mism)\n",
    "cfd_res = get_corr_by_mismatches(cfd_preds, truth, mism)"
   ]
  },
  {
   "cell_type": "code",
   "execution_count": null,
   "metadata": {
    "collapsed": false
   },
   "outputs": [],
   "source": [
    "plt.figure(figsize=(10,6))\n",
    "plt.plot(cfd_res[:,0], cfd_res[:,1], 'o-r', label='CFD')\n",
    "plt.plot(naive_res[:,0], naive_res[:,1], 'o-g', label='naive')\n",
    "# plt.plot(stacker_res[:,0], stacker_res[:,1], 'o-b', label='stacker')\n",
    "plt.legend(loc=0)\n",
    "plt.xlabel('#mismatches')\n",
    "plt.ylabel('Spearman')\n",
    "plt.xlim((2, 6))"
   ]
  },
  {
   "cell_type": "code",
   "execution_count": null,
   "metadata": {
    "collapsed": false
   },
   "outputs": [],
   "source": [
    "plt.figure();\n",
    "plt.plot(cfd_res[:,0], cfd_res[:, 2], 'o-')\n",
    "plt.xlabel(\"#mismatches\")\n",
    "plt.ylabel('#guides')"
   ]
  },
  {
   "cell_type": "code",
   "execution_count": null,
   "metadata": {
    "collapsed": false
   },
   "outputs": [],
   "source": [
    "print(\"CFD: %.4f\" % sp.stats.spearmanr(cfd_preds, truth)[0])\n",
    "print(\"Naive: %.4f\" % sp.stats.spearmanr(naive_preds, truth)[0])\n",
    "#sp.stats.spearmanr(stacker_preds, truth)[0]"
   ]
  },
  {
   "cell_type": "code",
   "execution_count": null,
   "metadata": {
    "collapsed": false
   },
   "outputs": [],
   "source": [
    "naive_res"
   ]
  },
  {
   "cell_type": "code",
   "execution_count": null,
   "metadata": {
    "collapsed": false
   },
   "outputs": [],
   "source": [
    "cfd_res"
   ]
  },
  {
   "cell_type": "code",
   "execution_count": null,
   "metadata": {
    "collapsed": false
   },
   "outputs": [],
   "source": [
    "plt.figure()\n",
    "plt.plot(cfd_res[:,1], naive_res[:,1],'o')\n",
    "plt.plot([-1, 1], [-1,1], 'k-')"
   ]
  },
  {
   "cell_type": "code",
   "execution_count": null,
   "metadata": {
    "collapsed": false
   },
   "outputs": [],
   "source": [
    "t2_stack, pv_stack, corr0_stack, corr1_stack, corr01_stack = azimuth.util.get_pval_from_predictions(naive_preds, \n",
    "                                                                                            cfd_preds,  \n",
    "                                                                                            truth, twotailed=False, \n",
    "                                                                                            method='steiger')"
   ]
  },
  {
   "cell_type": "code",
   "execution_count": null,
   "metadata": {
    "collapsed": false
   },
   "outputs": [],
   "source": [
    "pv_stack"
   ]
  },
  {
   "cell_type": "code",
   "execution_count": null,
   "metadata": {
    "collapsed": true
   },
   "outputs": [],
   "source": [
    "t2_stack, pv_stack, corr0_stack, corr1_stack, corr01_stack = azimuth.util.get_pval_from_predictions(stacker_preds, \n",
    "                                                                                            cfd_preds,  \n",
    "                                                                                            truth, twotailed=False, \n",
    "                                                                                            method='steiger')"
   ]
  },
  {
   "cell_type": "code",
   "execution_count": null,
   "metadata": {
    "collapsed": false
   },
   "outputs": [],
   "source": [
    "pv_stack"
   ]
  },
  {
   "cell_type": "code",
   "execution_count": null,
   "metadata": {
    "collapsed": false
   },
   "outputs": [],
   "source": [
    "naive_res = get_corr_by_mismatches(naive_preds, truth, mism, cfd_preds)"
   ]
  },
  {
   "cell_type": "code",
   "execution_count": null,
   "metadata": {
    "collapsed": false
   },
   "outputs": [],
   "source": [
    "naive_res"
   ]
  },
  {
   "cell_type": "code",
   "execution_count": null,
   "metadata": {
    "collapsed": false
   },
   "outputs": [],
   "source": [
    "plt.figure(figsize=[10, 10])\n",
    "plt.plot([0,1], [0,1], 'k-')\n",
    "plt.scatter(cfd_preds, naive_preds, c=mism)\n",
    "plt.xlabel('CFD')\n",
    "plt.ylabel('Naive')"
   ]
  },
  {
   "cell_type": "code",
   "execution_count": null,
   "metadata": {
    "collapsed": false
   },
   "outputs": [],
   "source": [
    "plt.figure()\n",
    "plt.hist(np.log(truth), bins=20)"
   ]
  },
  {
   "cell_type": "code",
   "execution_count": null,
   "metadata": {
    "collapsed": false
   },
   "outputs": [],
   "source": [
    "plt.figure(figsize=[10, 10])\n",
    "plt.plot([0,1], [0,1], 'k-')\n",
    "plt.scatter(cfd_preds*0.468, naive_preds, c=mism)\n",
    "plt.xlabel('CFD')\n",
    "plt.ylabel('Naive')"
   ]
  },
  {
   "cell_type": "code",
   "execution_count": 15,
   "metadata": {
    "collapsed": false
   },
   "outputs": [],
   "source": [
    "from elevation.nicolo import *"
   ]
  },
  {
   "cell_type": "code",
   "execution_count": 16,
   "metadata": {
    "collapsed": false
   },
   "outputs": [
    {
     "name": "stdout",
     "output_type": "stream",
     "text": [
      "MKL not available, so I'm not adjusting the number of threads\n",
      "Launching 1 jobs with 1 MKL threads each\n",
      "loading processed data from file: ../../data/offtarget/CD33.processed.[4, 26, 30].pamfiltTrue.p...\n",
      "done.\n",
      "featurizing data...\n",
      "found 4853 rows and 11 feature colums to azimut_featurize\n",
      "Constructing features...\n",
      "\t\tconstructing order 1 features\n",
      "\t\t\t\t\t\t\tdone\n",
      "\t\tElapsed time for constructing features is 4.43 seconds\n",
      "done.\n"
     ]
    }
   ],
   "source": [
    "Y, f, l = get_offtarget_data(feature_order=1)"
   ]
  },
  {
   "cell_type": "code",
   "execution_count": 17,
   "metadata": {
    "collapsed": false
   },
   "outputs": [
    {
     "data": {
      "text/plain": [
       "0.46837008036266226"
      ]
     },
     "execution_count": 17,
     "metadata": {},
     "output_type": "execute_result"
    }
   ],
   "source": [
    "(Y['Day21-ETP'] >= 1.).sum()/float(Y.shape[0])"
   ]
  },
  {
   "cell_type": "code",
   "execution_count": null,
   "metadata": {
    "collapsed": false
   },
   "outputs": [],
   "source": [
    "plt.figure(figsize=[10, 6])\n",
    "plt.plot(mism, cfd_preds, 'o', alpha=.5)\n",
    "# plt.hexbin(mism, np.log(cfd_preds))\n",
    "plt.xlabel('#mismatches')\n",
    "plt.ylabel('CFD prediction')\n",
    "plt.title(\"#M vs CFD (rho=%.4f)\" % sp.stats.spearmanr(mism, cfd_preds)[0])"
   ]
  },
  {
   "cell_type": "code",
   "execution_count": null,
   "metadata": {
    "collapsed": false
   },
   "outputs": [],
   "source": [
    "plt.figure(figsize=[10, 6])\n",
    "plt.plot(mism, naive_preds, 'o', alpha=.5)\n",
    "plt.xlabel('#mismatches')\n",
    "plt.ylabel('Naive prediction')\n",
    "plt.title(\"#M vs Naive (rho=%.4f)\" % sp.stats.spearmanr(mism, naive_preds)[0])"
   ]
  },
  {
   "cell_type": "code",
   "execution_count": null,
   "metadata": {
    "collapsed": false
   },
   "outputs": [],
   "source": [
    "corr_cfd_preds = cfd_preds * np.power((Y['Day21-ETP'] >= 1.).sum()/float(Y.shape[0]), mism-1)"
   ]
  },
  {
   "cell_type": "code",
   "execution_count": null,
   "metadata": {
    "collapsed": false
   },
   "outputs": [],
   "source": [
    "plt.figure(figsize=[10, 10])\n",
    "plt.plot([0,1], [0,1], 'k-')\n",
    "plt.scatter(cfd_preds, corr_cfd_preds, c=mism)\n",
    "plt.xlabel('CFD predictions')\n",
    "plt.ylabel('Corrected CFD predictions')"
   ]
  },
  {
   "cell_type": "code",
   "execution_count": null,
   "metadata": {
    "collapsed": false
   },
   "outputs": [],
   "source": [
    "corr_naive_preds = naive_preds * np.power((Y['Day21-ETP'] >= 1.).sum()/float(Y.shape[0]), mism-1)[:, None]"
   ]
  },
  {
   "cell_type": "code",
   "execution_count": null,
   "metadata": {
    "collapsed": false
   },
   "outputs": [],
   "source": [
    "corr_cfd_res = get_corr_by_mismatches(corr_cfd_preds, truth, mism, cfd)\n",
    "cfd_res = get_corr_by_mismatches(cfd_preds, truth, mism)"
   ]
  },
  {
   "cell_type": "code",
   "execution_count": null,
   "metadata": {
    "collapsed": false
   },
   "outputs": [],
   "source": [
    "plt.figure(figsize=(10,6))\n",
    "plt.plot(cfd_res[:,0], cfd_res[:,1], 'o-r', label='CFD')\n",
    "plt.plot(corr_cfd_res[:,0], corr_cfd_res[:,1], 'o-g', label='naive')\n",
    "plt.plot(stacker_res[:,0], stacker_res[:,1], 'o-b', label='stacker')\n",
    "plt.legend(loc=0)\n",
    "plt.xlabel('#mismatches')\n",
    "plt.ylabel('Spearman')\n",
    "plt.xlim((2, 6))"
   ]
  },
  {
   "cell_type": "code",
   "execution_count": null,
   "metadata": {
    "collapsed": false
   },
   "outputs": [],
   "source": [
    "print(\"CFD: %.4f\" % sp.stats.spearmanr(cfd_preds, truth)[0])\n",
    "print(\"CFD-corrected: %.4f\" % sp.stats.spearmanr(corr_cfd_preds, truth)[0])\n",
    "print(\"Naive: %.4f\" % sp.stats.spearmanr(naive_preds, truth)[0])\n",
    "print(\"Naive-corrected: %.4f\" % sp.stats.spearmanr(corr_naive_preds, truth)[0])"
   ]
  },
  {
   "cell_type": "code",
   "execution_count": null,
   "metadata": {
    "collapsed": false
   },
   "outputs": [],
   "source": [
    "plt.hist(f['annot'].sum(0).values, bins=20)"
   ]
  },
  {
   "cell_type": "code",
   "execution_count": null,
   "metadata": {
    "collapsed": false
   },
   "outputs": [],
   "source": [
    "p_x = 1./f['annot'].shape[1]"
   ]
  },
  {
   "cell_type": "code",
   "execution_count": null,
   "metadata": {
    "collapsed": true
   },
   "outputs": [],
   "source": [
    "corr_cfd_preds = cfd_preds * np.power((Y['Day21-ETP'] >= 1.).sum()/float(Y.shape[0]), mism-1) / np.power(p_x, mism)"
   ]
  },
  {
   "cell_type": "code",
   "execution_count": null,
   "metadata": {
    "collapsed": false
   },
   "outputs": [],
   "source": [
    "print(\"CFD-corrected: %.4f\" % sp.stats.spearmanr(corr_cfd_preds, truth)[0])"
   ]
  },
  {
   "cell_type": "code",
   "execution_count": 3,
   "metadata": {
    "collapsed": false
   },
   "outputs": [],
   "source": [
    "np.random.seed(1234)\n",
    "learn_options = {'num_proc': 10,\n",
    "                 'nuc_features_WT': False, 'include_pi_nuc_feat': False,\n",
    "                     'mutation_type' : False,\n",
    "                     'mutation_details' : False,\n",
    "                     'annotation_onehot' : False, #featurize like CFD\n",
    "                     'annotation_decoupled_onehot' : True, #decouple the CFD features into letters and position\n",
    "                     \"include_Tm\": False,\n",
    "                     'include_azimuth_score': None, # all of them [\"WT\",\"MUT\",\"DELTA\"]\n",
    "                     'azimuth_feat' : None,#[\"MUT\", \"WT\"],\n",
    "                     \"include_gene_position\": False,\n",
    "                     \"cv\": \"stratified\",\n",
    "                     'adaboost_loss' : 'ls',\n",
    "                     'adaboost_CV': False, \"algorithm_hyperparam_search\" : \"grid\",\n",
    "                     'n_folds' : 10,\n",
    "                     'allowed_category' : None,#\"Mismatch\",#\"Insertion\",\n",
    "                     \"include_NGGX_interaction\": False,\n",
    "                     'normalize_features' : False, 'class_weight': None,\n",
    "                     \"phen_transform\": 'Platt',\n",
    "                     \"training_metric\": 'spearmanr',\n",
    "                     \"skip_pam_feat\" : True, \"letpos_indep_ft\": False, \"letpos_inter_ft\": True,\n",
    "                     \"fit_intercept\" : True,\n",
    "                     \"seed\" : 12345,\n",
    "                     \"num_proc\": 1,\n",
    "                     \"alpha\": np.array([1.0e-3]),\n",
    "                     \"V\": \"CD33\",\n",
    "                     \"left_right_guide_ind\": [4,26,30],\n",
    "                     \"order\": 2,\n",
    "                     \"testing_non_binary_target_name\": 'ranks',\n",
    "                     'stack model': 'GP',\n",
    "                     'models': ['AdaBoost'],\n",
    "                     'recompute':True\n",
    "                     }"
   ]
  },
  {
   "cell_type": "code",
   "execution_count": 4,
   "metadata": {
    "collapsed": false
   },
   "outputs": [
    {
     "name": "stdout",
     "output_type": "stream",
     "text": [
      "________________________________________________________________________________\n",
      "[Memory] Calling elevation.prediction_pipeline.train_base_model-alias...\n",
      "train_base_model-alias({ 'V': 'CD33',\n",
      "  'adaboost_CV': False,\n",
      "  'adaboost_loss': 'ls',\n",
      "  'algorithm_hyperparam_search': 'grid',\n",
      "  'allowed_category': None,\n",
      "  'alpha': array([ 0.001]),\n",
      "  'annotation_decoupled_onehot': True,\n",
      "  'annotation_onehot': False,\n",
      "  'azimuth_feat': None,\n",
      "  'class_weight': None,\n",
      "  'cv': 'stratified',\n",
      "  'fit_intercept': True,\n",
      "  'include_NGGX_interaction': False,\n",
      "  'include_Tm': False,\n",
      "  'include_azimuth_score': None,\n",
      "  'include_gene_position': False,\n",
      "  'include_pi_nuc_feat': False,\n",
      "  'left_right_guide_ind': [4, 26, 30],\n",
      "  'letpos_indep_ft': False,\n",
      "  'letpos_inter_ft': True,\n",
      "  'models': ['AdaBoost'],\n",
      "  'mutation_details': False,\n",
      "  'mutation_type': False,\n",
      "  'n_folds': 10,\n",
      "  'normalize_features': False,\n",
      "  'nuc_features_WT': False,\n",
      "  'num_proc': 1,\n",
      "  'order': 2,\n",
      "  'phen_transform': 'Platt',\n",
      "  'recompute': True,\n",
      "  'seed': 12345,\n",
      "  'skip_pam_feat': True,\n",
      "  'stack model': 'GP',\n",
      "  'testing_non_binary_target_name': 'ranks',\n",
      "  'training_metric': 'spearmanr'})\n",
      "Received option CV=False, so I'm training using all of the data\n",
      "running AdaBoost, order 2 for final\n",
      "MKL not available, so I'm not adjusting the number of threads\n",
      "Launching 1 jobs with 1 MKL threads each\n",
      "loading processed data from file: ../../data/offtarget/CD33.processed.[4, 26, 30].pamfiltTrue.p...\n",
      "done.\n"
     ]
    },
    {
     "name": "stderr",
     "output_type": "stream",
     "text": [
      " /home/nicolo/anaconda3/envs/python2/lib/python2.7/site-packages/sklearn/utils/validation.py:515: DataConversionWarning:A column-vector y was passed when a 1d array was expected. Please change the shape of y to (n_samples, ), for example using ravel().\n"
     ]
    },
    {
     "name": "stdout",
     "output_type": "stream",
     "text": [
      "featurizing data...\n",
      "done.\n",
      "range of y_all is [0.000000, 1.000000]\n",
      "filename = VCD33AdaBoostRegressor.order2Day21-ETP.gene.spearman\n",
      "Cross-validating genes...\n",
      "\t\tRMSE:  0.393142382955\n",
      "\t\tSpearman correlation:  0.62439711932\n",
      "\t\tfinished fold/gene 1 of 1\n",
      "\t\tmedian spearmanr across gene folds: 0.624\n",
      "\t\tElapsed time for cv is 0.30 seconds\n",
      "___________________________________________train_base_model-alias - 1.1s, 0.0min\n",
      "________________________________________________________________________________\n",
      "[Memory] Calling elevation.prediction_pipeline.load_guideseq-alias...\n",
      "load_guideseq-alias({ 'V': 'CD33',\n",
      "  'adaboost_CV': False,\n",
      "  'adaboost_loss': 'ls',\n",
      "  'algorithm_hyperparam_search': 'grid',\n",
      "  'allowed_category': None,\n",
      "  'alpha': array([ 0.001]),\n",
      "  'annotation_decoupled_onehot': True,\n",
      "  'annotation_onehot': False,\n",
      "  'azimuth_feat': None,\n",
      "  'class_weight': None,\n",
      "  'cv': 'stratified',\n",
      "  'fit_intercept': True,\n",
      "  'include_NGGX_interaction': False,\n",
      "  'include_Tm': False,\n",
      "  'include_azimuth_score': None,\n",
      "  'include_gene_position': False,\n",
      "  'include_pi_nuc_feat': False,\n",
      "  'left_right_guide_ind': [4, 26, 30],\n",
      "  'letpos_indep_ft': False,\n",
      "  'letpos_inter_ft': True,\n",
      "  'models': ['AdaBoost'],\n",
      "  'mutation_details': False,\n",
      "  'mutation_type': False,\n",
      "  'n_folds': 10,\n",
      "  'normalize_features': False,\n",
      "  'nuc_features_WT': False,\n",
      "  'num_proc': 1,\n",
      "  'order': 2,\n",
      "  'phen_transform': 'Platt',\n",
      "  'recompute': True,\n",
      "  'seed': 12345,\n",
      "  'skip_pam_feat': True,\n",
      "  'stack model': 'GP',\n",
      "  'testing_non_binary_target_name': 'ranks',\n",
      "  'training_metric': 'spearmanr'})\n",
      "loading and featurizing GuideSeq data...\n",
      "Done.\n",
      "_____________________________________________load_guideseq-alias - 18.2s, 0.3min\n",
      "________________________________________________________________________________\n",
      "[Memory] Calling elevation.prediction_pipeline.predict_guideseq-alias...\n",
      "predict_guideseq-alias(GradientBoostingRegressor(alpha=0.5, init=None, learning_rate=0.1, loss='ls',\n",
      "             max_depth=3, max_features=None, max_leaf_nodes=None,\n",
      "             min_samples_leaf=1, min_samples_split=2,\n",
      "             min_weight_fraction_leaf=0.0, n_estimators=100,\n",
      "             presort='auto', random_state=None, subsample=1.0, verbose=0,\n",
      "             warm_start=False), \n",
      "        Targetsite  Num mismatches  Off-target Score  GUIDE-SEQ Reads  \\\n",
      "3      VEGFA_site1               2          0.750000             3237   \n",
      "4      VEGFA_site3               2          0.420000             3125   \n",
      "5             EMX1               2          0.590909             3123   \n",
      "7      VEGFA_site3               3          0.445055             2559   \n",
      "8    HEK293_sgRNA4               3          0.631579             2475   \n",
      "10     VEGFA_site3               2          0.720000             2200   \n",
      "11           FANCF               2          0.619048             2099   \n",
      "13   HEK293_sgRNA4               2          0.212121             2020   \n",
      "14     VEGFA_site3               2         ..., \n",
      "{ 'V': 'CD33',\n",
      "  'adaboost_CV': False,\n",
      "  'adaboost_loss': 'ls',\n",
      "  'algorithm_hyperparam_search': 'grid',\n",
      "  'allowed_category': None,\n",
      "  'alpha': array([ 0.001]),\n",
      "  'annotation_decoupled_onehot': True,\n",
      "  'annotation_onehot': False,\n",
      "  'azimuth_feat': None,\n",
      "  'class_weight': None,\n",
      "  'cv': 'stratified',\n",
      "  'fit_intercept': True,\n",
      "  'include_NGGX_interaction': False,\n",
      "  'include_Tm': False,\n",
      "  'include_azimuth_score': None,\n",
      "  'include_gene_position': False,\n",
      "  'include_pi_nuc_feat': False,\n",
      "  'left_right_guide_ind': [4, 26, 30],\n",
      "  'letpos_indep_ft': False,\n",
      "  'letpos_inter_ft': True,\n",
      "  'models': ['AdaBoost'],\n",
      "  'mutation_details': False,\n",
      "  'mutation_type': False,\n",
      "  'n_folds': 10,\n",
      "  'normalize_features': False,\n",
      "  'nuc_features_WT': False,\n",
      "  'num_proc': 1,\n",
      "  'order': 2,\n",
      "  'phen_transform': 'Platt',\n",
      "  'recompute': True,\n",
      "  'seed': 12345,\n",
      "  'skip_pam_feat': True,\n",
      "  'stack model': 'GP',\n",
      "  'testing_non_binary_target_name': 'ranks',\n",
      "  'training_metric': 'spearmanr'})\n",
      "No model file specified, using default off-target model: %s final.2016-02-05_17_23_59.p\n",
      "__________________________________________predict_guideseq-alias - 74.5s, 1.2min"
     ]
    },
    {
     "name": "stderr",
     "output_type": "stream",
     "text": [
      " /home/nicolo/anaconda3/envs/python2/lib/python2.7/site-packages/pandas/core/indexing.py:128: SettingWithCopyWarning:\n",
      "A value is trying to be set on a copy of a slice from a DataFrame\n",
      "\n",
      "See the caveats in the documentation: http://pandas.pydata.org/pandas-docs/stable/indexing.html#indexing-view-versus-copy\n",
      " /home/nicolo/anaconda3/envs/python2/lib/python2.7/site-packages/sklearn/cross_validation.py:516: Warning:The least populated class in y has only 3 members, which is too few. The minimum number of labels for any class cannot be less than n_folds=20.\n"
     ]
    },
    {
     "name": "stdout",
     "output_type": "stream",
     "text": [
      "\n",
      "[0, 0]: Spearman R for fold: 0.569 naive, 0.567 stacker, 0.440 CFD\n",
      "[1, 0]: Spearman R for fold: 0.316 naive, 0.451 stacker, 0.317 CFD\n",
      "[2, 0]: Spearman R for fold: 0.274 naive, 0.230 stacker, 0.394 CFD\n",
      "[3, 0]: Spearman R for fold: 0.523 naive, 0.612 stacker, 0.603 CFD\n",
      "[4, 0]: Spearman R for fold: 0.511 naive, 0.443 stacker, 0.260 CFD\n",
      "[5, 0]: Spearman R for fold: 0.223 naive, 0.495 stacker, 0.208 CFD\n",
      "[6, 0]: Spearman R for fold: 0.457 naive, 0.467 stacker, 0.562 CFD\n",
      "[7, 0]: Spearman R for fold: 0.433 naive, 0.701 stacker, 0.459 CFD\n",
      "[8, 0]: Spearman R for fold: 0.506 naive, 0.723 stacker, 0.412 CFD\n",
      "[9, 0]: Spearman R for fold: 0.404 naive, 0.491 stacker, 0.273 CFD\n",
      "[10, 0]: Spearman R for fold: 0.123 naive, 0.414 stacker, 0.221 CFD\n",
      "[11, 0]: Spearman R for fold: 0.347 naive, 0.359 stacker, 0.185 CFD\n",
      "[12, 0]: Spearman R for fold: 0.098 naive, 0.262 stacker, 0.241 CFD\n",
      "[13, 0]: Spearman R for fold: 0.584 naive, 0.458 stacker, 0.296 CFD\n",
      "[14, 0]: Spearman R for fold: 0.579 naive, 0.512 stacker, 0.699 CFD\n",
      "[15, 0]: Spearman R for fold: 0.425 naive, 0.476 stacker, 0.404 CFD\n",
      "[16, 0]: Spearman R for fold: 0.573 naive, 0.496 stacker, 0.689 CFD\n",
      "[17, 0]: Spearman R for fold: 0.773 naive, 0.756 stacker, 0.752 CFD\n",
      "[18, 0]: Spearman R for fold: 0.215 naive, 0.386 stacker, 0.056 CFD\n",
      "[19, 0]: Spearman R for fold: 0.209 naive, 0.535 stacker, 0.325 CFD\n",
      "[seed=0] total Spearman r: 0.395 naive, 0.485 stacker, 0.356 CFD\n"
     ]
    }
   ],
   "source": [
    "base_model, _ = train_base_model(learn_options)\n",
    "guideseq_data = load_guideseq(learn_options)\n",
    "preds = predict_guideseq(base_model, guideseq_data, learn_options)\n",
    "stacker_preds, naive_preds, cfd_preds, y_all, r_naive, r_stacker =  cross_validate_guideseq(guideseq_data, preds, learn_options)"
   ]
  },
  {
   "cell_type": "code",
   "execution_count": 9,
   "metadata": {
    "collapsed": false
   },
   "outputs": [],
   "source": [
    "naive_res = get_corr_by_mismatches(naive_preds, truth, mism)\n",
    "stacker_res = get_corr_by_mismatches(stacker_preds, truth, mism)\n",
    "cfd_res = get_corr_by_mismatches(cfd_preds, truth, mism)"
   ]
  },
  {
   "cell_type": "code",
   "execution_count": 12,
   "metadata": {
    "collapsed": false
   },
   "outputs": [
    {
     "data": {
      "text/plain": [
       "(2, 6)"
      ]
     },
     "execution_count": 12,
     "metadata": {},
     "output_type": "execute_result"
    },
    {
     "data": {
      "image/png": "[encoded data removed]",
      "text/plain": [
       "<matplotlib.figure.Figure at 0x7f4f440958d0>"
      ]
     },
     "metadata": {},
     "output_type": "display_data"
    }
   ],
   "source": [
    "plt.figure(figsize=(10,6))\n",
    "plt.plot(cfd_res[:,0], cfd_res[:,1], 'o-r', label='CFD')\n",
    "plt.plot(naive_res[:,0], naive_res[:,1], 'o-g', label='naive')\n",
    "# plt.plot(stacker_res[:,0], stacker_res[:,1], 'o-b', label='stacker')\n",
    "plt.legend(loc=0)\n",
    "plt.xlabel('#mismatches')\n",
    "plt.ylabel('Spearman')\n",
    "plt.xlim((2, 6))"
   ]
  },
  {
   "cell_type": "code",
   "execution_count": 13,
   "metadata": {
    "collapsed": false
   },
   "outputs": [
    {
     "data": {
      "text/plain": [
       "<matplotlib.text.Text at 0x7f4f7089db90>"
      ]
     },
     "execution_count": 13,
     "metadata": {},
     "output_type": "execute_result"
    },
    {
     "data": {
      "image/png": "[encoded data removed]",
      "text/plain": [
       "<matplotlib.figure.Figure at 0x7f4f7085e550>"
      ]
     },
     "metadata": {},
     "output_type": "display_data"
    }
   ],
   "source": [
    "plt.figure(figsize=[10, 10])\n",
    "plt.plot([0,1], [0,1], 'k-')\n",
    "plt.scatter(cfd_preds, naive_preds, c=mism)\n",
    "plt.xlabel('CFD')\n",
    "plt.ylabel('Naive')"
   ]
  },
  {
   "cell_type": "code",
   "execution_count": 59,
   "metadata": {
    "collapsed": false
   },
   "outputs": [],
   "source": [
    "corr_cfd_preds = cfd_preds * np.power(0.5, mism-1)# np.power((Y['Day21-ETP'] >= 1.).sum()/float(Y.shape[0]), mism-1) "
   ]
  },
  {
   "cell_type": "code",
   "execution_count": 60,
   "metadata": {
    "collapsed": true
   },
   "outputs": [],
   "source": [
    "corr_naive_preds = naive_preds.flatten() * np.power((Y['Day21-ETP'] >= 1.).sum()/float(Y.shape[0]), mism-1)"
   ]
  },
  {
   "cell_type": "code",
   "execution_count": 61,
   "metadata": {
    "collapsed": false
   },
   "outputs": [
    {
     "name": "stdout",
     "output_type": "stream",
     "text": [
      "CFD: 0.3559\n",
      "CFD-corrected: 0.4761\n",
      "Naive: 0.3951\n",
      "Naive-corrected: 0.4744\n"
     ]
    }
   ],
   "source": [
    "print(\"CFD: %.4f\" % sp.stats.spearmanr(cfd_preds, truth)[0])\n",
    "print(\"CFD-corrected: %.4f\" % sp.stats.spearmanr(corr_cfd_preds, truth)[0])\n",
    "print(\"Naive: %.4f\" % sp.stats.spearmanr(naive_preds, truth)[0])\n",
    "print(\"Naive-corrected: %.4f\" % sp.stats.spearmanr(corr_naive_preds, truth)[0])"
   ]
  },
  {
   "cell_type": "code",
   "execution_count": 40,
   "metadata": {
    "collapsed": false
   },
   "outputs": [
    {
     "data": {
      "text/plain": [
       "array([  2.3680506 ,   2.26472041,   1.45552022,   2.68625739,\n",
       "         2.18488796,   0.45480649,   2.14516273,   3.28211813,\n",
       "         0.61314652,   1.43429009,   1.55567356,   1.54765057,\n",
       "         0.78031713,  10.82742081,   0.81634316,   5.80988689,\n",
       "         2.45661829,   1.18719095,   3.60321393,   0.65121391,\n",
       "         1.12621043,  10.35216209,   7.42881372,   1.32170616,\n",
       "         0.42857143,   3.32127799,   1.96366042,   1.44912986,\n",
       "         1.1708729 ,   0.33059384,   0.14826832,   0.14772908,\n",
       "         2.67648775,   1.04194226,   0.82052953,   0.30318595,\n",
       "         0.92895359,   1.8682037 ,   2.94787987,   3.30321354,\n",
       "         2.02646951,   0.14572916,   0.58609252,   3.40034703,\n",
       "         1.25751652,   2.34192678,   0.74015545,   1.35382939,\n",
       "         3.12126852,   0.63543565,   1.49854052,   2.1479024 ,\n",
       "         0.        ,   6.41208297,   1.3034843 ,   2.05883673,\n",
       "         0.63493357,   3.28309368,   7.63714184,   0.77356319,\n",
       "         1.35320723,   1.28686212,   1.38069873,   0.84349917,\n",
       "         0.47603889,   1.18328932,   1.30116059,   1.65308147,\n",
       "         1.79756747,   0.61001823,   5.16428064,   1.31870818,\n",
       "         0.38495404,   7.71824802,   1.20545543,   0.8962231 ,\n",
       "         0.16206681,   2.10752829,   0.88687265,   1.72493085,\n",
       "         1.34955515,   5.40277362,   1.37210408,   1.42380934,\n",
       "         4.58417155,   6.98770941,   1.17743244,   0.767108  ,\n",
       "         0.        ,   0.25968003,   0.73966003,   0.69874815,\n",
       "         1.40261458,   0.58898312,   2.03504348,   1.5421075 ,\n",
       "         1.534216  ,   2.72421981,   1.38060008,   4.37159666,\n",
       "         1.74235439,   3.48409942,   1.49103389,   0.91169948,\n",
       "         1.55050932,   1.25591255,   2.09155928,   0.70155349,\n",
       "         1.90802763,   0.85471826,   0.8088102 ,   3.51142708,\n",
       "         0.89672679,   7.90080771,   3.72277287,   1.39816901,\n",
       "         0.22875683,   1.55529376,   1.99194844,   0.74455457,\n",
       "         1.51397287,   2.47418444,   3.65951415,   1.46251791,\n",
       "         1.30807256,   3.03659702,   4.23532128,   1.78575065,\n",
       "         0.80216108,   9.85663058,   1.89633492,   0.20105827,\n",
       "         0.        ,   1.2616286 ,   1.53724593,   6.50158969,\n",
       "         2.05231052,   2.18488796,   0.22792487,   2.3458934 ,\n",
       "         1.28686212,   8.16353156,   1.78226966,   1.40261458,\n",
       "         2.45263605,   0.64522849,   9.85454881,   0.24019762,\n",
       "         4.34454503,   1.31079902,  11.09627238,   2.06089557,\n",
       "         1.76957868,   0.76582756,   1.60129784,   2.27223563,\n",
       "         2.30457368,   6.32624378,   0.44043453,  11.95176731,\n",
       "         0.55305299,   1.75737469,   6.11412121,   2.78820126,\n",
       "         1.53165513,   5.16344432,   1.97181624,   1.17218505,\n",
       "         2.70729363,   0.12594051,  10.63671056,   0.5407046 ,\n",
       "         2.81501088,   1.24322656,   3.52053022,   6.91932914,\n",
       "         0.47836507,   0.59781786,   4.36024187,   0.19176371,\n",
       "         1.68777424,   0.03999391,   0.68565829,   7.93876939,\n",
       "         1.03317592,   3.04420753,   2.38236822,   2.80756376,\n",
       "         6.36755462,   0.14689421,   1.11690925,   0.03066335,\n",
       "         1.69216949,   0.52287277,   0.46666667,   1.47274531,\n",
       "         2.17227251,   5.53492279,   2.99325824,   2.9522471 ,\n",
       "         0.09768209,   0.07810178,   2.82996467,   3.79285677,\n",
       "         5.06099503,   1.8898688 ,   2.09153366,   4.46845938,\n",
       "        20.52334232,   0.14772908,   0.28813863,   1.99434261,\n",
       "         6.9875671 ,   4.14583061,   0.80064892,   2.37053548,\n",
       "         2.78820126,   3.87321048,   0.14772908,   1.77115872,\n",
       "         1.69315618,   1.1840253 ,   3.11189724,   1.53165513,\n",
       "         1.41819919,   2.91980482,   5.15173583,   3.17470672,\n",
       "         0.27649667,   4.46845938,   0.981447  ,   0.66720744,\n",
       "         1.17218505,   1.26986713,   1.70943652,   4.86249625,\n",
       "         1.03225423,   0.85427936,   3.2497202 ,   1.7025101 ,\n",
       "         6.87012899,   1.6876376 ,   2.9169639 ,   0.10552077,\n",
       "        11.0260686 ,   3.81269156,   0.14772908,   1.26997088,\n",
       "        12.34919684,   0.68115478,   1.09741604,   1.22003645,\n",
       "         5.96474414,   2.63714725,   2.7807665 ,   3.74663552,\n",
       "         3.23424534,   1.02281067,   2.98063409,   0.38306701,\n",
       "         1.32547078,   9.09031788,   1.24616911,   3.26541262,\n",
       "         3.8618178 ,   1.08001323,   1.46108661,   5.47463404,\n",
       "         5.06099503,   1.03283438,   0.42232031,   1.38610515,\n",
       "         3.42273771,   5.93711386,   1.16034479,   5.70984054,\n",
       "         0.72399665,   2.95630238,   6.54566803,   0.32523585,\n",
       "         3.19641791,   2.47639067,   4.02616961,   0.6762606 ,\n",
       "         0.13295617,   6.6641074 ,   0.10552077,   2.36116093,\n",
       "         0.45289232,   7.78614619,   3.90728348,   1.72843026,\n",
       "         2.00573885,   2.4401226 ,  10.02369873,   1.32547078,\n",
       "         2.66564296,   7.50076431,   2.10015931,   0.13295617,\n",
       "         0.70075316,   1.35948584,   0.37173441,   0.76176482,\n",
       "         1.42348384,   1.43309645,   2.19047591,   2.87905099,\n",
       "         4.37970723,   0.85402552,   0.96179286,   1.82827406,\n",
       "         0.96695399,   2.94808413,   2.18807875,   1.2081951 ,\n",
       "         1.84408726,   3.54269652,   0.        ,   1.73025471,\n",
       "         3.26541262,   2.52597208,   0.65284928,   6.51657618,\n",
       "         0.05643854,   2.99151392,   1.91456891,   1.33336049,\n",
       "         0.34694787,   3.32127799,   1.67280485,   0.82052953,\n",
       "         3.43139456,   1.50681928,   1.62144627,   1.885277  ,\n",
       "         1.05437396,   7.76848514,   0.28730026,   2.61467563,\n",
       "         0.27580825,   1.84930087,   1.03587617,   1.27802905,\n",
       "         1.26994393,   0.25      ,   2.12729879,   7.61051883,\n",
       "         1.88946414,   1.69530895,   3.6601839 ,   3.79285677,\n",
       "         3.2701814 ,   0.36231386,   2.81552608,   0.52097113,\n",
       "         2.51292461,   1.28175807,   1.25294307,   1.6030301 ,\n",
       "         1.41028513,   3.85726866,   0.        ,   0.05009338,\n",
       "         1.19513819,   2.02878181,   1.26809849,   0.62616722,\n",
       "         2.0168478 ,   0.05998023,   1.45777349,   1.02008333,\n",
       "         0.27833223,   8.52659389,   2.36179768,   1.83837445,\n",
       "        16.28102231,   0.07958823,   2.33504555,   3.31796003,\n",
       "         0.54422877,   1.03034265,  13.09763301,   3.92934396,\n",
       "         1.10859082,   1.08845754,   2.81501088,   1.87272167,\n",
       "         2.86534122,   1.30242783,   1.99276679,   1.86982575,\n",
       "         1.04659379,   5.26799661,   1.63043232,   6.28881039,\n",
       "         0.90248   ,   5.30618376,   1.56990992,   1.39038325,\n",
       "        12.80041749,   0.3425216 ])"
      ]
     },
     "execution_count": 40,
     "metadata": {},
     "output_type": "execute_result"
    }
   ],
   "source": [
    "corr_cfd_preds"
   ]
  },
  {
   "cell_type": "code",
   "execution_count": 21,
   "metadata": {
    "collapsed": false
   },
   "outputs": [
    {
     "name": "stdout",
     "output_type": "stream",
     "text": [
      "[0, 0]: Spearman R for fold: 0.652 naive, 0.572 stacker, 0.440 CFD\n",
      "[1, 0]: Spearman R for fold: 0.328 naive, 0.436 stacker, 0.317 CFD\n",
      "[2, 0]: Spearman R for fold: 0.193 naive, 0.203 stacker, 0.394 CFD\n",
      "[3, 0]: Spearman R for fold: 0.732 naive, 0.548 stacker, 0.603 CFD\n",
      "[4, 0]: Spearman R for fold: 0.515 naive, 0.432 stacker, 0.260 CFD\n",
      "[5, 0]: Spearman R for fold: 0.386 naive, 0.512 stacker, 0.208 CFD\n",
      "[6, 0]: Spearman R for fold: 0.447 naive, 0.431 stacker, 0.562 CFD\n",
      "[7, 0]: Spearman R for fold: 0.614 naive, 0.635 stacker, 0.459 CFD\n",
      "[8, 0]: Spearman R for fold: 0.533 naive, 0.740 stacker, 0.412 CFD\n",
      "[9, 0]: Spearman R for fold: 0.511 naive, 0.476 stacker, 0.273 CFD\n",
      "[10, 0]: Spearman R for fold: 0.138 naive, 0.343 stacker, 0.221 CFD\n",
      "[11, 0]: Spearman R for fold: 0.481 naive, 0.441 stacker, 0.185 CFD\n",
      "[12, 0]: Spearman R for fold: 0.207 naive, 0.272 stacker, 0.241 CFD\n",
      "[13, 0]: Spearman R for fold: 0.663 naive, 0.450 stacker, 0.296 CFD\n",
      "[14, 0]: Spearman R for fold: 0.616 naive, 0.509 stacker, 0.699 CFD\n",
      "[15, 0]: Spearman R for fold: 0.492 naive, 0.516 stacker, 0.404 CFD\n",
      "[16, 0]: Spearman R for fold: 0.632 naive, 0.563 stacker, 0.689 CFD\n",
      "[17, 0]: Spearman R for fold: 0.740 naive, 0.759 stacker, 0.752 CFD\n",
      "[18, 0]: Spearman R for fold: 0.295 naive, 0.391 stacker, 0.056 CFD\n",
      "[19, 0]: Spearman R for fold: 0.412 naive, 0.520 stacker, 0.325 CFD\n",
      "[seed=0] total Spearman r: 0.474 naive, 0.474 stacker, 0.356 CFD\n"
     ]
    }
   ],
   "source": [
    "preds_corr = preds * (Y['Day21-ETP'] >= 1.).sum()/float(Y.shape[0])\n",
    "stacker_preds_c, naive_preds_c, cfd_preds_c, y_all, r_naive, r_stacker =  cross_validate_guideseq(guideseq_data, preds_corr, learn_options)"
   ]
  },
  {
   "cell_type": "code",
   "execution_count": 22,
   "metadata": {
    "collapsed": false
   },
   "outputs": [],
   "source": [
    "naive_res = get_corr_by_mismatches(naive_preds_c, truth, mism)\n",
    "stacker_res = get_corr_by_mismatches(stacker_preds_c, truth, mism)\n",
    "cfd_res = get_corr_by_mismatches(cfd_preds_c, truth, mism)"
   ]
  },
  {
   "cell_type": "code",
   "execution_count": 23,
   "metadata": {
    "collapsed": false
   },
   "outputs": [
    {
     "data": {
      "text/plain": [
       "(2, 6)"
      ]
     },
     "execution_count": 23,
     "metadata": {},
     "output_type": "execute_result"
    },
    {
     "data": {
      "image/png": "[encoded data removed]",
      "text/plain": [
       "<matplotlib.figure.Figure at 0x7f4f07eb9f50>"
      ]
     },
     "metadata": {},
     "output_type": "display_data"
    }
   ],
   "source": [
    "plt.figure(figsize=(10,6))\n",
    "plt.plot(cfd_res[:,0], cfd_res[:,1], 'o-r', label='CFD')\n",
    "plt.plot(naive_res[:,0], naive_res[:,1], 'o-g', label='naive')\n",
    "plt.plot(stacker_res[:,0], stacker_res[:,1], 'o-b', label='stacker')\n",
    "plt.legend(loc=0)\n",
    "plt.xlabel('#mismatches')\n",
    "plt.ylabel('Spearman')\n",
    "plt.xlim((2, 6))"
   ]
  },
  {
   "cell_type": "code",
   "execution_count": 24,
   "metadata": {
    "collapsed": false
   },
   "outputs": [
    {
     "name": "stderr",
     "output_type": "stream",
     "text": [
      "WARNING:root:using existing cache dir: /tmp/tmpMCHFIU \n"
     ]
    },
    {
     "data": {
      "text/plain": [
       "0.46837008036266226"
      ]
     },
     "execution_count": 24,
     "metadata": {},
     "output_type": "execute_result"
    }
   ],
   "source": [
    " (Y['Day21-ETP'] >= 1.).sum()/float(Y.shape[0])"
   ]
  },
  {
   "cell_type": "code",
   "execution_count": null,
   "metadata": {
    "collapsed": true
   },
   "outputs": [],
   "source": []
  }
 ],
 "metadata": {
  "kernelspec": {
   "display_name": "Python 2",
   "language": "python",
   "name": "python2"
  },
  "language_info": {
   "codemirror_mode": {
    "name": "ipython",
    "version": 2
   },
   "file_extension": ".py",
   "mimetype": "text/x-python",
   "name": "python",
   "nbconvert_exporter": "python",
   "pygments_lexer": "ipython2",
   "version": "2.7.11"
  }
 },
 "nbformat": 4,
 "nbformat_minor": 0
}
