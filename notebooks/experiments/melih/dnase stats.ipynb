{
 "cells": [
  {
   "cell_type": "code",
   "execution_count": 3,
   "metadata": {
    "collapsed": true
   },
   "outputs": [],
   "source": [
    "%matplotlib inline\n",
    "import matplotlib.pyplot as plt\n",
    "import pandas as pd\n",
    "import numpy as np"
   ]
  },
  {
   "cell_type": "code",
   "execution_count": 4,
   "metadata": {
    "collapsed": false
   },
   "outputs": [],
   "source": [
    "filename = \"C:\\\\dev\\\\dnase_elevation\\\\average_pk.txt\"\n",
    "filename2 = \"C:\\\\dev\\\\dnase_elevation\\\\average_pk.inmemory.txt\"\n",
    "# filename = \"C:\\\\dev\\\\dnase_elevation\\\\k562_pk.txt\"\n",
    "\n",
    "df = pd.read_csv(filename, delimiter=\"\\t\")\n",
    "df2 = pd.read_csv(filename2, delimiter=\"\\t\")"
   ]
  },
  {
   "cell_type": "code",
   "execution_count": null,
   "metadata": {
    "collapsed": true
   },
   "outputs": [],
   "source": [
    "# compare the two.\n",
    "assert df['chrom'].unique() == df['chrom'].unique()"
   ]
  },
  {
   "cell_type": "code",
   "execution_count": 5,
   "metadata": {
    "collapsed": false
   },
   "outputs": [
    {
     "name": "stdout",
     "output_type": "stream",
     "text": [
      "(11901583L,)\n",
      "(0.0105263157895, 31685.094736799998, 9.2468084853657189, 1.1578947368400001)\n"
     ]
    }
   ],
   "source": [
    "chromosomes = df['chrom'].unique()\n",
    "values = np.sort(df['signalValue'].values)\n",
    "print values.shape\n",
    "print(values.min(), values.max(), values.mean(), np.median(values))"
   ]
  },
  {
   "cell_type": "code",
   "execution_count": 49,
   "metadata": {
    "collapsed": false,
    "scrolled": true
   },
   "outputs": [
    {
     "data": {
      "text/plain": [
       "(array([ 5441689.,  1580745.,   851404.,   552065.,   404472.,   311605.,\n",
       "          246859.,   204184.,   172667.,   147681.]),\n",
       " array([ 0.01052632,  0.93368421,  1.85684211,  2.78      ,  3.70315789,\n",
       "         4.62631579,  5.54947368,  6.47263158,  7.39578947,  8.31894737,\n",
       "         9.24210526]),\n",
       " <a list of 10 Patch objects>)"
      ]
     },
     "execution_count": 49,
     "metadata": {},
     "output_type": "execute_result"
    },
    {
     "data": {
      "image/png": "[encoded data removed]",
      "text/plain": [
       "<matplotlib.figure.Figure at 0x3691ae80>"
      ]
     },
     "metadata": {},
     "output_type": "display_data"
    }
   ],
   "source": [
    "plt.hist(values[values < values.mean()])\n",
    "# plt.hist(values)"
   ]
  },
  {
   "cell_type": "code",
   "execution_count": 50,
   "metadata": {
    "collapsed": false
   },
   "outputs": [],
   "source": [
    "# just look at relevant chromosomes\n",
    "relevant_chroms = [\"chr%d\" % i for i in range(1, 23)]\n",
    "for i in relevant_chroms:\n",
    "    if i not in chromosomes:\n",
    "        print i"
   ]
  },
  {
   "cell_type": "code",
   "execution_count": 51,
   "metadata": {
    "collapsed": false
   },
   "outputs": [
    {
     "name": "stdout",
     "output_type": "stream",
     "text": [
      "chr1 17.4609961574 0.0210526315789 31685.0947368 9.7989507323 1.18947368421\n",
      "chr2 16.4677629368 0.0105263157895 3661.36842105 8.60120811608 1.12631578947\n",
      "chr3 16.4772961471 0.0210526315789 1536.4 8.72612260728 1.12631578947\n",
      "chr4 13.5225422328 0.0210526315789 1234.28421053 7.42502080542 1.03157894737\n",
      "chr5 15.2670894182 0.0210526315789 2792.86315789 8.63722375206 1.13684210526\n",
      "chr6 16.9740531683 0.0210526315789 1266.28421053 9.11301752987 1.18947368421\n",
      "chr7 16.2153242823 0.0210526315789 1392.85263158 8.52735198747 1.06315789474\n",
      "chr8 16.165475107 0.0210526315789 1297.01052632 8.39960392096 1.11578947368\n",
      "chr9 14.3202722157 0.0210526315789 1178.44210526 9.09162934134 1.21052631579\n",
      "chr10 16.8403511929 0.0210526315789 1567.18947368 8.86296300367 1.16842105263\n",
      "chr11 17.0061046001 0.0210526315789 1339.18947368 9.76302185054 1.16842105263\n",
      "chr12 17.3540501309 0.0210526315789 1328.13684211 9.62209895544 1.18947368421\n",
      "chr13 14.3443237855 0.0210526315789 1238.86315789 7.56904224317 1.04210526316\n",
      "chr14 15.9548776819 0.0210526315789 1495.74736842 9.76054944162 1.2\n",
      "chr15 17.1950392311 0.0210526315789 1239.28421053 9.56355492627 1.24210526316\n",
      "chr16 15.4736208114 0.0210526315789 1339.32631579 10.2666729731 1.21052631579\n",
      "chr17 21.1149446526 0.0210526315789 3449.22105263 11.7774091111 1.36842105263\n",
      "chr18 13.6037766531 0.0210526315789 897.989473684 7.47076349278 1.07368421053\n",
      "chr19 19.2722663764 0.0210526315789 1482.88421053 17.1584590429 1.43157894737\n",
      "chr20 19.85633988 0.0210526315789 1342.90526316 9.89624700109 1.18947368421\n",
      "chr21 14.089150092 0.0210526315789 1322.61052632 8.70182921093 1.12631578947\n",
      "chr22 18.7015206446 0.0210526315789 1271.31578947 9.94757119825 1.26315789474\n"
     ]
    }
   ],
   "source": [
    "for chrom in relevant_chroms:\n",
    "    chrom_df = df[df['chrom'] == chrom]\n",
    "    coverage = np.sum(chrom_df['chromEnd'] - chrom_df['chromStart'])\n",
    "    total = chrom_df['chromEnd'].max() - chrom_df['chromStart'].min()\n",
    "    values = np.sort(chrom_df['signalValue'].values)\n",
    "    # print \"chrom\", chrom_df['chromStart'].min(), chrom_df['chromEnd'].max()\n",
    "    # print chrom, coverage, total, float(coverage)/total*100\n",
    "    print chrom, float(coverage)/total*100, values.min(), values.max(), values.mean(), np.median(values)"
   ]
  },
  {
   "cell_type": "code",
   "execution_count": 53,
   "metadata": {
    "collapsed": false
   },
   "outputs": [
    {
     "name": "stdout",
     "output_type": "stream",
     "text": [
      "chr1 43466770 248936370 17.4609961574\n"
     ]
    },
    {
     "data": {
      "text/plain": [
       "(array([ 519518.,  145571.,   78354.,   51876.,   37486.,   28459.,\n",
       "          23143.,   18700.,   15668.,   13581.]),\n",
       " array([ 0.02105263,  0.99789474,  1.97473684,  2.95157895,  3.92842105,\n",
       "         4.90526316,  5.88210526,  6.85894737,  7.83578947,  8.81263158,\n",
       "         9.78947368]),\n",
       " <a list of 10 Patch objects>)"
      ]
     },
     "execution_count": 53,
     "metadata": {},
     "output_type": "execute_result"
    },
    {
     "data": {
      "image/png": "[encoded data removed]",
      "text/plain": [
       "<matplotlib.figure.Figure at 0x1a1b5278>"
      ]
     },
     "metadata": {},
     "output_type": "display_data"
    }
   ],
   "source": [
    "chrom = \"chr1\"\n",
    "chrom_df = df[df['chrom'] == chrom]\n",
    "coverage = np.sum(chrom_df['chromEnd'] - chrom_df['chromStart'])\n",
    "total = chrom_df['chromEnd'].max() - chrom_df['chromStart'].min()\n",
    "print chrom, coverage, total, float(coverage)/total*100\n",
    "# print \"chrom\", chrom_df['chromStart'].min(), chrom_df['chromEnd'].max()\n",
    "chrom_values = chrom_df['signalValue']\n",
    "chrom_values = chrom_values[chrom_values < chrom_values.mean()]\n",
    "plt.hist(chrom_values)"
   ]
  }
 ],
 "metadata": {
  "anaconda-cloud": {},
  "kernelspec": {
   "display_name": "Python [elevation]",
   "language": "python",
   "name": "Python [elevation]"
  },
  "language_info": {
   "codemirror_mode": {
    "name": "ipython",
    "version": 2
   },
   "file_extension": ".py",
   "mimetype": "text/x-python",
   "name": "python",
   "nbconvert_exporter": "python",
   "pygments_lexer": "ipython2",
   "version": "2.7.12"
  }
 },
 "nbformat": 4,
 "nbformat_minor": 0
}
