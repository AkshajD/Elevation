{
 "cells": [
  {
   "cell_type": "code",
   "execution_count": 1,
   "metadata": {
    "collapsed": false
   },
   "outputs": [
    {
     "data": {
      "text/plain": [
       "<module 'elevation.aggregation' from 'c:\\dev\\elevation\\elevation\\aggregation.pyc'>"
      ]
     },
     "execution_count": 1,
     "metadata": {},
     "output_type": "execute_result"
    }
   ],
   "source": [
    "%reload_ext autoreload\n",
    "%autoreload 2\n",
    "%matplotlib inline\n",
    "import os\n",
    "import numpy as np\n",
    "import pandas as pd\n",
    "import elevation\n",
    "import elevation.prediction_pipeline as pp\n",
    "import elevation.aggregation\n",
    "from IPython.core.debugger import Tracer\n",
    "import matplotlib.pyplot as plt\n",
    "np.random.seed(123) \n",
    "import scipy.stats as st\n",
    "import pickle\n",
    "#import seaborn\n",
    "import matplotlib\n",
    "import azimuth.util\n",
    "import sklearn\n",
    "import copy\n",
    "import sklearn.cross_validation\n",
    "import sklearn.ensemble\n",
    "import sklearn.linear_model\n",
    "from sklearn.grid_search import GridSearchCV\n",
    "import elevation.aggregation\n",
    "reload(elevation.aggregation)"
   ]
  },
  {
   "cell_type": "code",
   "execution_count": 87,
   "metadata": {
    "collapsed": false
   },
   "outputs": [],
   "source": [
    "original_new_gecko_df = pd.read_csv('C:\\\\dev\\\\CRISPR\\\\data\\\\Mudra_clean.2017-04-10\\\\GeCKOv2_essential_nonessential_v4.csv')"
   ]
  },
  {
   "cell_type": "code",
   "execution_count": 88,
   "metadata": {
    "collapsed": false
   },
   "outputs": [
    {
     "data": {
      "text/plain": [
       "363"
      ]
     },
     "execution_count": 88,
     "metadata": {},
     "output_type": "execute_result"
    }
   ],
   "source": [
    "df = original_new_gecko_df\n",
    "np.sum((df[\"Non-Essential genes\"] == \"Y\") & (df[\"Essential genes\"] == \"Y\"))"
   ]
  },
  {
   "cell_type": "code",
   "execution_count": 89,
   "metadata": {
    "collapsed": false
   },
   "outputs": [
    {
     "name": "stdout",
     "output_type": "stream",
     "text": [
      "['Cell viability (final - initial)']\n",
      "['N', 'Y']\n"
     ]
    }
   ],
   "source": [
    "new_gecko_df = original_new_gecko_df\n",
    "print new_gecko_df[\"Assay Type\"].unique().tolist()\n",
    "print new_gecko_df[\"Non-Essential genes\"].unique().tolist()\n",
    "\n",
    "data = new_gecko_df\n",
    "isviability = data[\"Assay Type\"].apply(lambda x: \"viability\" in x if isinstance(x, basestring) else False)\n",
    "isnot_essential = data['Non-Essential genes'] == \"Y\"\n",
    "viable_and_essential = (isviability & isnot_essential) | (~isviability)\n",
    "new_gecko_df = data[viable_and_essential]\n",
    "\n",
    "celltypes = new_gecko_df['Cell Type'].unique()\n",
    "original_celltypes = celltypes\n",
    "celltypes = map(lambda x: x.split(\"_\")[0], celltypes)\n",
    "celltype_map = dict(zip(celltypes, original_celltypes))"
   ]
  },
  {
   "cell_type": "code",
   "execution_count": 69,
   "metadata": {
    "collapsed": false
   },
   "outputs": [
    {
     "data": {
      "text/plain": [
       "(160578, 29)"
      ]
     },
     "execution_count": 69,
     "metadata": {},
     "output_type": "execute_result"
    }
   ],
   "source": [
    "new_gecko_df.shape"
   ]
  },
  {
   "cell_type": "code",
   "execution_count": 93,
   "metadata": {
    "collapsed": false
   },
   "outputs": [
    {
     "name": "stdout",
     "output_type": "stream",
     "text": [
      "['A375_SKIN']\n"
     ]
    }
   ],
   "source": [
    "a = new_gecko_df[new_gecko_df['Cell Type'] == celltype_map['A375']]\n",
    "print a['Cell Type'].unique()\n",
    "a = a.dropna(how=\"any\", subset=['sgRNA context sequence'])\n",
    "b = pd.read_csv('../../CRISPR/data/offtarget/3MM_michael/GeCKOv2_Non_essentials_Achilles_A375.txt', delimiter='\\t')"
   ]
  },
  {
   "cell_type": "code",
   "execution_count": 95,
   "metadata": {
    "collapsed": false
   },
   "outputs": [],
   "source": [
    "a['full_seq'] = a['sgRNA context sequence'].apply(lambda x: x[4:20+4+3])\n",
    "b['full_seq'] = b['sgRNA context sequence'].apply(lambda x: x[4:20+4+3])\n",
    "ab = pd.merge(a, b, how='outer', left_on='full_seq', right_on='full_seq', indicator=True)"
   ]
  },
  {
   "cell_type": "code",
   "execution_count": 101,
   "metadata": {
    "collapsed": false
   },
   "outputs": [
    {
     "name": "stdout",
     "output_type": "stream",
     "text": [
      "4763 4697 4773\n"
     ]
    }
   ],
   "source": [
    "print a.shape[0], b.shape[0], ab.shape[0]"
   ]
  },
  {
   "cell_type": "code",
   "execution_count": 104,
   "metadata": {
    "collapsed": false
   },
   "outputs": [
    {
     "name": "stdout",
     "output_type": "stream",
     "text": [
      "0\n"
     ]
    }
   ],
   "source": [
    "num_nan = 0\n",
    "for seq, x, y in ab[ab['_merge'] == 'both'][['full_seq', 'sgRNA measured value_x', 'sgRNA measured value_y']].values:\n",
    "    if np.isnan(x) or np.isnan(y):\n",
    "        num_nan += 1\n",
    "        continue\n",
    "    assert np.allclose(x, -y), \"%f %f\" % (x, y)\n",
    "print num_nan"
   ]
  },
  {
   "cell_type": "code",
   "execution_count": 105,
   "metadata": {
    "collapsed": false
   },
   "outputs": [
    {
     "name": "stdout",
     "output_type": "stream",
     "text": [
      "(4763, 4697)\n"
     ]
    }
   ],
   "source": [
    "print(len(a), len(b))"
   ]
  },
  {
   "cell_type": "code",
   "execution_count": 106,
   "metadata": {
    "collapsed": false
   },
   "outputs": [
    {
     "name": "stdout",
     "output_type": "stream",
     "text": [
      "[both, left_only, right_only]\n",
      "Categories (3, object): [both, left_only, right_only]\n",
      "(1, 56)\n",
      "sgRNA measured value_x    1.59897\n",
      "sgRNA measured value_y        NaN\n",
      "Name: 975, dtype: object\n",
      "sgRNA context sequence_x    ACTTAAGTCAACACCAGATACAAGAGGAACAGGAGG\n",
      "sgRNA context sequence_y                                     NaN\n",
      "Name: 975, dtype: object\n"
     ]
    }
   ],
   "source": [
    "print ab['_merge'].unique()\n",
    "print ab[ab['full_seq'] == 'AAGTCAACACCAGATACAAGAGG'].shape\n",
    "print ab[ab['full_seq'] == 'AAGTCAACACCAGATACAAGAGG'].iloc[0][['sgRNA measured value_x', 'sgRNA measured value_y']]\n",
    "print ab[ab['full_seq'] == 'AAGTCAACACCAGATACAAGAGG'].iloc[0][['sgRNA context sequence_x', 'sgRNA context sequence_y']]"
   ]
  },
  {
   "cell_type": "code",
   "execution_count": 6,
   "metadata": {
    "collapsed": false
   },
   "outputs": [
    {
     "data": {
      "text/plain": [
       "Species_x                                                                     human\n",
       "Build_x                                                                      GRCh38\n",
       "Chromosome Number_x                                                              13\n",
       "Gene Strand_x                                                                     +\n",
       "Ensembl Gene ID_x                                                   ENSG00000132972\n",
       "Gene Symbol_x                                                               \"RNF17\"\n",
       "Ensembl Transcript ID_x                                             ENST00000255324\n",
       "Transcript TSS_x                                                        2.47642e+07\n",
       "sgRNA Start_x                                                           2.47783e+07\n",
       "sgRNA Stop_x                                                            2.47784e+07\n",
       "sgRNA Sequence_x                                               ACTGCTGATCAGCTAACTAC\n",
       "sgRNA context sequence_x                       GAAGACTGCTGATCAGCTAACTACTGGTTTAGAACG\n",
       "sgRNA PAM                                                                       TGG\n",
       "sgRNA Strand_x                                                                sense\n",
       "sgRNA start(0-based)                                                              4\n",
       "PAM start(0-based)                                                               24\n",
       "Amino acid cut position_x                                                       122\n",
       "Percent Protein_x                                                              7.52\n",
       "Publication_x                                             A.J. Aguirre et. al. 2016\n",
       "Cell Type_x                                                               A375_SKIN\n",
       "Drug                                                                            NaN\n",
       "Relevant drug                                                                   NaN\n",
       "Assay Type_x                                       Cell viability (final - initial)\n",
       "sgRNA measured value_x                                                     0.045339\n",
       "Transcript generation system_x                                                   U6\n",
       "Notes_x                                                                         NaN\n",
       "Annotation Date                                                           20-Jan-17\n",
       "Essential genes                                                                 NaN\n",
       "full_seq                                                    ACTGCTGATCAGCTAACTACTGG\n",
       "Species_y                                                                     human\n",
       "Build_y                                                                      GRCh38\n",
       "Chromosome Number_y                                                              13\n",
       "Gene Strand_y                                                                     +\n",
       "Ensembl Gene ID_y                                                   ENSG00000132972\n",
       "NCBI Gene ID                                                                    NaN\n",
       "Gene Symbol_y                                                                 RNF17\n",
       "Ensembl Transcript ID_y                                             ENST00000255324\n",
       "Transcript TSS_y                                                        2.47642e+07\n",
       "sgRNA Start_y                                                           2.47783e+07\n",
       "sgRNA Stop_y                                                            2.47784e+07\n",
       "sgRNA Sequence_y                                               ACTGCTGATCAGCTAACTAC\n",
       "sgRNA context sequence_y                       GAAGACTGCTGATCAGCTAACTACTGGTTTAGAACG\n",
       "sgRNA Strand_y                                                                sense\n",
       "Amino acid cut position_y                                                       122\n",
       "Percent Protein_y                                                              7.52\n",
       "Alternate Start codon                                                           NaN\n",
       "Final exon                                                                      NaN\n",
       "Publication_y                     Aguirre, AJ, Meyers, RM et al. 'Genomic copy n...\n",
       "Cell Type_y                                                                    A375\n",
       "Assay Type_y                                                          Proliferation\n",
       "sgRNA measured value_y                                                    -0.045339\n",
       "flip bit                                                                        NaN\n",
       "Transcript generation system_y                                                   U6\n",
       "Notes_y                                                                         NaN\n",
       "_merge                                                                         both\n",
       "Name: 12, dtype: object"
      ]
     },
     "execution_count": 6,
     "metadata": {},
     "output_type": "execute_result"
    }
   ],
   "source": [
    "ab[ab['full_seq'] == 'ACTGCTGATCAGCTAACTACTGG'].iloc[0]"
   ]
  }
 ],
 "metadata": {
  "kernelspec": {
   "display_name": "Python [elevation]",
   "language": "python",
   "name": "Python [elevation]"
  },
  "language_info": {
   "codemirror_mode": {
    "name": "ipython",
    "version": 2
   },
   "file_extension": ".py",
   "mimetype": "text/x-python",
   "name": "python",
   "nbconvert_exporter": "python",
   "pygments_lexer": "ipython2",
   "version": "2.7.12"
  }
 },
 "nbformat": 4,
 "nbformat_minor": 0
}
