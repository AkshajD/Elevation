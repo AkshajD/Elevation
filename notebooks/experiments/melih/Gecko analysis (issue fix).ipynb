{
 "cells": [
  {
   "cell_type": "code",
   "execution_count": 217,
   "metadata": {
    "collapsed": false,
    "scrolled": true
   },
   "outputs": [
    {
     "data": {
      "text/plain": [
       "<module 'elevation.aggregation' from 'c:\\dev\\elevation\\elevation\\aggregation.pyc'>"
      ]
     },
     "execution_count": 217,
     "metadata": {},
     "output_type": "execute_result"
    }
   ],
   "source": [
    "%reload_ext autoreload\n",
    "%autoreload 2\n",
    "%matplotlib inline\n",
    "import os\n",
    "import numpy as np\n",
    "import pandas as pd\n",
    "import elevation\n",
    "import elevation.prediction_pipeline as pp\n",
    "import elevation.aggregation\n",
    "from IPython.core.debugger import Tracer\n",
    "import matplotlib.pyplot as plt\n",
    "np.random.seed(123) \n",
    "import scipy.stats as st\n",
    "import pickle\n",
    "#import seaborn\n",
    "import matplotlib\n",
    "import azimuth.util\n",
    "import sklearn\n",
    "import copy\n",
    "import sklearn.cross_validation\n",
    "import sklearn.ensemble\n",
    "import sklearn.linear_model\n",
    "from sklearn.grid_search import GridSearchCV\n",
    "import elevation.aggregation\n",
    "reload(elevation.aggregation)"
   ]
  },
  {
   "cell_type": "code",
   "execution_count": 3,
   "metadata": {
    "collapsed": false
   },
   "outputs": [],
   "source": [
    "# how this was loaded:\n",
    "# with open(savefile + \"_groupby_nonagg.p\", 'wb') as f:  pickle.dump([all_predictions, gene_names, off_target_seq, models_to_calibrate], f)\n",
    "\n",
    "# with open('\\\\\\\\nerds5\\\\compbio_storage\\\\CRISPR.offtarget\\\\gecko_new.calib1_ctnm1.3MM.v10.N9919088_groupby_nonagg_small.p', 'rb') as f:\n",
    "with open('\\\\\\\\nerds5\\\\compbio_storage\\\\CRISPR.offtarget\\\\gecko_new.calib1_ctnm1.3MM.v10.N9919088_groupby_nonagg.p', 'rb') as f:\n",
    "    results_gecko = pickle.load(f)# with open('/mnt/nerds5_genetics/CRISPR.offtarget/allsitesGecko.calib0_countnormTrue.v7.gbrtw1.00e+02.N3137128_groupby_nonagg_small.p', 'rb') as f:"
   ]
  },
  {
   "cell_type": "code",
   "execution_count": 18,
   "metadata": {
    "collapsed": true
   },
   "outputs": [],
   "source": [
    "new_gecko_df = pd.read_csv('C:\\\\dev\\\\CRISPR\\\\data\\\\Mudra.clean.3.6.2017\\\\GeCKOv2_dataset_annotation_20170122_scores_essential.csv')\n",
    "celltypes = new_gecko_df['Cell Type'].unique()\n",
    "original_celltypes = celltypes\n",
    "celltypes = map(lambda x: x.split(\"_\")[0], celltypes)\n",
    "celltype_map = dict(zip(celltypes, original_celltypes))"
   ]
  },
  {
   "cell_type": "code",
   "execution_count": 19,
   "metadata": {
    "collapsed": false
   },
   "outputs": [
    {
     "name": "stdout",
     "output_type": "stream",
     "text": [
      "A375 A375_SKIN\n",
      "A673 A673_BONE\n",
      "BXPC3 BXPC3_PANCREAS\n",
      "CADOES1 CADOES1_BONE\n",
      "CAL120 CAL120_BREAST\n",
      "COLO741 COLO741_SKIN\n",
      "CORL105 CORL105_LUNG\n",
      "EW8 EW8_BONE\n",
      "EWS502 EWS502_BONE\n",
      "G402 G402_SOFT_TISSUE\n",
      "HCC44 HCC44_LUNG\n",
      "HS294T HS294T_SKIN\n",
      "HT29 HT29_LARGE_INTESTINE\n",
      "K562 K562_HAEMATOPOIETIC_AND_LYMPHOID_TISSUE\n",
      "L33 L33_PANCREAS\n",
      "LNCAPCLONEFGC LNCAPCLONEFGC_PROSTATE\n",
      "MEWO MEWO_SKIN\n",
      "MHHES1 MHHES1_BONE\n",
      "NCIH1373 NCIH1373_LUNG\n",
      "NCIH2009 NCIH2009_LUNG\n",
      "PANC0327 PANC0327_PANCREAS\n",
      "PANC0813 PANC0813_PANCREAS\n",
      "PANC1 PANC1_PANCREAS\n",
      "PATU8902 PATU8902_PANCREAS\n",
      "PATU8988T PATU8988T_PANCREAS\n",
      "PC3 PC3_PROSTATE\n",
      "RDES RDES_BONE\n",
      "SKES1 SKES1_BONE\n",
      "SU8686 SU8686_PANCREAS\n",
      "T47D T47D_BREAST\n",
      "TC32 TC32_BONE\n",
      "TC71 TC71_BONE\n",
      "TOV112D TOV112D_OVARY\n"
     ]
    }
   ],
   "source": [
    "# test everything is equal\n",
    "seq_by_celltype = {}\n",
    "for celltype, ocelltype in zip(celltypes, original_celltypes):\n",
    "    print celltype, ocelltype\n",
    "    seq_by_celltype[celltype] = np.sort(new_gecko_df[new_gecko_df['Cell Type'] == ocelltype]['sgRNA context sequence'].dropna(how=\"any\").apply(lambda x: x[4:20+4+3]).values)"
   ]
  },
  {
   "cell_type": "code",
   "execution_count": 6,
   "metadata": {
    "collapsed": false
   },
   "outputs": [
    {
     "name": "stdout",
     "output_type": "stream",
     "text": [
      "102354\n",
      "4537\n",
      "4537\n"
     ]
    }
   ],
   "source": [
    "curr_set = None\n",
    "for k, v in seq_by_celltype.iteritems():\n",
    "    if curr_set is not None:\n",
    "        assert curr_set.symmetric_difference(set(v)) == set()\n",
    "    curr_set = set(v)\n",
    "print len(curr_set)\n",
    "new_set = curr_set\n",
    "\n",
    "curr_set = None\n",
    "for method in results_gecko[0]:\n",
    "    next_set = set(results_gecko[0][method].keys())\n",
    "    if curr_set is not None:\n",
    "        assert curr_set.symmetric_difference(next_set) == set()\n",
    "    curr_set = next_set\n",
    "print len(curr_set)\n",
    "old_set = curr_set\n",
    "\n",
    "results_gecko_sequences = set(results_gecko[2].keys())\n",
    "assert results_gecko_sequences == old_set\n",
    "assert results_gecko_sequences - new_set == set()\n",
    "print len(results_gecko_sequences)"
   ]
  },
  {
   "cell_type": "code",
   "execution_count": 7,
   "metadata": {
    "collapsed": true
   },
   "outputs": [],
   "source": [
    "gecko_offtarget_df = pd.read_csv('C:\\dev\\dnase_elevation\\gecko_offtargets.csv')"
   ]
  },
  {
   "cell_type": "code",
   "execution_count": 8,
   "metadata": {
    "collapsed": true
   },
   "outputs": [],
   "source": [
    "gecko_offtarget_dict = {ontarget: {} for ontarget in gecko_offtarget_df['ontarget'].unique()}\n",
    "for ontarget, offtarget, c, s, e in gecko_offtarget_df[['ontarget', 'offtarget', 'chromosome', 'start', 'end']].values:\n",
    "    gecko_offtarget_dict[ontarget][offtarget] = (c, s, e)"
   ]
  },
  {
   "cell_type": "code",
   "execution_count": 9,
   "metadata": {
    "collapsed": false
   },
   "outputs": [],
   "source": [
    "results_gecko_coordinates = {k: [] for k in results_gecko[2]}\n",
    "for ontarget in results_gecko[2]:\n",
    "    assert (set(results_gecko[2][ontarget]) - set(gecko_offtarget_dict[ontarget].keys())) == set()\n",
    "    for offtarget in results_gecko[2][ontarget]:\n",
    "        results_gecko_coordinates[ontarget].append(gecko_offtarget_dict[ontarget][offtarget])"
   ]
  },
  {
   "cell_type": "code",
   "execution_count": 10,
   "metadata": {
    "collapsed": false
   },
   "outputs": [
    {
     "name": "stderr",
     "output_type": "stream",
     "text": [
      "C:\\Users\\v-huelib\\AppData\\Local\\Continuum\\Anaconda2\\envs\\elevation\\lib\\site-packages\\ipykernel\\__main__.py:15: SettingWithCopyWarning: \n",
      "A value is trying to be set on a copy of a slice from a DataFrame.\n",
      "Try using .loc[row_indexer,col_indexer] = value instead\n",
      "\n",
      "See the caveats in the documentation: http://pandas.pydata.org/pandas-docs/stable/indexing.html#indexing-view-versus-copy\n"
     ]
    }
   ],
   "source": [
    "# load gecko\n",
    "def load_celltype(cell_type):\n",
    "    df_fn = 'C:\\dev\\CRISPR\\data\\Mudra.clean.3.6.2017\\GeCKOv2_dataset_annotation_20170122_scores_essential.csv'\n",
    "    df = pd.read_csv(df_fn)\n",
    "    target_celltypes = [\"K562\", \"PANC1\", \"T47D\"]\n",
    "    all_celltypes = df[\"Cell Type\"].unique()\n",
    "    celltype_names = []\n",
    "    for tct in target_celltypes:\n",
    "        for act in all_celltypes:\n",
    "            if act.find(tct) != -1:\n",
    "                celltype_names.append((tct, act))\n",
    "    for tct, act in celltype_names:\n",
    "        if tct == cell_type:\n",
    "            target_df = df[df[\"Cell Type\"] == act]\n",
    "            target_df['celltype'] = cell_type\n",
    "            return target_df\n",
    "\n",
    "\n",
    "# available cell types\n",
    "target_celltype = \"K562\"\n",
    "# target_celltype = \"PANC1\"\n",
    "# target_celltype = \"T47D\"\n",
    "gecko_data = load_celltype(target_celltype)"
   ]
  },
  {
   "cell_type": "code",
   "execution_count": 11,
   "metadata": {
    "collapsed": true
   },
   "outputs": [],
   "source": [
    "class DnaseRegions(object):\n",
    "\n",
    "    def __init__(self, filename, check_data=False):\n",
    "        self.filename = filename\n",
    "        self.df = pd.read_csv(filename, delimiter=\"\\t\")\n",
    "        self.chromosomes = self.df['chrom'].unique()\n",
    "        self.data = self.build_data()\n",
    "        if check_data:\n",
    "            self.do_check_data()\n",
    "\n",
    "    def build_data(self):\n",
    "        data = {chrom: self.df[self.df['chrom'] == chrom][['chromStart', 'chromEnd', 'signalValue']].sort_values(by='chromStart').values.T for chrom in self.chromosomes}\n",
    "        return data\n",
    "\n",
    "    def do_check_data(self):\n",
    "        for chrom in self.data:\n",
    "            values = self.data[chrom]\n",
    "            prev = None\n",
    "            for start, end, signalValue in values.T:\n",
    "                if prev is None:\n",
    "                    prev = start, end\n",
    "                    continue\n",
    "                assert prev[1] < start\n",
    "                prev = start, end\n",
    "\n",
    "    def find(self, chrom_num, qstart, qend):\n",
    "\n",
    "        def b(t, a, p=0):\n",
    "            if len(a) == 0:\n",
    "                return p\n",
    "            i = len(a)//2\n",
    "            if t < a[i]:\n",
    "                return b(t, a[:i], p)\n",
    "            if t > a[i]:\n",
    "                return b(t, a[i+1:], p + i + 1)\n",
    "            return p + i\n",
    "\n",
    "        chrom = \"chr%s\" % chrom_num\n",
    "        if chrom not in self.data:\n",
    "            return None\n",
    "\n",
    "        start_values, end_values, signals = self.data[chrom]\n",
    "        pos = b(qstart, start_values)\n",
    "\n",
    "        if pos == start_values.shape[0] or (pos == 0 and qstart < start_values[pos]):\n",
    "            return None\n",
    "\n",
    "        # b returns insertion position s.t. t <= a[p]\n",
    "        # we want a[p] <= t\n",
    "        if start_values[pos] != qstart and start_values[pos-1] <= qstart:\n",
    "            pos -= 1\n",
    "\n",
    "        assert start_values[pos] <= qstart, \"%s <= %s\" % (start_values[pos], qstart)\n",
    "        if qend <= end_values[pos]:\n",
    "            return signals[pos]\n",
    "        else:\n",
    "            return None\n",
    "\n",
    "def get_filename(cell_type):\n",
    "    filename = pk_dfs = {\n",
    "        \"K562\": \"C:\\dev\\dnase_elevation\\k562_pk.txt\",\n",
    "        \"PANC1\": \"C:\\dev\\dnase_elevation\\panc1_pk.txt\",\n",
    "        \"T47D\": \"C:\\dev\\dnase_elevation\\t47d_pk.txt\",\n",
    "    }[cell_type]\n",
    "    return filename\n",
    "\n",
    "dnase = DnaseRegions(get_filename(target_celltype), check_data=True)"
   ]
  },
  {
   "cell_type": "code",
   "execution_count": 53,
   "metadata": {
    "collapsed": false
   },
   "outputs": [],
   "source": [
    "results_gecko_dnase_original = {k: [] for k in results_gecko[2]}\n",
    "for ontarget in results_gecko_coordinates:\n",
    "    for c, s, e in results_gecko_coordinates[ontarget]:\n",
    "        value = dnase.find(c, s, e)\n",
    "        results_gecko_dnase_original[ontarget].append(value)"
   ]
  },
  {
   "cell_type": "code",
   "execution_count": 62,
   "metadata": {
    "collapsed": false
   },
   "outputs": [
    {
     "name": "stdout",
     "output_type": "stream",
     "text": [
      "9683973 0 9564094 119879\n"
     ]
    }
   ],
   "source": [
    "total_len = 0\n",
    "zero_len = 0\n",
    "none_len = 0\n",
    "for ontarget in results_gecko_dnase_original:\n",
    "    for item in results_gecko_dnase_original[ontarget]:\n",
    "        total_len += 1\n",
    "        if item is None:\n",
    "            none_len += 1\n",
    "        elif item == 0.0:\n",
    "            zero_len += 1\n",
    "print total_len, zero_len, none_len, total_len - none_len"
   ]
  },
  {
   "cell_type": "code",
   "execution_count": 66,
   "metadata": {
    "collapsed": false
   },
   "outputs": [
    {
     "name": "stderr",
     "output_type": "stream",
     "text": [
      "C:\\Users\\v-huelib\\AppData\\Local\\Continuum\\Anaconda2\\envs\\elevation\\lib\\site-packages\\ipykernel\\__main__.py:6: DeprecationWarning: using a boolean instead of an integer will result in an error in the future\n"
     ]
    },
    {
     "ename": "AttributeError",
     "evalue": "'NoneType' object has no attribute 'shape'",
     "output_type": "error",
     "traceback": [
      "\u001b[1;31m---------------------------------------------------------------------------\u001b[0m",
      "\u001b[1;31mAttributeError\u001b[0m                            Traceback (most recent call last)",
      "\u001b[1;32m<ipython-input-66-983c73d26c62>\u001b[0m in \u001b[0;36m<module>\u001b[1;34m()\u001b[0m\n\u001b[0;32m      4\u001b[0m \u001b[1;32mfor\u001b[0m \u001b[0montarget\u001b[0m \u001b[1;32min\u001b[0m \u001b[0mresults_gecko_dnase\u001b[0m\u001b[1;33m:\u001b[0m\u001b[1;33m\u001b[0m\u001b[0m\n\u001b[0;32m      5\u001b[0m     \u001b[0mresults_gecko_dnase\u001b[0m\u001b[1;33m[\u001b[0m\u001b[0montarget\u001b[0m\u001b[1;33m]\u001b[0m \u001b[1;33m=\u001b[0m \u001b[0mnp\u001b[0m\u001b[1;33m.\u001b[0m\u001b[0marray\u001b[0m\u001b[1;33m(\u001b[0m\u001b[0mresults_gecko_dnase\u001b[0m\u001b[1;33m[\u001b[0m\u001b[0montarget\u001b[0m\u001b[1;33m]\u001b[0m\u001b[1;33m)\u001b[0m\u001b[1;33m\u001b[0m\u001b[0m\n\u001b[1;32m----> 6\u001b[1;33m     \u001b[1;32mprint\u001b[0m \u001b[0mresults_gecko_dnase\u001b[0m\u001b[1;33m[\u001b[0m\u001b[0montarget\u001b[0m\u001b[1;33m]\u001b[0m\u001b[1;33m[\u001b[0m\u001b[0mresults_gecko_dnase\u001b[0m\u001b[1;33m[\u001b[0m\u001b[0montarget\u001b[0m\u001b[1;33m]\u001b[0m \u001b[1;32mis\u001b[0m \u001b[0mNone\u001b[0m\u001b[1;33m]\u001b[0m\u001b[1;33m.\u001b[0m\u001b[0mshape\u001b[0m\u001b[1;33m\u001b[0m\u001b[0m\n\u001b[0m\u001b[0;32m      7\u001b[0m     \u001b[1;31m# results_gecko_dnase[ontarget][results_gecko_dnase[ontarget] == None] = impute_dnase_value\u001b[0m\u001b[1;33m\u001b[0m\u001b[1;33m\u001b[0m\u001b[0m\n",
      "\u001b[1;31mAttributeError\u001b[0m: 'NoneType' object has no attribute 'shape'"
     ]
    }
   ],
   "source": [
    "# impute\n",
    "results_gecko_dnase = copy.deepcopy(results_gecko_dnase_original)"
   ]
  },
  {
   "cell_type": "code",
   "execution_count": 73,
   "metadata": {
    "collapsed": false
   },
   "outputs": [
    {
     "name": "stdout",
     "output_type": "stream",
     "text": [
      "[False False False ..., False False False]\n",
      "(1963L,)\n"
     ]
    }
   ],
   "source": [
    "impute_dnase_value = 1.0\n",
    "for ontarget in results_gecko_dnase:\n",
    "    a = np.array(results_gecko_dnase[ontarget], dtype=np.float32)\n",
    "    print np.isnan(a)\n",
    "    results_gecko_dnase[ontarget][np.isnan(results_gecko_dnase[ontarget])] = impute_dnase_value\n",
    "    print np.isnan(results_gecko_dnase[ontarget]).shape\n",
    "    break\n",
    "    # results_gecko_dnase[ontarget][results_gecko_dnase[ontarget] == None] = impute_dnase_value"
   ]
  },
  {
   "cell_type": "code",
   "execution_count": null,
   "metadata": {
    "collapsed": false,
    "scrolled": true
   },
   "outputs": [],
   "source": [
    "print map(type, results_gecko)"
   ]
  },
  {
   "cell_type": "code",
   "execution_count": 104,
   "metadata": {
    "collapsed": false,
    "scrolled": true
   },
   "outputs": [
    {
     "name": "stdout",
     "output_type": "stream",
     "text": [
      "['product', 'HsuZhang', 'CCTOP', 'CFD', 'linear-raw-stacker', 'ensemble'] <type 'dict'>\n",
      "AACCACTGCGAGTTTGTGTCCGG <type 'list'> 1963 ['TRNAU1AP', 'STK40', 'NoGene', 'C1ORF21', 'ACTN2']\n",
      "AACCACTGCGAGTTTGTGTCCGG <type 'list'> 1963 AACCACTGCGAGCTTGTGGGTGA\n",
      "1 1 linear-raw-stacker\n"
     ]
    }
   ],
   "source": [
    "print results_gecko[0].keys(), type(results_gecko[0]['ensemble'])\n",
    "# results_gecko[0]['ensemble'] is a dict\n",
    "# with key == guide and value == list of scores (presumably with offtarget values)\n",
    "\n",
    "# whether seq is \"genic\"\n",
    "for k, v in results_gecko[1].iteritems():\n",
    "    print k, type(v), len(v), v[:5]\n",
    "    break\n",
    "\n",
    "# print type(results_gecko[2]), len(results_gecko[2])\n",
    "for k, v in results_gecko[2].iteritems():\n",
    "    print k, type(v), len(v), v[0]\n",
    "    break\n",
    "\n",
    "print len(results_gecko[3]), len(results_gecko[3]), results_gecko[3][0]"
   ]
  },
  {
   "cell_type": "code",
   "execution_count": 222,
   "metadata": {
    "collapsed": false,
    "scrolled": false
   },
   "outputs": [
    {
     "ename": "KeyError",
     "evalue": "'sgRNA context sequence'",
     "output_type": "error",
     "traceback": [
      "\u001b[1;31m---------------------------------------------------------------------------\u001b[0m",
      "\u001b[1;31mKeyError\u001b[0m                                  Traceback (most recent call last)",
      "\u001b[1;32m<ipython-input-222-6acfaf049877>\u001b[0m in \u001b[0;36m<module>\u001b[1;34m()\u001b[0m\n\u001b[0;32m     13\u001b[0m \u001b[1;31m# gecko_data = pd.read_csv('../../CRISPR/data/offtarget/3MM_michael/GeCKOv2_Non_essentials_Achilles_A375.txt', delimiter='\\t')\u001b[0m\u001b[1;33m\u001b[0m\u001b[1;33m\u001b[0m\u001b[0m\n\u001b[0;32m     14\u001b[0m \u001b[1;33m\u001b[0m\u001b[0m\n\u001b[1;32m---> 15\u001b[1;33m \u001b[0mgecko_data\u001b[0m\u001b[1;33m[\u001b[0m\u001b[1;34m'full_seq'\u001b[0m\u001b[1;33m]\u001b[0m \u001b[1;33m=\u001b[0m \u001b[0mgecko_data\u001b[0m\u001b[1;33m[\u001b[0m\u001b[1;34m'sgRNA context sequence'\u001b[0m\u001b[1;33m]\u001b[0m\u001b[1;33m.\u001b[0m\u001b[0mapply\u001b[0m\u001b[1;33m(\u001b[0m\u001b[1;32mlambda\u001b[0m \u001b[0mx\u001b[0m\u001b[1;33m:\u001b[0m \u001b[0mx\u001b[0m\u001b[1;33m[\u001b[0m\u001b[1;36m4\u001b[0m\u001b[1;33m:\u001b[0m\u001b[1;36m20\u001b[0m\u001b[1;33m+\u001b[0m\u001b[1;36m4\u001b[0m\u001b[1;33m+\u001b[0m\u001b[1;36m3\u001b[0m\u001b[1;33m]\u001b[0m\u001b[1;33m)\u001b[0m\u001b[1;33m\u001b[0m\u001b[0m\n\u001b[0m\u001b[0;32m     16\u001b[0m \u001b[0mgecko_data\u001b[0m\u001b[1;33m[\u001b[0m\u001b[1;34m'A375 Percent rank'\u001b[0m\u001b[1;33m]\u001b[0m \u001b[1;33m=\u001b[0m \u001b[0mgecko_data\u001b[0m\u001b[1;33m[\u001b[0m\u001b[1;34m'sgRNA measured value'\u001b[0m\u001b[1;33m]\u001b[0m\u001b[1;33m\u001b[0m\u001b[0m\n\u001b[0;32m     17\u001b[0m \u001b[0mgecko_merged\u001b[0m \u001b[1;33m=\u001b[0m \u001b[0mpd\u001b[0m\u001b[1;33m.\u001b[0m\u001b[0mmerge\u001b[0m\u001b[1;33m(\u001b[0m\u001b[0mgecko_data\u001b[0m\u001b[1;33m,\u001b[0m \u001b[0mmit_gecko\u001b[0m\u001b[1;33m,\u001b[0m \u001b[0mleft_on\u001b[0m\u001b[1;33m=\u001b[0m\u001b[1;34m'sgRNA Sequence'\u001b[0m\u001b[1;33m,\u001b[0m \u001b[0mright_on\u001b[0m\u001b[1;33m=\u001b[0m\u001b[1;34m'sgRNA Sequence'\u001b[0m\u001b[1;33m)\u001b[0m\u001b[1;33m\u001b[0m\u001b[0m\n",
      "\u001b[1;32mC:\\Users\\v-huelib\\AppData\\Local\\Continuum\\Anaconda2\\envs\\elevation\\lib\\site-packages\\pandas\\core\\series.pyc\u001b[0m in \u001b[0;36m__getitem__\u001b[1;34m(self, key)\u001b[0m\n\u001b[0;32m    581\u001b[0m         \u001b[0mkey\u001b[0m \u001b[1;33m=\u001b[0m \u001b[0mcom\u001b[0m\u001b[1;33m.\u001b[0m\u001b[0m_apply_if_callable\u001b[0m\u001b[1;33m(\u001b[0m\u001b[0mkey\u001b[0m\u001b[1;33m,\u001b[0m \u001b[0mself\u001b[0m\u001b[1;33m)\u001b[0m\u001b[1;33m\u001b[0m\u001b[0m\n\u001b[0;32m    582\u001b[0m         \u001b[1;32mtry\u001b[0m\u001b[1;33m:\u001b[0m\u001b[1;33m\u001b[0m\u001b[0m\n\u001b[1;32m--> 583\u001b[1;33m             \u001b[0mresult\u001b[0m \u001b[1;33m=\u001b[0m \u001b[0mself\u001b[0m\u001b[1;33m.\u001b[0m\u001b[0mindex\u001b[0m\u001b[1;33m.\u001b[0m\u001b[0mget_value\u001b[0m\u001b[1;33m(\u001b[0m\u001b[0mself\u001b[0m\u001b[1;33m,\u001b[0m \u001b[0mkey\u001b[0m\u001b[1;33m)\u001b[0m\u001b[1;33m\u001b[0m\u001b[0m\n\u001b[0m\u001b[0;32m    584\u001b[0m \u001b[1;33m\u001b[0m\u001b[0m\n\u001b[0;32m    585\u001b[0m             \u001b[1;32mif\u001b[0m \u001b[1;32mnot\u001b[0m \u001b[0mlib\u001b[0m\u001b[1;33m.\u001b[0m\u001b[0misscalar\u001b[0m\u001b[1;33m(\u001b[0m\u001b[0mresult\u001b[0m\u001b[1;33m)\u001b[0m\u001b[1;33m:\u001b[0m\u001b[1;33m\u001b[0m\u001b[0m\n",
      "\u001b[1;32mC:\\Users\\v-huelib\\AppData\\Local\\Continuum\\Anaconda2\\envs\\elevation\\lib\\site-packages\\pandas\\indexes\\base.pyc\u001b[0m in \u001b[0;36mget_value\u001b[1;34m(self, series, key)\u001b[0m\n\u001b[0;32m   1992\u001b[0m                     \u001b[1;32mraise\u001b[0m \u001b[0mInvalidIndexError\u001b[0m\u001b[1;33m(\u001b[0m\u001b[0mkey\u001b[0m\u001b[1;33m)\u001b[0m\u001b[1;33m\u001b[0m\u001b[0m\n\u001b[0;32m   1993\u001b[0m                 \u001b[1;32melse\u001b[0m\u001b[1;33m:\u001b[0m\u001b[1;33m\u001b[0m\u001b[0m\n\u001b[1;32m-> 1994\u001b[1;33m                     \u001b[1;32mraise\u001b[0m \u001b[0me1\u001b[0m\u001b[1;33m\u001b[0m\u001b[0m\n\u001b[0m\u001b[0;32m   1995\u001b[0m             \u001b[1;32mexcept\u001b[0m \u001b[0mException\u001b[0m\u001b[1;33m:\u001b[0m  \u001b[1;31m# pragma: no cover\u001b[0m\u001b[1;33m\u001b[0m\u001b[0m\n\u001b[0;32m   1996\u001b[0m                 \u001b[1;32mraise\u001b[0m \u001b[0me1\u001b[0m\u001b[1;33m\u001b[0m\u001b[0m\n",
      "\u001b[1;31mKeyError\u001b[0m: 'sgRNA context sequence'"
     ]
    }
   ],
   "source": [
    "MAX_VALUE_JOHN = 1000\n",
    "#with open('/mnt/nerds5_genetics/CRISPR.offtarget/allsitesGecko, 'rb') as f:\n",
    "# with open('/mnt/nerds5_genetics/CRISPR.offtarget/allsitesGecko_allmodels_calib0_countnormTrue.N3137128_groupby_nonagg.p', 'rb') as f:\n",
    "#    results_gecko_v6 = pickle.load(f)\n",
    "\n",
    "mit_gecko = pd.read_excel('../../CRISPR/data/offtarget/GeCKOv2_Non_essentials_Achilles_A375_complete.xls')\n",
    "mit_gecko = mit_gecko[['offtarget_score', 'sgRNA measured value', 'sgRNA Sequence']].dropna()\n",
    "st.spearmanr(mit_gecko['offtarget_score'], mit_gecko['sgRNA measured value'])\n",
    "\n",
    "# gecko_data = new_gecko_df[new_gecko_df['Cell Type'] == celltype_map['A375']]\n",
    "# gecko_data = gecko_data.dropna(how=\"any\", subset=['sgRNA context sequence'])\n",
    "# gecko_data = gecko_data['sgRNA measured value'] = -gecko_data['sgRNA measured value']\n",
    "gecko_data = pd.read_csv('../../CRISPR/data/offtarget/3MM_michael/GeCKOv2_Non_essentials_Achilles_A375.txt', delimiter='\\t')\n",
    "\n",
    "gecko_data['full_seq'] = gecko_data['sgRNA context sequence'].apply(lambda x: x[4:20+4+3])\n",
    "gecko_data['A375 Percent rank'] = gecko_data['sgRNA measured value']\n",
    "gecko_merged = pd.merge(gecko_data, mit_gecko, left_on='sgRNA Sequence', right_on='sgRNA Sequence')\n",
    "\n",
    "jd_gecko = pd.read_excel('../../CRISPR/data/offtarget/GeCKOv2_Non_essentials_Achilles_A375_updated.xls')\n",
    "#jd_gecko['full_seq'] = jd['sgRNA Sequence'] + jd['PAM Sequence']\n",
    "# jd_gecko = jd_gecko[['sgRNA Sequence', 'Broad_John_bin_average', 'full_seq']].set_index(['full_seq'])\n",
    "# jd = jd.loc[jd['T1 MB12'] != 'MAX']\n",
    "jd_gecko = jd_gecko[['sgRNA Sequence', 'Broad_John_bin_average']].replace([np.inf, -np.inf], MAX_VALUE_JOHN).dropna()\n",
    "print gecko_merged.shape\n",
    "print jd_gecko.shape\n",
    "gecko_merged = pd.merge(gecko_merged, jd_gecko, on=['sgRNA Sequence'])\n",
    "print gecko_merged.shape"
   ]
  },
  {
   "cell_type": "code",
   "execution_count": 25,
   "metadata": {
    "collapsed": false,
    "scrolled": false
   },
   "outputs": [
    {
     "name": "stdout",
     "output_type": "stream",
     "text": [
      "AACCACTGCGAGTTTGTGTCCGG 1963\n"
     ]
    }
   ],
   "source": [
    "for k,v in results_gecko[0]['linear-raw-stacker'].iteritems():\n",
    "    print k, len(v)\n",
    "    break"
   ]
  },
  {
   "cell_type": "code",
   "execution_count": 38,
   "metadata": {
    "collapsed": false,
    "scrolled": true
   },
   "outputs": [
    {
     "name": "stdout",
     "output_type": "stream",
     "text": [
      "4537 4041\n",
      "expecting to skip 496\n"
     ]
    }
   ],
   "source": [
    "print len(results_gecko[1].keys()), gecko_merged.shape[0]\n",
    "print \"expecting to skip\", len(results_gecko[1].keys()) - gecko_merged.shape[0]"
   ]
  },
  {
   "cell_type": "code",
   "execution_count": 45,
   "metadata": {
    "collapsed": false
   },
   "outputs": [],
   "source": [
    "# stacker = np.array([0.1, 0.2, 0.03])\n",
    "# scores = np.array([0.05, 0.06, 0.07])\n",
    "# dnase = 0.0\n",
    "# genicValues = np.array([True, False, False])\n",
    "# print elevation.aggregation.get_stats_dnase(stacker, scores, dnase, genicValues, statsmode=1)\n",
    "# print elevation.aggregation.get_stats_dnase(stacker, scores, dnase, genicValues, statsmode=2)\n",
    "# print elevation.aggregation.get_stats_dnase(stacker, scores, dnase, genicValues, statsmode=3)"
   ]
  },
  {
   "cell_type": "code",
   "execution_count": 218,
   "metadata": {
    "collapsed": true
   },
   "outputs": [],
   "source": [
    "def aggregator_features(results, mit_results, N=None, methods=['product', 'CFD', 'linear-raw-stacker', 'MIT', 'ensemble', 'HsuZhang'], which='old'):\n",
    "    truth = []\n",
    "    broad = []\n",
    "    mean = dict((m, []) for m in methods)\n",
    "    score = dict((m, []) for m in methods)\n",
    "    raw = dict((m, []) for m in methods)\n",
    "    skipped = 0\n",
    "    if N is None:\n",
    "        N = min(len(results[1].keys()), mit_results.shape[0])\n",
    "\n",
    "    D = 30\n",
    "\n",
    "    features = dict((m, np.zeros((N, D))) for m in methods) # 46, 18\n",
    "    features['ensemble'] = np.zeros((N, D*2))\n",
    "    if 'ensemble_1' in methods:\n",
    "        features['ensemble_1'] = np.zeros((N, D*2))\n",
    "    if 'ensemble_2' in methods:\n",
    "        features['ensemble_2'] = np.zeros((N, D*4))\n",
    "    if 'ensemble_3' in methods:\n",
    "        features['ensemble_3'] = np.zeros((N, D*3))\n",
    "\n",
    "    guides = []\n",
    "    # pdf = np.exp(kd.score_samples(Xgs[:, None]))\n",
    "    i = 0\n",
    "    #for g in results[1].keys():\n",
    "    for g in mit_results['full_seq'].values:\n",
    "\n",
    "        if i % 1000 == 0:\n",
    "            print i, mit_results.shape[0]\n",
    "\n",
    "        if not (g in results[0]['linear-raw-stacker'] and g in results[0]['CFD']):\n",
    "            skipped += 1\n",
    "            continue\n",
    "\n",
    "        try:\n",
    "            for method in methods:\n",
    "                if method == 'MIT':\n",
    "                    mean[method].append(mit_results[mit_results['full_seq'] == g]['offtarget_score'].values[0])\n",
    "                    score[method].append(mit_results[mit_results['full_seq'] == g]['offtarget_score'].values[0])\n",
    "                elif method == 'broad':\n",
    "                    score[method].append(-mit_results[mit_results['full_seq'] == g]['Broad_John_bin_average'].values[0])\n",
    "                elif method == 'ensemble':\n",
    "                    genic_g = np.array(results[1][g]) != 'NoGene' \n",
    "                    features[method][i], names = elevation.aggregation.get_stats(np.array(results[0]['linear-raw-stacker'][g]), \n",
    "                                                                          np.array(results[0]['CFD'][g]), genic_g)\n",
    "                elif method == 'ensemble_1':\n",
    "                    genic_g = np.array(results[1][g]) != 'NoGene' \n",
    "                    dnase = results_gecko_dnase[g]\n",
    "                    features[method][i], names = elevation.aggregation.get_stats_dnase(\n",
    "                        np.array(results[0]['linear-raw-stacker'][g]), \n",
    "                        np.array(results[0]['CFD'][g]), \n",
    "                        dnase,\n",
    "                        genic_g, 1)\n",
    "                elif method == 'ensemble_2':\n",
    "                    genic_g = np.array(results[1][g]) != 'NoGene' \n",
    "                    dnase = results_gecko_dnase[g]\n",
    "                    features[method][i], names = elevation.aggregation.get_stats_dnase(\n",
    "                        np.array(results[0]['linear-raw-stacker'][g]), \n",
    "                        np.array(results[0]['CFD'][g]), \n",
    "                        dnase,\n",
    "                        genic_g, 2)\n",
    "                elif method == 'ensemble_3':\n",
    "                    genic_g = np.array(results[1][g]) != 'NoGene' \n",
    "                    dnase = results_gecko_dnase[g]\n",
    "                    features[method][i], names = elevation.aggregation.get_stats_dnase(\n",
    "                        np.array(results[0]['linear-raw-stacker'][g]), \n",
    "                        np.array(results[0]['CFD'][g]), \n",
    "                        dnase,\n",
    "                        genic_g, 3)\n",
    "                elif method == 'HsuZhang':\n",
    "                    t = np.array(results[0][method][g])\n",
    "                    preds_g = t\n",
    "                    score[method].append(100./(100 + np.sum(preds_g)))\n",
    "                else:\n",
    "                    t = np.array(results[0][method][g])\n",
    "                    # if method == 'linear-raw-stacker':\n",
    "                    #    a,b,c,d,f = [-0.40317539,  0.48128055,  0.6186926 ,  0.14710948,  0.78741327]\n",
    "\n",
    "                    #    # avana = [ 1.26015589, -0.01607083,  4.17914254,  0.39207014, -0.30867801]\n",
    "                    #    t =  a + b*t + c*np.tanh(d*t + f)\n",
    "                    #    # print \"WARNING: warping based on Avana values\"\n",
    "                    preds_g = t\n",
    "                    genic_g = np.array(results[1][g]) != 'NoGene' \n",
    "\n",
    "                    mean[method].append(np.mean(preds_g[genic_g]))\n",
    "                    score[method].append(np.sum(preds_g[genic_g])/float(len(preds_g)))\n",
    "\n",
    "\n",
    "                    if which == 'old':\n",
    "                        features[method][i] = elevation.aggregation.get_stats(preds_g, genic_g)\n",
    "                    elif which == 'new':\n",
    "                        features[method][i] = elevation.aggregation.get_stats(preds_g, genic_g)\n",
    "                    else:\n",
    "                        sorted_bo = np.sort(preds_g)\n",
    "                        yvals_bo = np.arange(len(sorted_bo))/float(len(sorted_bo))\n",
    "                        features[method][i] = yvals_bo[np.logspace(np.log10(2), np.log10(len(yvals_bo)), 50, dtype=int)-1]\n",
    "\n",
    "                    raw[method].append((preds_g, genic_g))\n",
    "\n",
    "                    # reference_guide = mit_results.iloc[mit_results['A375 Percent rank'].idxmin()].full_seq\n",
    "                    # reference_offtargets = np.array(results[0][method][reference_guide])\n",
    "                    # genic_reference = np.array(results[1][reference_guide]) != 'NoGene'\n",
    "                    #bad_guide = mit_results.iloc[mit_results['A375 Percent rank'].idxmax()].full_seq\n",
    "                    #bad_offtargets = np.array(results[0][method][bad_guide]\n",
    "                    sorted_bo = np.sort(preds_g)\n",
    "                    yvals_bo = np.arange(len(sorted_bo))/float(len(sorted_bo))\n",
    "\n",
    "                    # try:\n",
    "                    #    mean['KS2_%s'% method].append(st.ks_2samp(preds_g[genic_g], reference_offtargets[genic_reference])[1])\n",
    "                    #    mean['AUC_%s' % method].append(sklearn.metrics.auc(sorted_bo, yvals_bo))\n",
    "                    #except KeyError:\n",
    "                    #    mean['KS2_%s'% method] = [st.ks_2samp(preds_g[genic_g], reference_offtargets[genic_reference])[1]]\n",
    "                    #    mean['AUC_%s' % method] = [sklearn.metrics.auc(sorted_bo, yvals_bo)]\n",
    "\n",
    "            i+=1\n",
    "            truth.append(mit_results[mit_results['full_seq'] == g]['A375 Percent rank'].values[0])\n",
    "            guides.append(g)\n",
    "\n",
    "        except KeyError as e:\n",
    "            # print type(e), e\n",
    "            # print \"skipping guide: \", g\n",
    "            skipped += 1\n",
    "            #continue\n",
    "            \n",
    "    for method in mean.keys():\n",
    "        mean[method] = np.array(mean[method])\n",
    "        \n",
    "    for method in score.keys():\n",
    "        score[method] = np.array(score[method])\n",
    "    print \"skipped %d guides\" % skipped\n",
    "    return features, truth, mean, score,  guides\n"
   ]
  },
  {
   "cell_type": "code",
   "execution_count": 219,
   "metadata": {
    "collapsed": false,
    "scrolled": true
   },
   "outputs": [
    {
     "name": "stdout",
     "output_type": "stream",
     "text": [
      "0 4039\n",
      "1000 4039\n",
      "2000 4039\n",
      "3000 4039\n",
      "skipped 149 guides\n",
      "broad (3890L, 30L) (0L,) (3890L,)\n",
      "MIT (3890L, 30L) (3890L,) (3890L,)\n",
      "ensemble (3890L, 60L) (0L,) (0L,)\n"
     ]
    }
   ],
   "source": [
    "features_gecko, truth_gecko, mean_gecko, score_gecko,  guides_gecko = aggregator_features(results_gecko, gecko_merged, N=3890, \n",
    "                                                                           which='new',\n",
    "                                                                                  methods=['MIT', 'broad', 'ensemble', \n",
    "#                                                                                            'ensemble_1',\n",
    "#                                                                                            'ensemble_2',\n",
    "#                                                                                            'ensemble_3'\n",
    "                                                                                          ])\n",
    "\n",
    "for method in score_gecko:\n",
    "    print method, features_gecko[method].shape, mean_gecko[method].shape, score_gecko[method].shape"
   ]
  },
  {
   "cell_type": "code",
   "execution_count": 220,
   "metadata": {
    "collapsed": false,
    "scrolled": true
   },
   "outputs": [
    {
     "name": "stdout",
     "output_type": "stream",
     "text": [
      "0 3889\n",
      "1 3889\n",
      "2 3889\n",
      "3 3889\n",
      "4 3889\n",
      "5 3889\n",
      "6 3889\n",
      "7 3889\n",
      "8 3889\n",
      "9 3889\n",
      "10 3889\n",
      "11 3889\n",
      "12 3889\n",
      "13 3889\n",
      "14 3889\n",
      "15 3889\n",
      "16 3889\n",
      "17 3889\n",
      "18 3889\n",
      "19 3889\n"
     ]
    }
   ],
   "source": [
    "y_rank = st.mstats.rankdata(truth_gecko)/float(len(truth_gecko))\n",
    "kf = sklearn.cross_validation.KFold(y_rank.shape[0], n_folds=20, random_state=np.random.RandomState(1))\n",
    "preds = dict((m, np.zeros_like(y_rank)) for m in features_gecko.keys())\n",
    "\n",
    "for i, split in enumerate(kf):\n",
    "    print i, max(max(train), max(test))\n",
    "    train, test = split\n",
    "    for method in features_gecko.keys():\n",
    "        try:\n",
    "            # print method\n",
    "            if method == 'MIT' or method == 'broad':\n",
    "                preds[method][test] = score_gecko[method][test]\n",
    "            else:\n",
    "                feat = features_gecko[method]\n",
    "                final_model = elevation.aggregation.train_model(feat[train], y_rank[train])\n",
    "                preds[method][test] = final_model.predict(feat[test])\n",
    "        except Exception as e:\n",
    "            print train\n",
    "            print method\n",
    "            raise e"
   ]
  },
  {
   "cell_type": "code",
   "execution_count": 211,
   "metadata": {
    "collapsed": false
   },
   "outputs": [
    {
     "name": "stdout",
     "output_type": "stream",
     "text": [
      "\n"
     ]
    }
   ],
   "source": [
    "with open(\"original_gecko_scores.pkl\", \"r\") as fh:\n",
    "    score_gecko_original = pickle.load(fh)\n",
    "\n",
    "with open(\"original_preds.pkl\", \"r\") as fh:\n",
    "    preds_original = pickle.load(fh)"
   ]
  },
  {
   "cell_type": "code",
   "execution_count": 213,
   "metadata": {
    "collapsed": false
   },
   "outputs": [
    {
     "name": "stdout",
     "output_type": "stream",
     "text": [
      " broad True\n",
      "MIT False\n",
      "ensemble True\n"
     ]
    }
   ],
   "source": [
    "for method in score_gecko:\n",
    "    print method, np.allclose(score_gecko_original[method][:score_gecko[method].shape[0]], score_gecko[method][:score_gecko_original[method].shape[0]])"
   ]
  },
  {
   "cell_type": "code",
   "execution_count": 205,
   "metadata": {
    "collapsed": false
   },
   "outputs": [
    {
     "name": "stdout",
     "output_type": "stream",
     "text": [
      "43\n",
      "['-04', '-03', '-06', '00', '00', '00', '-01', '00', '-02', '-04', '-03', '-03', '-02', '-01', '-02']\n",
      "['-04', '-03', '-06', '-29', '00', '00', '00', '-01', '00', '-02', '-04', '-03', '-03', '-02', '-01']\n"
     ]
    }
   ],
   "source": [
    "num_unequal = 0\n",
    "for i in range(len(score_gecko_original['broad'])):\n",
    "    if not np.allclose(score_gecko_original['broad'][i], score_gecko['broad'][i]):\n",
    "        num_unequal += 1\n",
    "        print i\n",
    "        break\n",
    "s = 40\n",
    "e = s + 15\n",
    "# print score_gecko_original['broad'].shape, num_unequal\n",
    "print map(lambda x: \"%.2d\" % x, score_gecko_original['broad'][s:e])\n",
    "print map(lambda x: \"%.2d\" % x, score_gecko['broad'][s:e])"
   ]
  },
  {
   "cell_type": "code",
   "execution_count": 184,
   "metadata": {
    "collapsed": false
   },
   "outputs": [
    {
     "name": "stdout",
     "output_type": "stream",
     "text": [
      "broad False\n",
      "MIT True\n",
      "ensemble False\n"
     ]
    }
   ],
   "source": [
    "for method in preds:\n",
    "    print method, np.allclose(preds_original[method], preds[method])"
   ]
  },
  {
   "cell_type": "code",
   "execution_count": 178,
   "metadata": {
    "collapsed": false
   },
   "outputs": [
    {
     "name": "stdout",
     "output_type": "stream",
     "text": [
      "y_rank (3890L,)\n",
      "broad (3890L,)\n",
      "MIT (3890L,)\n",
      "ensemble (3890L,)\n"
     ]
    }
   ],
   "source": [
    "print 'y_rank', y_rank.shape\n",
    "for method in preds:\n",
    "    print method, preds[method].shape\n",
    "# print list(preds['broad'])[-10:]\n",
    "# print list(score_gecko['broad'][test])\n",
    "# print list(score_gecko['broad'])[-10:]\n",
    "# print list(gecko_merged['Broad_John_bin_average'])[-100:]\n",
    "# for i in list(gecko_merged['full_seq'].values)[-100:]:\n",
    "#     print i"
   ]
  },
  {
   "cell_type": "code",
   "execution_count": 221,
   "metadata": {
    "collapsed": false
   },
   "outputs": [
    {
     "name": "stdout",
     "output_type": "stream",
     "text": [
      "broad\n",
      "MIT\n",
      "ensemble\n"
     ]
    },
    {
     "data": {
      "image/png": "[encoded data removed]",
      "text/plain": [
       "<matplotlib.figure.Figure at 0x66303b70>"
      ]
     },
     "metadata": {},
     "output_type": "display_data"
    }
   ],
   "source": [
    "_ = elevation.prediction_pipeline.plot_spearman_with_different_weights(preds, y_rank, \n",
    "                                                                    weights=np.logspace(np.log10(0.00001), np.log10(100), 20))\n",
    "plt.xscale('log')"
   ]
  }
 ],
 "metadata": {
  "anaconda-cloud": {},
  "kernelspec": {
   "display_name": "Python [elevation]",
   "language": "python",
   "name": "Python [elevation]"
  },
  "language_info": {
   "codemirror_mode": {
    "name": "ipython",
    "version": 2
   },
   "file_extension": ".py",
   "mimetype": "text/x-python",
   "name": "python",
   "nbconvert_exporter": "python",
   "pygments_lexer": "ipython2",
   "version": "2.7.12"
  }
 },
 "nbformat": 4,
 "nbformat_minor": 0
}
