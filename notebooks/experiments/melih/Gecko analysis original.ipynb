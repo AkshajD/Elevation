{
 "cells": [
  {
   "cell_type": "code",
   "execution_count": 2,
   "metadata": {
    "collapsed": false
   },
   "outputs": [],
   "source": [
    "%reload_ext autoreload\n",
    "%autoreload 2\n",
    "%matplotlib inline\n",
    "import numpy as np\n",
    "import pandas as pd\n",
    "import elevation\n",
    "import elevation.prediction_pipeline as pp\n",
    "import elevation.aggregation\n",
    "from IPython.core.debugger import Tracer\n",
    "import matplotlib.pyplot as plt\n",
    "np.random.seed(123) \n",
    "import scipy.stats as st\n",
    "import pickle\n",
    "#import seaborn\n",
    "import matplotlib\n",
    "import azimuth.util\n",
    "import sklearn\n",
    "import copy\n",
    "import sklearn.cross_validation\n",
    "import sklearn.ensemble\n",
    "import sklearn.linear_model\n",
    "from sklearn.grid_search import GridSearchCV\n",
    "import elevation.aggregation"
   ]
  },
  {
   "cell_type": "code",
   "execution_count": 19,
   "metadata": {
    "collapsed": false
   },
   "outputs": [
    {
     "name": "stdout",
     "output_type": "stream",
     "text": [
      "(4695, 29)\n",
      "(4039, 2)\n",
      "(4039, 30)\n"
     ]
    }
   ],
   "source": [
    "# with open('\\\\\\\\nerds5\\\\compbio_storage\\\\CRISPR.offtarget\\\\gecko_new.calib1_ctnm1.3MM.v10.N9919088_groupby_nonagg_small.p', 'rb') as f:\n",
    "with open('\\\\\\\\nerds5\\\\compbio_storage\\\\CRISPR.offtarget\\\\gecko_new.calib1_ctnm1.3MM.v10.N9919088_groupby_nonagg.p', 'rb') as f:\n",
    "    results_gecko = pickle.load(f)# with open('/mnt/nerds5_genetics/CRISPR.offtarget/allsitesGecko.calib0_countnormTrue.v7.gbrtw1.00e+02.N3137128_groupby_nonagg_small.p', 'rb') as f:\n",
    "\n",
    "MAX_VALUE_JOHN = 1000\n",
    "#with open('/mnt/nerds5_genetics/CRISPR.offtarget/allsitesGecko, 'rb') as f:\n",
    "# with open('/mnt/nerds5_genetics/CRISPR.offtarget/allsitesGecko_allmodels_calib0_countnormTrue.N3137128_groupby_nonagg.p', 'rb') as f:\n",
    "#    results_gecko_v6 = pickle.load(f)\n",
    "\n",
    "mit_gecko = pd.read_excel('../../CRISPR/data/offtarget/GeCKOv2_Non_essentials_Achilles_A375_complete.xls')\n",
    "mit_gecko = mit_gecko[['offtarget_score', 'sgRNA measured value', 'sgRNA Sequence']].dropna()\n",
    "st.spearmanr(mit_gecko['offtarget_score'], mit_gecko['sgRNA measured value'])\n",
    "gecko_data = pd.read_csv('../../CRISPR/data/offtarget/3MM_michael/GeCKOv2_Non_essentials_Achilles_A375.txt', delimiter='\\t')\n",
    "gecko_data['full_seq'] = gecko_data['sgRNA context sequence'].apply(lambda x: x[4:20+4+3])\n",
    "gecko_data['A375 Percent rank'] = gecko_data['sgRNA measured value']\n",
    "gecko_merged = pd.merge(gecko_data, mit_gecko, left_on='sgRNA Sequence', right_on='sgRNA Sequence')\n",
    "\n",
    "jd_gecko = pd.read_excel('../../CRISPR/data/offtarget/GeCKOv2_Non_essentials_Achilles_A375_updated.xls')\n",
    "#jd_gecko['full_seq'] = jd['sgRNA Sequence'] + jd['PAM Sequence']\n",
    "# jd_gecko = jd_gecko[['sgRNA Sequence', 'Broad_John_bin_average', 'full_seq']].set_index(['full_seq'])\n",
    "# jd = jd.loc[jd['T1 MB12'] != 'MAX']\n",
    "jd_gecko = jd_gecko[['sgRNA Sequence', 'Broad_John_bin_average']].replace([np.inf, -np.inf], MAX_VALUE_JOHN).dropna()\n",
    "print gecko_merged.shape\n",
    "print jd_gecko.shape\n",
    "gecko_merged = pd.merge(gecko_merged, jd_gecko, on=['sgRNA Sequence'])\n",
    "print gecko_merged.shape"
   ]
  },
  {
   "cell_type": "code",
   "execution_count": 26,
   "metadata": {
    "collapsed": false
   },
   "outputs": [
    {
     "name": "stdout",
     "output_type": "stream",
     "text": [
      "(4695, 29)\n",
      "(4039, 2)\n",
      "(4039, 30)\n"
     ]
    }
   ],
   "source": [
    "MAX_VALUE_JOHN = 1000\n",
    "#with open('/mnt/nerds5_genetics/CRISPR.offtarget/allsitesGecko, 'rb') as f:\n",
    "# with open('/mnt/nerds5_genetics/CRISPR.offtarget/allsitesGecko_allmodels_calib0_countnormTrue.N3137128_groupby_nonagg.p', 'rb') as f:\n",
    "#    results_gecko_v6 = pickle.load(f)\n",
    "\n",
    "mit_gecko = pd.read_excel('../../CRISPR/data/offtarget/GeCKOv2_Non_essentials_Achilles_A375_complete.xls')\n",
    "mit_gecko = mit_gecko[['offtarget_score', 'sgRNA measured value', 'sgRNA Sequence']].dropna()\n",
    "st.spearmanr(mit_gecko['offtarget_score'], mit_gecko['sgRNA measured value'])\n",
    "gecko_data = pd.read_csv('../../CRISPR/data/offtarget/3MM_michael/GeCKOv2_Non_essentials_Achilles_A375.txt', delimiter='\\t')\n",
    "gecko_data['full_seq'] = gecko_data['sgRNA context sequence'].apply(lambda x: x[4:20+4+3])\n",
    "gecko_data['A375 Percent rank'] = gecko_data['sgRNA measured value']\n",
    "gecko_merged = pd.merge(gecko_data, mit_gecko, left_on='sgRNA Sequence', right_on='sgRNA Sequence')\n",
    "\n",
    "jd_gecko = pd.read_excel('../../CRISPR/data/offtarget/GeCKOv2_Non_essentials_Achilles_A375_updated.xls')\n",
    "#jd_gecko['full_seq'] = jd['sgRNA Sequence'] + jd['PAM Sequence']\n",
    "# jd_gecko = jd_gecko[['sgRNA Sequence', 'Broad_John_bin_average', 'full_seq']].set_index(['full_seq'])\n",
    "# jd = jd.loc[jd['T1 MB12'] != 'MAX']\n",
    "jd_gecko = jd_gecko[['sgRNA Sequence', 'Broad_John_bin_average']].replace([np.inf, -np.inf], MAX_VALUE_JOHN).dropna()\n",
    "print gecko_merged.shape\n",
    "print jd_gecko.shape\n",
    "gecko_merged = pd.merge(gecko_merged, jd_gecko, on=['sgRNA Sequence'])\n",
    "print gecko_merged.shape"
   ]
  },
  {
   "cell_type": "code",
   "execution_count": 65,
   "metadata": {
    "collapsed": true
   },
   "outputs": [],
   "source": [
    "def aggregator_features(results, mit_results, N=None, methods=['product', 'CFD', 'linear-raw-stacker', 'MIT', 'ensemble', 'HsuZhang'], which='old'):\n",
    "    truth = []\n",
    "    broad = []\n",
    "    mean = dict((m, []) for m in methods)\n",
    "    score = dict((m, []) for m in methods)\n",
    "    raw = dict((m, []) for m in methods)\n",
    "    skipped = 0\n",
    "    if N is None:\n",
    "        N = min(len(results[1].keys()), mit_results.shape[0])\n",
    "    \n",
    "    D = 30\n",
    "        \n",
    "    features = dict((m, np.zeros((N, D))) for m in methods) # 46, 18\n",
    "    features['ensemble'] = np.zeros((N, D*2))\n",
    "    guides = []\n",
    "    # pdf = np.exp(kd.score_samples(Xgs[:, None]))\n",
    "    i = 0\n",
    "    #for g in results[1].keys():\n",
    "    for g in mit_results['full_seq'].values:\n",
    "\n",
    "        if i % 1000 == 0:\n",
    "            print i, mit_results['full_seq'].shape[0]\n",
    "\n",
    "        try:\n",
    "            for method in methods:\n",
    "                if method == 'MIT':\n",
    "                    mean[method].append(mit_results[mit_results['full_seq'] == g]['offtarget_score'].values[0])\n",
    "                    score[method].append(mit_results[mit_results['full_seq'] == g]['offtarget_score'].values[0])\n",
    "                elif method == 'broad':\n",
    "                    score[method].append(-mit_results[mit_results['full_seq'] == g]['Broad_John_bin_average'].values[0])\n",
    "                elif method == 'ensemble':\n",
    "                    genic_g = np.array(results[1][g]) != 'NoGene' \n",
    "                    features[method][i], names = elevation.aggregation.get_stats(np.array(results[0]['linear-raw-stacker'][g]), \n",
    "                                                                          np.array(results[0]['CFD'][g]), genic_g)\n",
    "                elif method == 'HsuZhang':\n",
    "                    t = np.array(results[0][method][g])\n",
    "                    preds_g = t\n",
    "                    score[method].append(100./(100 + np.sum(preds_g)))\n",
    "                else:\n",
    "                    t = np.array(results[0][method][g])\n",
    "                    # if method == 'linear-raw-stacker':\n",
    "                    #    a,b,c,d,f = [-0.40317539,  0.48128055,  0.6186926 ,  0.14710948,  0.78741327]\n",
    "\n",
    "                    #    # avana = [ 1.26015589, -0.01607083,  4.17914254,  0.39207014, -0.30867801]\n",
    "                    #    t =  a + b*t + c*np.tanh(d*t + f)\n",
    "                    #    # print \"WARNING: warping based on Avana values\"\n",
    "                    preds_g = t\n",
    "                    genic_g = np.array(results[1][g]) != 'NoGene' \n",
    "\n",
    "                    mean[method].append(np.mean(preds_g[genic_g]))\n",
    "                    score[method].append(np.sum(preds_g[genic_g])/float(len(preds_g)))\n",
    "\n",
    "\n",
    "                    if which == 'old':\n",
    "                        features[method][i] = elevation.aggregation.get_stats(preds_g, genic_g)\n",
    "                    elif which == 'new':\n",
    "                        features[method][i] = elevation.aggregation.get_stats(preds_g, genic_g)\n",
    "                    else:\n",
    "                        sorted_bo = np.sort(preds_g)\n",
    "                        yvals_bo = np.arange(len(sorted_bo))/float(len(sorted_bo))\n",
    "                        features[method][i] = yvals_bo[np.logspace(np.log10(2), np.log10(len(yvals_bo)), 50, dtype=int)-1]\n",
    "\n",
    "                    raw[method].append((preds_g, genic_g))\n",
    "\n",
    "                    # reference_guide = mit_results.iloc[mit_results['A375 Percent rank'].idxmin()].full_seq\n",
    "                    # reference_offtargets = np.array(results[0][method][reference_guide])\n",
    "                    # genic_reference = np.array(results[1][reference_guide]) != 'NoGene'\n",
    "                    #bad_guide = mit_results.iloc[mit_results['A375 Percent rank'].idxmax()].full_seq\n",
    "                    #bad_offtargets = np.array(results[0][method][bad_guide]\n",
    "                    sorted_bo = np.sort(preds_g)\n",
    "                    yvals_bo = np.arange(len(sorted_bo))/float(len(sorted_bo))\n",
    "\n",
    "                    # try:\n",
    "                    #    mean['KS2_%s'% method].append(st.ks_2samp(preds_g[genic_g], reference_offtargets[genic_reference])[1])\n",
    "                    #    mean['AUC_%s' % method].append(sklearn.metrics.auc(sorted_bo, yvals_bo))\n",
    "                    #except KeyError:\n",
    "                    #    mean['KS2_%s'% method] = [st.ks_2samp(preds_g[genic_g], reference_offtargets[genic_reference])[1]]\n",
    "                    #    mean['AUC_%s' % method] = [sklearn.metrics.auc(sorted_bo, yvals_bo)]\n",
    "\n",
    "            i+=1\n",
    "            truth.append(mit_results[mit_results['full_seq'] == g]['A375 Percent rank'].values[0])\n",
    "            guides.append(g)\n",
    "\n",
    "        except Exception as e:\n",
    "            # print e\n",
    "            # print \"skipping guide: \", g\n",
    "            skipped += 1\n",
    "            #continue\n",
    "            \n",
    "    for method in mean.keys():\n",
    "        mean[method] = np.array(mean[method])\n",
    "        \n",
    "    for method in score.keys():\n",
    "        score[method] = np.array(score[method])\n",
    "    print \"skipped %d guides\" % skipped\n",
    "    return features, truth, mean, score,  guides\n"
   ]
  },
  {
   "cell_type": "code",
   "execution_count": 79,
   "metadata": {
    "collapsed": false,
    "scrolled": true
   },
   "outputs": [
    {
     "name": "stdout",
     "output_type": "stream",
     "text": [
      "0 4039\n",
      "1000 4039\n",
      "2000 4039\n",
      "3000 4039\n",
      "skipped 149 guides\n",
      "broad (3890L, 30L) (0L,) (3890L,)\n",
      "MIT (3890L, 30L) (4039L,) (4039L,)\n",
      "ensemble (3890L, 60L) (0L,) (0L,)\n"
     ]
    }
   ],
   "source": [
    "features_gecko, truth_gecko, mean_gecko, score_gecko,  guides_gecko = aggregator_features(results_gecko, gecko_merged, N=3890, \n",
    "                                                                           which='new',\n",
    "                                                                                  methods=[ \n",
    "                                                                                         'MIT', 'ensemble', 'broad'])\n",
    "\n",
    "for method in score_gecko:\n",
    "    print method, features_gecko[method].shape, mean_gecko[method].shape, score_gecko[method].shape"
   ]
  },
  {
   "cell_type": "code",
   "execution_count": 80,
   "metadata": {
    "collapsed": false,
    "scrolled": true
   },
   "outputs": [
    {
     "name": "stdout",
     "output_type": "stream",
     "text": [
      "0 3890\n",
      "1 3890\n",
      "2 3890\n",
      "3 3890\n",
      "4 3890\n",
      "5 3890\n",
      "6 3890\n",
      "7 3890\n",
      "8 3890\n",
      "9 3890\n",
      "10 3890\n",
      "11 3890\n",
      "12 3890\n",
      "13 3890\n",
      "14 3890\n",
      "15 3890\n",
      "16 3890\n",
      "17 3890\n",
      "18 3890\n",
      "19 3890\n"
     ]
    }
   ],
   "source": [
    "y_rank = st.mstats.rankdata(truth_gecko)/float(len(truth_gecko))\n",
    "kf = sklearn.cross_validation.KFold(y_rank.shape[0], n_folds=20, random_state=np.random.RandomState(1))\n",
    "preds = dict((m, np.zeros_like(y_rank)) for m in features_gecko.keys())\n",
    "\n",
    "for i, split in enumerate(kf):\n",
    "    print i, len(train) + len(test)\n",
    "    train, test = split\n",
    "    for method in features_gecko.keys():\n",
    "\n",
    "        if method == 'MIT' or method == 'broad':\n",
    "            preds[method][test] = score_gecko[method][test]\n",
    "        else:\n",
    "            feat = features_gecko[method]\n",
    "            final_model = elevation.aggregation.train_model(feat[train], y_rank[train])\n",
    "            preds[method][test] = final_model.predict(feat[test])"
   ]
  },
  {
   "cell_type": "code",
   "execution_count": 85,
   "metadata": {
    "collapsed": false
   },
   "outputs": [],
   "source": [
    "with open(\"original_gecko_scores.pkl\", \"w\") as fh:\n",
    "    pickle.dump(score_gecko, fh)\n",
    "with open(\"original_preds.pkl\", \"w\") as fh:\n",
    "    pickle.dump(preds, fh)"
   ]
  },
  {
   "cell_type": "code",
   "execution_count": 72,
   "metadata": {
    "collapsed": false
   },
   "outputs": [
    {
     "name": "stdout",
     "output_type": "stream",
     "text": [
      "[-8.0, -21.0, -2.0, -3.0, -7.0, -6.0, -5.0, -8.0, -4.0, -0.0]\n"
     ]
    }
   ],
   "source": [
    "print list(preds['broad'])[-10:]\n",
    "# print list(score_gecko['broad'])[-10:]\n",
    "# print list(gecko_merged['Broad_John_bin_average'])[-100:]\n",
    "# for i in list(gecko_merged['full_seq'].values)[-100:]:\n",
    "#     print i"
   ]
  },
  {
   "cell_type": "code",
   "execution_count": 81,
   "metadata": {
    "collapsed": false
   },
   "outputs": [
    {
     "name": "stdout",
     "output_type": "stream",
     "text": [
      "broad\n",
      "MIT\n",
      "ensemble\n"
     ]
    },
    {
     "data": {
      "image/png": "[encoded data removed]",
      "text/plain": [
       "<matplotlib.figure.Figure at 0x1041fb38>"
      ]
     },
     "metadata": {},
     "output_type": "display_data"
    }
   ],
   "source": [
    "_ = elevation.prediction_pipeline.plot_spearman_with_different_weights(preds, y_rank, \n",
    "                                                                    weights=np.logspace(np.log10(0.00001), np.log10(100), 20))\n",
    "plt.xscale('log')"
   ]
  }
 ],
 "metadata": {
  "kernelspec": {
   "display_name": "Python [elevation]",
   "language": "python",
   "name": "Python [elevation]"
  },
  "language_info": {
   "codemirror_mode": {
    "name": "ipython",
    "version": 2
   },
   "file_extension": ".py",
   "mimetype": "text/x-python",
   "name": "python",
   "nbconvert_exporter": "python",
   "pygments_lexer": "ipython2",
   "version": "2.7.12"
  }
 },
 "nbformat": 4,
 "nbformat_minor": 0
}
