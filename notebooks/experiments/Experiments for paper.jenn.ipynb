{
 "cells": [
  {
   "cell_type": "code",
   "execution_count": 1,
   "metadata": {
    "collapsed": false
   },
   "outputs": [],
   "source": [
    "%matplotlib inline"
   ]
  },
  {
   "cell_type": "code",
   "execution_count": 2,
   "metadata": {
    "collapsed": false
   },
   "outputs": [
    {
     "name": "stdout",
     "output_type": "stream",
     "text": [
      "The autoreload extension is already loaded. To reload it, use:\n",
      "  %reload_ext autoreload\n"
     ]
    }
   ],
   "source": [
    "%load_ext autoreload"
   ]
  },
  {
   "cell_type": "code",
   "execution_count": 3,
   "metadata": {
    "collapsed": true
   },
   "outputs": [],
   "source": [
    "%autoreload 2"
   ]
  },
  {
   "cell_type": "code",
   "execution_count": 1070,
   "metadata": {
    "collapsed": false
   },
   "outputs": [
    {
     "name": "stderr",
     "output_type": "stream",
     "text": [
      "WARNING:root:using existing cache dir: /tmp/tmpMCHFIU \n"
     ]
    }
   ],
   "source": [
    "import elevation.prediction_pipeline\n",
    "import matplotlib.pyplot as plt\n",
    "import numpy as np\n",
    "import azimuth.util as util\n",
    "import scipy as sp\n",
    "import scipy.stats as st\n",
    "import sklearn\n",
    "import sklearn.cross_validation\n",
    "from elevation.prediction_pipeline import *"
   ]
  },
  {
   "cell_type": "code",
   "execution_count": 1061,
   "metadata": {
    "collapsed": true
   },
   "outputs": [],
   "source": [
    "import matplotlib"
   ]
  },
  {
   "cell_type": "code",
   "execution_count": 1062,
   "metadata": {
    "collapsed": false
   },
   "outputs": [],
   "source": [
    "np.random.seed(1234)"
   ]
  },
  {
   "cell_type": "code",
   "execution_count": 1063,
   "metadata": {
    "collapsed": true
   },
   "outputs": [],
   "source": [
    "best_model = 'linear-raw-stacker'"
   ]
  },
  {
   "cell_type": "code",
   "execution_count": 1064,
   "metadata": {
    "collapsed": false
   },
   "outputs": [],
   "source": [
    "learn_options = {    'num_proc': 10,\n",
    "                     'nuc_features_WT': False, 'include_pi_nuc_feat': False,\n",
    "                     'annotation position one-hot': False,\n",
    "                     'mutation_type' : False,\n",
    "                     'mutation_details' : False,\n",
    "                     'annotation_onehot' : False, # featurize like CFD\n",
    "                     'annotation_decoupled_onehot' : ['let', 'pos', 'transl'], # decouple the CFD features into letters and position\n",
    "                     \"include_Tm\": False,\n",
    "                     'include_azimuth_score': None, # all of them [\"WT\",\"MUT\",\"DELTA\"]\n",
    "                     'azimuth_feat' : ['WT'], # ['WT'], #['WT'],#[\"MUT\", \"WT\"],\n",
    "                     \"include_gene_position\": False,\n",
    "                     \"cv\": \"stratified\",\n",
    "                     'adaboost_loss' : 'ls',\n",
    "                     'adaboost_CV': False, \"algorithm_hyperparam_search\" : \"grid\",\n",
    "                     'n_folds' : 10,\n",
    "                     'allowed_category' : None,#\"Mismatch\",#\"Insertion\",\n",
    "                     \"include_NGGX_interaction\": False,\n",
    "                     'normalize_features' : False, 'class_weight': None,\n",
    "                     \"phen_transform\": 'kde_cdf', #  'kde_cdf',\n",
    "                     \"training_metric\": 'spearmanr',\n",
    "                     \"skip_pam_feat\" : True, \"letpos_indep_ft\": False, \"letpos_inter_ft\": True,\n",
    "                     \"fit_intercept\" : True,\n",
    "                     \"seed\" : 12345,\n",
    "                     \"num_proc\": 1,\n",
    "                     \"alpha\": np.array([1.0e-3]),\n",
    "                     \"V\": \"CD33\",\n",
    "                     \"left_right_guide_ind\": [4,27,30], # 23-mer\n",
    "                     \"order\": 1,\n",
    "                     \"testing_non_binary_target_name\": 'ranks',\n",
    "                     'models': ['AdaBoost'],\n",
    "                     'post-process Platt': False,\n",
    "                     'azimuth_score_in_stacker': False,\n",
    "                     'use_mut_distances': False,\n",
    "             }"
   ]
  },
  {
   "cell_type": "markdown",
   "metadata": {},
   "source": [
    "# Load all datasets"
   ]
  },
  {
   "cell_type": "code",
   "execution_count": 1065,
   "metadata": {
    "collapsed": false,
    "scrolled": true
   },
   "outputs": [
    {
     "name": "stdout",
     "output_type": "stream",
     "text": [
      "loading and featurizing GuideSeq data...\n",
      "Done.\n",
      "loading and featurizing GuideSeq data...\n",
      "Done.\n",
      "reading and featurizing mouse data...\n",
      "Done. Now saving to file: ../../data/offtarget/MouseValidation/STable 20 H2D_H2K.p\n",
      "reading and featurizing Hsu-Zhang data...\n",
      "Done. Now saving to file: ../../data/offtarget/2013.HsuZhang.DNAtargetingSpec.NBT.SITab5.p\n",
      "loading processed data from file: ../../data/offtarget/CD33.processed.[4, 27, 30].pamfiltTrue.p...\n",
      "done.\n",
      "{'bandwidth': 0.23000000000000001}\n"
     ]
    }
   ],
   "source": [
    "guideseq_data = elevation.prediction_pipeline.load_guideseq(learn_options, filterPAMs=True)\n",
    "guideseq_data_nofilter = elevation.prediction_pipeline.load_guideseq(learn_options, filterPAMs=False)\n",
    "mouse_data = elevation.prediction_pipeline.load_mouse(learn_options)\n",
    "hsu_data = elevation.prediction_pipeline.load_Hsu(learn_options)\n",
    "frock_data_ST3 = elevation.prediction_pipeline.load_Frocketal(learn_options, which_table=3, filterPAMs=True)\n",
    "frock_data_ST7 = elevation.prediction_pipeline.load_Frocketal(learn_options, which_table=7, filterPAMs=True)\n",
    "cd33_data = elevation.load_data.load_cd33(learn_options)[0]\n",
    "cd33_data['Annotation'] = cd33_data['Annotation'].apply(lambda x: [x])"
   ]
  },
  {
   "cell_type": "markdown",
   "metadata": {},
   "source": [
    "# Train base model"
   ]
  },
  {
   "cell_type": "code",
   "execution_count": 1066,
   "metadata": {
    "collapsed": false,
    "scrolled": true
   },
   "outputs": [
    {
     "name": "stdout",
     "output_type": "stream",
     "text": [
      "Received option CV=False, so I'm training using all of the data\n",
      "running AdaBoost, order 1 for final\n",
      "MKL not available, so I'm not adjusting the number of threads\n",
      "Launching 1 jobs with 1 MKL threads each\n",
      "loading processed data from file: ../../data/offtarget/CD33.processed.[4, 27, 30].pamfiltTrue.p...\n",
      "done.\n",
      "{'bandwidth': 0.23000000000000001}\n",
      "featurizing data...\n",
      "done.\n",
      "range of y_all is [0.000002, 1.000000]\n",
      "filename = VCD33AdaBoostRegressor.order1Day21-ETP.gene.spearman\n",
      "Cross-validating genes...\n",
      "\t\tRMSE:  0.181818754071\n",
      "\t\tSpearman correlation:  0.804940180452\n",
      "\t\tfinished fold/gene 1 of 1\n",
      "\t\tmedian spearmanr across gene folds: 0.805\n",
      "\t\tElapsed time for cv is 1.03 seconds\n"
     ]
    }
   ],
   "source": [
    "base_model, base_feature_names = elevation.prediction_pipeline.train_base_model(learn_options)"
   ]
  },
  {
   "cell_type": "markdown",
   "metadata": {},
   "source": [
    "# Guide-Seq data (n=402)"
   ]
  },
  {
   "cell_type": "markdown",
   "metadata": {},
   "source": [
    "Best median for linear-raw-stacker: 0.535, GP-stacker: 0.577\n",
    "with just decoupled + o1 WT azimuth linear stacker = 0.605"
   ]
  },
  {
   "cell_type": "code",
   "execution_count": 1067,
   "metadata": {
    "collapsed": false,
    "scrolled": true
   },
   "outputs": [
    {
     "name": "stdout",
     "output_type": "stream",
     "text": [
      "loading processed data from file: ../../data/offtarget/CD33.processed.None.pamfiltTrue.p...\n",
      "done.\n",
      "{'bandwidth': 0.23000000000000001}\n"
     ]
    }
   ],
   "source": [
    "preds_guideseq = elevation.prediction_pipeline.predict_guideseq(base_model, guideseq_data, learn_options,\n",
    "                                                                naive_bayes_combine=True)"
   ]
  },
  {
   "cell_type": "code",
   "execution_count": 1069,
   "metadata": {
    "collapsed": false
   },
   "outputs": [
    {
     "name": "stdout",
     "output_type": "stream",
     "text": [
      "loading processed data from file: ../../data/offtarget/CD33.processed.None.pamfiltTrue.p...\n",
      "done.\n",
      "{'bandwidth': 0.23000000000000001}\n"
     ]
    }
   ],
   "source": [
    "preds_guideseq_nofilter = elevation.prediction_pipeline.predict_guideseq(base_model, guideseq_data_nofilter, learn_options,\n",
    "                                                                naive_bayes_combine=True)"
   ]
  },
  {
   "cell_type": "code",
   "execution_count": null,
   "metadata": {
    "collapsed": false,
    "scrolled": true
   },
   "outputs": [],
   "source": [
    "predictions_gs, performance_gs, mismatches_gs, truth_gs, c_pred =  elevation.prediction_pipeline.cross_validate_guideseq(guideseq_data, \n",
    "                                                                                                     preds_guideseq, \n",
    "                                                                                                     learn_options,\n",
    "                                                                                models= ['GP-stacker', 'CFD', 'product',\n",
    "                                                                               'HsuZhang', 'linear-raw-stacker', \n",
    "                                                                                        'constant-power'])"
   ]
  },
  {
   "cell_type": "code",
   "execution_count": 1058,
   "metadata": {
    "collapsed": false
   },
   "outputs": [
    {
     "name": "stdout",
     "output_type": "stream",
     "text": [
      "ideal: 0.852979519602\n",
      "CFD: 0.480098821972\n",
      "Hsu: 0.588093742401\n",
      "Us: 0.624302572208\n"
     ]
    },
    {
     "data": {
      "image/png": "[encoded data removed]",
      "text/plain": [
       "<matplotlib.figure.Figure at 0x7f6057de34d0>"
      ]
     },
     "metadata": {},
     "output_type": "display_data"
    }
   ],
   "source": [
    "mism = np.concatenate([x.flatten() for x in mismatches_gs])\n",
    "nm = 5\n",
    "cfd_pred = np.concatenate([x.flatten() for x in predictions_gs['CFD']])[mism==nm]\n",
    "hsu_pred = np.concatenate([x.flatten() for x in predictions_gs['HsuZhang']])[mism==nm]\n",
    "us_pred = np.concatenate([x.flatten() for x in predictions_gs['linear-raw-stacker']])[mism==nm]\n",
    "gs_count = np.concatenate([x.flatten() for x in truth_gs])[mism==nm]\n",
    "ideal_pred = gs_count.copy()#np.random.randn(*gs_count.shape) \n",
    "\n",
    "ind_cfd = np.argsort(cfd_pred)[::-1]\n",
    "ind_hsu = np.argsort(hsu_pred)[::-1]\n",
    "ind_us = np.argsort(us_pred)[::-1]\n",
    "ind_ideal = np.argsort(ideal_pred)[::-1]\n",
    "\n",
    "ideal_r = (gs_count - gs_count.min())/(gs_count.max()- gs_count.min())\n",
    "cfd_pred_r = (cfd_pred - cfd_pred.min())/(cfd_pred.max() - cfd_pred.min())\n",
    "hsu_pred_r = (hsu_pred - hsu_pred.min())/(hsu_pred.max() - hsu_pred.min())\n",
    "us_pred_r = (us_pred - us_pred.min())/(us_pred.max() - us_pred.min())\n",
    "\n",
    "# cfd_area = 1-np.trapz(np.cumsum(gs_count[ind_cfd])/float(gs_count.sum()), x=-cfd_pred[ind_cfd]/float(cfd_pred.max()))#/(gs_count.sum() * (cfd_pred.max()-cfd_pred.min()))\n",
    "# print np.trapz(np.cumsum(gs_count[ind_hsu]), x=-hsu_pred[ind_hsu])/(gs_count.sum() * (hsu_pred.max()-hsu_pred.min()))\n",
    "# perfect = 1-np.trapz(np.cumsum(gs_count[ind_us])/float(gs_count.sum()), x=-us_pred[ind_us]/float(us_pred.max()))#/(gs_count.sum() * (us_pred.max()-us_pred.min()))\n",
    "# print cfd_area/perfect\n",
    "# print cfd_pred[ind_cfd]\n",
    "\n",
    "# print cfd_area, perfect, cfd_area/perfect\n",
    "# plt.figure()\n",
    "\n",
    "#plt.plot(-cfd_pred[ind], np.cumsum(gs_count[ind]), '-')\n",
    "\n",
    "# \n",
    "# ind = np.argsort(hsu_pred)[::-1]\n",
    "# plt.plot(-hsu_pred[ind], np.cumsum(gs_count[ind]), '-')\n",
    "\n",
    "# us_pred = np.concatenate([x.flatten() for x in predictions_gs['linear-raw-stacker']])\n",
    "# ind = np.argsort(us_pred)[::-1]\n",
    "# plt.plot(-us_pred[ind], np.cumsum(gs_count[ind]), '-')\n",
    "\n",
    "\n",
    "plt.figure()\n",
    "#plt.plot(ideal_r[ind_ideal[::-1]], np.cumsum(gs_count[ind_ideal])/float(gs_count.sum()), '-');\n",
    "#plt.plot(cfd_pred_r[ind_cfd[::-1]], np.cumsum(gs_count[ind_cfd])/float(gs_count.sum()), '-')\n",
    "#plt.plot(hsu_pred_r[ind_hsu[::-1]], np.cumsum(gs_count[ind_hsu])/float(gs_count.sum()), '-')\n",
    "#plt.plot(us_pred_r[ind_us[::-1]], np.cumsum(gs_count[ind_us])/float(gs_count.sum()), '-')\n",
    "\n",
    "plt.plot(np.cumsum(gs_count[ind_ideal])/float(gs_count.sum()), '-');\n",
    "plt.plot(np.cumsum(gs_count[ind_cfd])/float(gs_count.sum()), '-')\n",
    "plt.plot(np.cumsum(gs_count[ind_hsu])/float(gs_count.sum()), '-')\n",
    "plt.plot(np.cumsum(gs_count[ind_us])/float(gs_count.sum()), '-')\n",
    "\n",
    "print \"ideal:\", np.trapz(np.cumsum(gs_count[ind_ideal])/float(gs_count.sum()), np.linspace(0.0, 1.0, len(gs_count)))#ideal_r[ind_ideal[::-1]])\n",
    "print \"CFD:\", np.trapz(np.cumsum(gs_count[ind_cfd])/float(gs_count.sum()), np.linspace(0.0, 1.0, len(gs_count)))#cfd_pred_r[ind_cfd[::-1]])\n",
    "print \"Hsu:\", np.trapz(np.cumsum(gs_count[ind_hsu])/float(gs_count.sum()), np.linspace(0.0, 1.0, len(gs_count)))#hsu_pred_r[ind_hsu[::-1]])\n",
    "print \"Us:\", np.trapz(np.cumsum(gs_count[ind_us])/float(gs_count.sum()), np.linspace(0.0, 1.0, len(gs_count)))#us_pred_r[ind_us[::-1]])\n",
    "\n",
    "# plt.figure()\n",
    "#plt.plot(us_pred[ind_us]/float(us_pred.max()), np.cumsum(gs_count[ind_us])/float(gs_count.sum()), 'o', label='perfect')\n",
    "#plt.plot(cfd_pred[ind_cfd]/float(cfd_pred.max()), np.cumsum(gs_count[ind_cfd])/float(gs_count.sum()), 'o', label='CFD')\n",
    "#plt.plot(hsu_pred[ind_hsu]/float(hsu_pred.max()), np.cumsum(gs_count[ind_hsu])/float(gs_count.sum()), 'o', label='Hsu')\n",
    "#plt.plot(us_pred[ind_us]/float(us_pred.max()), np.sqrt(gs_count[ind_us]), 'o', label='perfect')\n",
    "#plt.plot(cfd_pred[ind_cfd]/float(cfd_pred.max()), np.sqrt(gs_count[ind_cfd]), 'o', label='CFD')\n",
    "#plt.plot(hsu_pred[ind_hsu]/float(hsu_pred.max()), np.sqrt(gs_count[ind_hsu]), 'o', label='Hsu')\n",
    "#plt.legend(loc=0)\n",
    "#plt.xlabel('Predicted activity')\n",
    "#plt.ylabel('Cumulative actual activity')"
   ]
  },
  {
   "cell_type": "code",
   "execution_count": 1035,
   "metadata": {
    "collapsed": false
   },
   "outputs": [
    {
     "data": {
      "text/plain": [
       "array([  1.30564462e-01,   1.79941406e-01,   4.27869679e-03,\n",
       "         1.90520909e-02,   6.14147127e-03,   1.48106739e-02,\n",
       "         4.49530820e-02,   1.64934000e-02,   1.54851190e-02,\n",
       "         2.65046755e-02,   2.38202169e-03,   1.67275862e-02,\n",
       "         8.57078974e-03,   3.35872396e-02,   3.58359375e-02,\n",
       "         1.83597296e-02,   4.96714472e-03,   2.86087343e-02,\n",
       "         6.39734577e-03,   1.50941667e-01,   1.12885795e-02,\n",
       "         5.64084821e-02,   8.74518387e-02,   5.80286497e-02,\n",
       "         6.12500000e-02,   2.68810096e-02,   3.79596875e-02,\n",
       "         1.41968750e-01,   5.14814685e-03,   2.15291286e-02,\n",
       "         1.33954333e-01,   1.94163568e-03,   3.68381772e-03,\n",
       "         5.91279561e-02,   3.53369124e-02,   1.89777393e-02,\n",
       "         5.27799479e-02,   1.22673833e-02,   2.24421818e-02,\n",
       "         3.11818182e-02,   1.33507342e-02,   2.77358257e-03,\n",
       "         1.12502775e-02,   1.37116519e-02,   8.31013770e-03,\n",
       "         2.01120833e-01,   2.17514156e-02,   5.87115385e-02,\n",
       "         8.03125000e-02,   4.85890625e-02,   2.10115581e-03,\n",
       "         4.10933333e-02,   2.21375000e+00,   2.99211957e-02,\n",
       "         2.68810096e-02,   1.61562500e-01,   3.58727500e-02,\n",
       "         3.53369124e-02,   1.98120941e-02,   4.05180267e-02,\n",
       "         1.72975000e-02,   4.93762938e-03,   8.53589527e-02,\n",
       "         1.26562723e-03,   3.35480072e-02,   8.56842267e-03,\n",
       "         1.24784001e-02,   1.09786668e-03,   8.93870370e-02,\n",
       "         3.03981481e-02,   6.89732210e-03,   5.16250000e-02,\n",
       "         8.77916667e-02,   1.64934000e-02,   1.67275862e-02,\n",
       "         8.42034375e-02,   2.37037500e-02,   2.45917793e-02,\n",
       "         2.23530774e-02,   1.69753086e-01,   4.91365875e-03,\n",
       "         2.45697760e-03,   5.91279561e-02,   8.29325624e-03,\n",
       "         8.42035192e-03,   4.34583333e-03,   3.30403454e-03,\n",
       "         3.07249951e-02,   5.88746991e-02,   5.58947500e-02,\n",
       "         4.09829074e-02,   2.18642699e-02,   8.93870370e-02,\n",
       "         2.68810096e-02,   8.02431977e-03,   5.45888525e-03,\n",
       "         8.89662951e-03,   7.90254954e-02,   6.66830065e-02,\n",
       "         6.79407180e-03,   4.41600250e-02,   1.58439375e-02,\n",
       "         4.25927598e-03,   3.25849038e-02,   3.74237500e-02,\n",
       "         4.78289674e-03,   6.55201570e-02,   2.81906364e-02,\n",
       "         5.25750072e-03,   1.82369004e-02,   2.48645833e-01,\n",
       "         2.63273555e-02,   1.79941406e-01,   8.06333333e-02,\n",
       "         9.28381034e-03,   9.63673906e-02,   1.64333333e-01,\n",
       "         4.59260156e-03,   6.30686427e-03,   9.02295082e-03,\n",
       "         1.37563713e-02,   6.32683333e-02,   1.18973020e-03,\n",
       "         1.20447766e-03,   1.12291667e-02,   3.12798564e-03,\n",
       "         8.17411875e-03,   1.48191504e-02,   3.10541175e-03,\n",
       "         1.43117211e-02,   6.58252175e-03,   1.38466049e-01,\n",
       "         1.64934000e-02,   2.04656250e-01,   2.35753259e-03,\n",
       "                    inf,   2.70048309e-02,   2.68810096e-02,\n",
       "         4.62353365e-03,   2.87184545e-02,   1.48051389e-02,\n",
       "         3.16803668e-02,   1.69544359e-02,   1.67275862e-02,\n",
       "         4.10151852e-02,   2.69669297e-02,   3.24132063e-03,\n",
       "         3.47807765e-02,   2.74804687e-02,   9.02295082e-03,\n",
       "         1.04787582e-01,   2.85761875e-03,   1.81125000e+00,\n",
       "         3.58298710e-02,   7.99051339e-03,   3.11548611e-01,\n",
       "         4.03197667e-02,   2.05391032e-02,   3.24256860e-02,\n",
       "         8.89662951e-03,   1.64934000e-02,   6.84110941e-05,\n",
       "         2.69746349e-02,  -3.43750000e-01,   2.33929348e-02,\n",
       "         1.74067262e-03,   6.89053935e-03,   5.44029630e-03,\n",
       "         2.21747159e-02,   5.46222135e-02,   2.52063406e-02,\n",
       "         1.12521346e-02,   1.50052083e-02,   8.13814815e-03,\n",
       "         1.76113636e-01,   4.45256875e-03,   2.19789272e-02,\n",
       "         9.84184028e-02,   5.10038636e-02,   1.21457531e-02,\n",
       "         1.54331367e-02,   5.25763966e-02,   1.18828044e-02,\n",
       "         4.52044548e-02,   5.69527354e-03,   2.04299200e-02,\n",
       "         1.40594842e-03,   1.38090890e-02,   1.49189603e-02,\n",
       "         2.87714483e-03,   6.66830065e-02,   1.03286506e-02,\n",
       "         3.26395192e-02,   2.21673342e-01,   7.91881250e-02,\n",
       "         3.84424219e-03,   5.25763966e-02,   9.84184028e-02,\n",
       "         7.32142857e-02,   2.66759259e-02,   9.28381034e-03,\n",
       "         4.90709375e-02,   7.27608552e-03,   3.19717264e-02,\n",
       "         1.76535313e-02,   1.84896506e-02,   1.99440867e-02,\n",
       "         2.79412644e-02,   6.74638916e-03,   1.98465996e-02,\n",
       "         1.84644364e-03,   9.62500000e-02,   1.55617778e-02,\n",
       "         6.57387500e-02,   1.25507812e-01,   3.91302083e-02,\n",
       "         4.52044548e-02,   2.00756250e-02,   4.52044548e-02,\n",
       "         1.43383503e-02,   1.48621559e-02,   2.79412644e-02,\n",
       "         1.98889453e-02,   1.94163568e-03,   2.23008721e-02,\n",
       "         1.67275862e-02,   8.43735340e-03,   1.40051613e-02,\n",
       "         4.55880418e-03,   6.66830065e-02,   5.25750072e-03,\n",
       "         3.11868148e-02,   3.29676136e-01,   5.48534375e-02,\n",
       "         4.14996739e-02,   3.26395192e-02,   3.37788043e-02,\n",
       "         8.65740741e-02,   4.52044548e-02,   1.13992023e-02,\n",
       "         8.72395833e-02,   1.25487405e-02,   5.45888525e-03,\n",
       "         1.43719386e-02,   6.90752160e-03,   2.87714483e-03,\n",
       "         1.13474047e-02,   4.66251439e-02,   3.22093333e-02,\n",
       "         1.50052083e-02,   3.29166667e-01,   1.62765152e-02,\n",
       "         2.39069237e-02,   2.10417800e-02,   1.45161290e-01,\n",
       "         1.67100527e-02,   4.52044548e-02,   1.44097222e-01,\n",
       "         8.76974401e-03,   1.17032870e-02,   3.91302083e-02,\n",
       "         1.29611969e-03,   2.35894780e-03,   9.12713309e-03,\n",
       "         1.01201897e-02,   8.02431977e-03,   1.31808192e-02,\n",
       "         3.62432087e-02,   9.28381034e-03,   6.25267857e-02,\n",
       "         3.70562500e-02,   1.32713542e-01,   7.81666667e-03,\n",
       "         1.33164990e-02,   6.95000000e-02,   4.47102469e-02,\n",
       "         6.41484375e-03,   4.83777574e-02,   3.97653047e-03,\n",
       "         9.97850700e-03,   3.91302083e-02,   3.67578182e-02,\n",
       "         7.54536621e-03,   4.55728432e-03,   4.16574516e-04,\n",
       "         2.04229134e-02,   6.13350190e-03,   3.35105719e-03,\n",
       "         1.91163194e-01,   6.12500000e-02,   1.45161290e-01,\n",
       "         8.56327083e-03,   5.09022500e-02,   5.28967593e-02,\n",
       "         7.36062480e-02,   3.08310600e-02,   2.57687078e-02,\n",
       "         9.00658213e-03,   2.62286784e-03,   7.43026148e-02,\n",
       "         6.03497378e-03,   6.26516165e-03,   4.62353365e-03,\n",
       "         2.73699535e-02,   4.47167029e-02,   5.43797419e-03,\n",
       "         1.02205552e-02,   9.55500000e-02,   1.43973214e-02,\n",
       "         1.73202614e-01,   1.12700000e+00,   1.64934000e-02,\n",
       "         1.23251734e-02,   6.66830065e-02,   1.21774074e-02,\n",
       "         1.64934000e-02,   1.39636275e-02,   1.65588218e-02,\n",
       "         6.63409091e-02,   1.81822667e-02,   2.50233992e-03,\n",
       "         4.52044548e-02,   9.44117044e-04,   5.55398114e-03,\n",
       "         4.23458496e-03,   1.02680987e-03,   4.25929054e-02,\n",
       "         7.91881250e-02,   3.29166667e-01,   2.81906364e-02,\n",
       "         4.92930485e-02,   1.05763363e-02,   2.93577014e-02,\n",
       "         2.15291286e-02,   2.65046755e-02,   7.15586667e-02,\n",
       "         6.66830065e-02,   1.01192067e-02,   1.67275862e-02,\n",
       "         7.91881250e-02,   8.81356185e-02,   2.43119565e-03,\n",
       "         1.68398797e-02,   1.52314956e-02,   1.40051613e-02,\n",
       "         2.00322881e-03,   9.69347826e-03,   5.08605769e-02,\n",
       "         3.19717264e-02,   2.61586852e-02,   2.68810096e-02,\n",
       "         6.03925000e-02,   7.32142857e-02,   4.45256875e-03,\n",
       "         1.46725688e-02,   5.96006039e-02,   1.03719136e-01,\n",
       "         3.69330314e-02,   1.64242969e-02,   3.25600000e-02,\n",
       "         2.81761209e-03,   1.49772611e-02,   9.28381034e-03,\n",
       "         2.35894780e-03,   6.34995900e-03,   1.25507812e-01,\n",
       "         3.55172037e-02,   8.65906250e-03,   1.14533295e-03,\n",
       "         6.12500000e-02,   3.08637681e-02,   1.69544359e-02,\n",
       "         2.87714483e-03,   1.39593133e-02,   2.86511186e-03,\n",
       "         1.48902027e-02,   1.97743177e-02,   1.43125000e-02,\n",
       "         6.66830065e-02,   1.10415535e-02,   2.29400846e-02,\n",
       "         1.40322926e-02,   2.57928286e-03,   1.54331367e-02,\n",
       "         1.42156863e-01,   8.81356185e-02,   3.29166667e-01,\n",
       "         2.83686480e-03,   4.45256875e-03,   1.54331367e-02,\n",
       "         1.08175354e-02,   1.63814656e-02,   5.63391166e-03,\n",
       "         2.23970747e-02,   2.87714483e-03,   2.37037500e-02,\n",
       "         5.08333333e-02,   6.12500000e-02,   1.03741665e-02,\n",
       "         7.65389105e-04,   1.52577321e-02,   1.02564874e-02])"
      ]
     },
     "execution_count": 1035,
     "metadata": {},
     "output_type": "execute_result"
    }
   ],
   "source": [
    "hsu_pred"
   ]
  },
  {
   "cell_type": "code",
   "execution_count": 898,
   "metadata": {
    "collapsed": false
   },
   "outputs": [
    {
     "data": {
      "text/plain": [
       "array([3, 4, 5, 2, 4, 5, 3, 2, 3, 4, 4, 3, 6, 5, 4, 4, 5, 4, 3, 3, 2, 4, 2,\n",
       "       3, 3, 3, 4, 5, 3, 3, 5, 5, 6, 4, 4, 4, 5, 4, 3, 4, 2, 6, 3, 2, 1, 3,\n",
       "       3, 4, 4, 3, 5, 4, 3, 3, 4, 5, 5, 4, 4, 5, 4, 3, 3, 4, 2, 6, 2, 3, 5,\n",
       "       3, 4, 4, 4, 4, 4, 5, 5, 3, 3, 4, 5, 2, 3, 4, 2, 3, 5, 3, 4, 4, 5, 4,\n",
       "       3, 5, 5, 4, 4, 6, 3, 3, 4, 4, 3, 3, 2, 3, 2, 3, 4, 4, 3, 3, 4, 5, 5,\n",
       "       6, 4, 5, 5, 3, 3, 4, 3, 3, 6, 5, 4, 5, 2, 4, 4, 4, 5, 3, 4, 5, 3, 3,\n",
       "       1, 4, 4, 3, 4, 2, 3, 5, 3, 4, 6, 4, 5, 5, 3, 4, 5, 4, 2, 3, 4, 3, 4,\n",
       "       3, 6, 3, 4, 5, 4, 5, 4, 5, 5, 3, 2, 3, 5, 3, 3, 4, 4, 5, 5, 3, 4, 3,\n",
       "       4, 4, 4, 6, 3, 2, 4, 4, 3, 3, 5, 6, 4, 4, 3, 5, 5, 4, 3, 4, 2, 3, 3,\n",
       "       5, 5, 4, 3, 4, 3, 4, 3, 4, 4, 5, 6, 4, 2, 3, 3, 3, 4, 4, 4, 6, 3, 4,\n",
       "       5, 4, 4, 5, 3, 5, 2, 3, 3, 4, 4, 4, 4, 6, 5, 3, 3, 4, 5, 3, 5, 4, 2,\n",
       "       3, 4, 3, 4, 4, 3, 3, 4, 4, 4, 6, 5, 5, 3, 5, 2, 4, 6, 4, 5, 1, 4, 4,\n",
       "       4, 3, 3, 3, 5, 5, 3, 3, 4, 2, 3, 5, 4, 3, 4, 4, 5, 3, 3, 3, 4, 4, 5,\n",
       "       4, 6, 2, 3, 3, 4, 4, 4, 5, 3, 4, 5, 6, 3, 3, 4, 4, 5, 3, 3, 2, 4, 4,\n",
       "       4, 4, 3, 4, 5, 3, 4, 6, 3, 5, 5, 4, 2, 3, 3, 5, 3, 3, 3, 4, 4, 4, 5,\n",
       "       5, 4, 4])"
      ]
     },
     "execution_count": 898,
     "metadata": {},
     "output_type": "execute_result"
    }
   ],
   "source": [
    "mism"
   ]
  },
  {
   "cell_type": "code",
   "execution_count": 824,
   "metadata": {
    "collapsed": false,
    "scrolled": false
   },
   "outputs": [
    {
     "name": "stderr",
     "output_type": "stream",
     "text": [
      " /home/nicolo/anaconda3/envs/python2/lib/python2.7/site-packages/ipykernel/__main__.py:5: FutureWarning:\n",
      "The default value for 'return_type' will change to 'axes' in a future release.\n",
      " To use the future behavior now, set return_type='axes'.\n",
      " To keep the previous behavior and silence this warning, set return_type='dict'.\n"
     ]
    },
    {
     "data": {
      "text/plain": [
       "<matplotlib.text.Text at 0x7f6090879b50>"
      ]
     },
     "execution_count": 824,
     "metadata": {},
     "output_type": "execute_result"
    },
    {
     "data": {
      "image/png": "[encoded data removed]",
      "text/plain": [
       "<matplotlib.figure.Figure at 0x7f606384f0d0>"
      ]
     },
     "metadata": {},
     "output_type": "display_data"
    }
   ],
   "source": [
    "plt.figure(figsize=(10,8))\n",
    "med=performance_gs.T.median()\n",
    "med.sort_values(inplace=True)\n",
    "performance_sorted=performance_gs.T[med.index]\n",
    "performance_sorted.boxplot()\n",
    "plt.ylabel('Spearman r')"
   ]
  },
  {
   "cell_type": "code",
   "execution_count": null,
   "metadata": {
    "collapsed": false
   },
   "outputs": [],
   "source": [
    "%%capture\n",
    "rep = 1\n",
    "predictions_repeated = dict([(k, np.ones((guideseq_data.shape[0], rep))) for k in predictions_gs.keys()])\n",
    "\n",
    "for r in range(rep):\n",
    "\n",
    "    predictions, performance, mismatches, truth, c_pred =  elevation.prediction_pipeline.cross_validate_guideseq(guideseq_data, \n",
    "                                                                                                     preds_guideseq, \n",
    "                                                                                                     learn_options,\n",
    "                                                                                models= ['GP-stacker', 'CFD', 'product',\n",
    "                                                                               'linear-raw-stacker'],\n",
    "                                                                                                     seed=r)\n",
    "    for model in predictions.keys():\n",
    "        predictions_repeated[model][:,r] = c_pred[model].flatten()"
   ]
  },
  {
   "cell_type": "code",
   "execution_count": null,
   "metadata": {
    "collapsed": false
   },
   "outputs": [],
   "source": [
    "all_cfd_pred = predictions_repeated['CFD'][:,0] # no stochasticity in CFD, so pred all the same across folds\n",
    "all_best_model_pred = predictions_repeated[best_model].mean(1)\n",
    "all_product_pred = predictions_repeated['product'][:, 0]\n",
    "all_truth = guideseq_data['GUIDE-SEQ Reads'].values.copy()\n",
    "all_mismatches = guideseq_data['Annotation'].apply(len).values"
   ]
  },
  {
   "cell_type": "code",
   "execution_count": null,
   "metadata": {
    "collapsed": false
   },
   "outputs": [],
   "source": [
    "assert np.allclose(sp.stats.pearsonr(all_cfd_pred, all_truth)[0], 0.409, atol=1e-3)"
   ]
  },
  {
   "cell_type": "code",
   "execution_count": null,
   "metadata": {
    "collapsed": false,
    "scrolled": true
   },
   "outputs": [],
   "source": [
    "%%capture\n",
    "num_mismatches = guideseq_data['Annotation'].apply(len).values\n",
    "mismatches = np.sort(np.unique(num_mismatches))\n",
    "results = []\n",
    "test_ind = []\n",
    "for m in mismatches:\n",
    "    train = num_mismatches!=m\n",
    "    test = num_mismatches==m\n",
    "    # if test.sum() > 50:\n",
    "    #     ind_to_remove = np.random.permutation(np.where(test)[0][50:])\n",
    "    #     test[ind_to_remove] = False\n",
    "    #     train[ind_to_remove] = True\n",
    "    print m, train.sum(), test.sum()\n",
    "    test_ind.append(test)\n",
    "    preds_guideseq_cv = predict_guideseq(base_model, guideseq_data[train], learn_options,\n",
    "                                                            naive_bayes_combine=True)\n",
    "    nb_pred, individual_pred = predict(base_model, guideseq_data[test], learn_options)\n",
    "\n",
    "    preds = stacked_predictions(guideseq_data[test], individual_pred,\n",
    "                                guideseq_data=guideseq_data[train],\n",
    "                                                           models=['product', 'linear-raw-stacker',\n",
    "                                                                   'CFD',],\n",
    "                                                           preds_guideseq=preds_guideseq_cv,\n",
    "                                                           use_mut_distances=False,\n",
    "                                                           prob_calibration_model=None,\n",
    "                                                           learn_options=learn_options)\n",
    "    results.append(preds)\n",
    "\n"
   ]
  },
  {
   "cell_type": "code",
   "execution_count": null,
   "metadata": {
    "collapsed": false
   },
   "outputs": [],
   "source": [
    "plot_results = {'CFD': [],\n",
    "                'us': [],\n",
    "               'product': []}\n",
    "model = 'linear-raw-stacker'\n",
    "for m in mismatches:\n",
    "    plot_results['CFD'].append(sp.stats.spearmanr(results[m-1]['CFD'].flatten(), guideseq_data['GUIDE-SEQ Reads'][test_ind[m-1]].values.flatten())[0])\n",
    "    plot_results['us'].append(sp.stats.spearmanr(results[m-1][model].flatten(), guideseq_data['GUIDE-SEQ Reads'][test_ind[m-1]].values.flatten())[0])\n",
    "    plot_results['product'].append(sp.stats.spearmanr(results[m-1]['product'].flatten(), guideseq_data['GUIDE-SEQ Reads'][test_ind[m-1]].values.flatten())[0])\n",
    "\n",
    "    if m > 1:\n",
    "        t2, pv, corr_cfd, corr_bm, corr01 = util.get_pval_from_predictions(results[m-1][model], \n",
    "                                                                    results[m-1]['CFD'],  \n",
    "                                                                        guideseq_data['GUIDE-SEQ Reads'][test_ind[m-1]].values.flatten()[:, None], \n",
    "                                                                        twotailed=False, method='steiger')\n",
    "        print m, pv\n",
    "\n",
    "plt.figure(figsize=(12, 10))\n",
    "plt.scatter(mismatches, plot_results['CFD'], s=[(num_mismatches==m).sum() for m in mismatches], color='red')\n",
    "plt.plot(mismatches, plot_results['CFD'], 'r', label='CFD')\n",
    "plt.scatter(mismatches, plot_results['us'], s=[(num_mismatches==m).sum() for m in mismatches], color='green')\n",
    "plt.plot(mismatches, plot_results['us'], 'g', label='us')\n",
    "plt.scatter(mismatches, plot_results['product'], s=[(num_mismatches==m).sum() for m in mismatches], color='blue')\n",
    "plt.plot(mismatches, plot_results['product'], 'b', label='product')\n",
    "# plt.plot(mismatches, plot_results['CFD'], 'o-r', label='CFD')\n",
    "#plt.plot(mismatches, plot_results['us'], 'o-g', label='us')\n",
    "plt.legend(loc=0)\n",
    "plt.xlim((2, 6))\n",
    "#plt.ylim((0., 0.8))"
   ]
  },
  {
   "cell_type": "code",
   "execution_count": null,
   "metadata": {
    "collapsed": false
   },
   "outputs": [],
   "source": [
    "samples = [(num_mismatches==m).sum() for m in mismatches]\n",
    "# plot_results, mismatches, samples\n",
    "df_gs = pandas.DataFrame(columns=['Number of mismatches', 'Sample size', 'CFD Spearman r', \n",
    "                                  'Elevation-naive Spearman r', 'Elevation Spearman r'])\n",
    "df_gs['Number of mismatches'] = mismatches\n",
    "df_gs['Sample size'] = samples\n",
    "df_gs['CFD Spearman r'] = plot_results['CFD']\n",
    "df_gs['Elevation-naive Spearman r'] = plot_results['product']\n",
    "df_gs['Elevation Spearman r'] = plot_results['us']\n",
    "df_gs.to_excel(\"plots/GuideSeq_leave_one_mismatch_out.xls\")"
   ]
  },
  {
   "cell_type": "code",
   "execution_count": null,
   "metadata": {
    "collapsed": false
   },
   "outputs": [],
   "source": [
    "pv_guideseq = st.mannwhitneyu(performance_gs.T['CFD'], performance_gs.T[best_model], use_continuity=True, alternative='less')[1]\n",
    "perf_guideseq_cfd = performance_gs.T['CFD'].median()\n",
    "perf_guideseq_best_model = performance_gs.T[best_model].median()\n",
    "\n",
    "t2, pv_gs_steiger, corr_cfd, corr_bm, corr01 = util.get_pval_from_predictions(all_cfd_pred, \n",
    "                                                                        all_best_model_pred,  \n",
    "                                                                        all_truth, \n",
    "                                                                        twotailed=False, method='steiger')\n",
    "\n",
    "print corr_cfd, corr_bm\n",
    "print pv_guideseq, pv_gs_steiger"
   ]
  },
  {
   "cell_type": "markdown",
   "metadata": {},
   "source": [
    "# Train probability calibration model"
   ]
  },
  {
   "cell_type": "code",
   "execution_count": null,
   "metadata": {
    "collapsed": false,
    "scrolled": true
   },
   "outputs": [],
   "source": [
    "prob_calibration_model = elevation.prediction_pipeline.train_prob_calibration_model(cd33_data, guideseq_data, \n",
    "                                                                                   preds_guideseq, base_model, \n",
    "                                                                                   learn_options)"
   ]
  },
  {
   "cell_type": "markdown",
   "metadata": {},
   "source": [
    "# Mouse data (n=89)"
   ]
  },
  {
   "cell_type": "markdown",
   "metadata": {},
   "source": [
    "linear-raw: 0.473 CFD: 0.500, product: 0.452"
   ]
  },
  {
   "cell_type": "code",
   "execution_count": null,
   "metadata": {
    "collapsed": false
   },
   "outputs": [],
   "source": [
    "mouse_data = elevation.prediction_pipeline.load_mouse(learn_options)\n",
    "for i in range(mouse_data.shape[0]):\n",
    "    mouse_data.loc[mouse_data.index[i], '30mer'] = mouse_data.loc[mouse_data.index[i], '30mer'].replace('N', \n",
    "                                                                                                        mouse_data.loc[mouse_data.index[i], '30mer_mut'][20])\n"
   ]
  },
  {
   "cell_type": "code",
   "execution_count": null,
   "metadata": {
    "collapsed": false
   },
   "outputs": [],
   "source": [
    "nb_pred_mouse, individual_mut_pred_mouse = elevation.prediction_pipeline.predict(base_model, mouse_data, learn_options)\n",
    "pred_mouse = elevation.prediction_pipeline.stacked_predictions(mouse_data, individual_mut_pred_mouse, \n",
    "                                                               truth=mouse_data[\"GUIDE-SEQ Reads\"], \n",
    "                                                               guideseq_data=guideseq_data, \n",
    "                                                               models=['product', 'linear-raw-stacker', 'logistic stacker', \n",
    "                                                                       'CFD', 'HsuZhang', 'CCTOP'],\n",
    "                                                               preds_guideseq=preds_guideseq, \n",
    "                                                               use_mut_distances=False,\n",
    "                                                               prob_calibration_model=prob_calibration_model,\n",
    "                                                              learn_options=learn_options)"
   ]
  },
  {
   "cell_type": "code",
   "execution_count": null,
   "metadata": {
    "collapsed": false
   },
   "outputs": [],
   "source": [
    "t2, pv_mouse, corr0, corr_naivebayes, corr01 = util.get_pval_from_predictions(pred_mouse['CFD'].flatten(), \n",
    "                                                                        pred_mouse[best_model].flatten(),  \n",
    "                                                                        mouse_data[\"GUIDE-SEQ Reads\"].values.flatten(), \n",
    "                                                                        twotailed=False, method='steiger')\n",
    "print pv_mouse"
   ]
  },
  {
   "cell_type": "code",
   "execution_count": null,
   "metadata": {
    "collapsed": false
   },
   "outputs": [],
   "source": [
    "all_cfd_pred = np.concatenate([pred_mouse['CFD'][i].flatten().tolist() for i in range(len(pred_mouse['CFD']))], axis=0)\n",
    "all_hsu_pred = np.concatenate([pred_mouse['HsuZhang'][i].flatten().tolist() for i in range(len(pred_mouse['HsuZhang']))], axis=0)\n",
    "\n",
    "truth = mouse_data[\"GUIDE-SEQ Reads\"].values\n",
    "\n",
    "assert np.allclose(sp.stats.pearsonr(all_cfd_pred, truth)[0], 0.57, atol=1e-2)"
   ]
  },
  {
   "cell_type": "code",
   "execution_count": null,
   "metadata": {
    "collapsed": false
   },
   "outputs": [],
   "source": [
    "plt.figure(); plt.hist(pred_mouse['linear-raw-stacker'], bins=20)"
   ]
  },
  {
   "cell_type": "code",
   "execution_count": null,
   "metadata": {
    "collapsed": false
   },
   "outputs": [],
   "source": [
    "def get_performance(prediction, truth, metric='spearman'):\n",
    "    performance = {}\n",
    "    for k in prediction.keys():\n",
    "        if metric == 'spearman':\n",
    "            performance[k] = sp.stats.spearmanr(prediction[k], truth)[0]\n",
    "        elif metric == 'pearson':\n",
    "            performance[k] = sp.stats.pearsonr(prediction[k].flatten(), truth.values.flatten())[0]\n",
    "            \n",
    "    return performance\n",
    "\n",
    "performance_mouse = get_performance(pred_mouse, mouse_data['GUIDE-SEQ Reads'])"
   ]
  },
  {
   "cell_type": "markdown",
   "metadata": {},
   "source": [
    "# Hsu data (n=825)"
   ]
  },
  {
   "cell_type": "markdown",
   "metadata": {},
   "source": [
    "linear-raw: 0.419, product=0.408"
   ]
  },
  {
   "cell_type": "code",
   "execution_count": null,
   "metadata": {
    "collapsed": false
   },
   "outputs": [],
   "source": [
    "hsu_data = elevation.prediction_pipeline.load_Hsu(learn_options)"
   ]
  },
  {
   "cell_type": "code",
   "execution_count": null,
   "metadata": {
    "collapsed": false
   },
   "outputs": [],
   "source": [
    "nb_pred, individual_mut_pred_hsu = elevation.prediction_pipeline.predict(base_model, hsu_data, learn_options)\n",
    "pred_hsu = elevation.prediction_pipeline.stacked_predictions(hsu_data, individual_mut_pred_hsu, \n",
    "                                                             truth=hsu_data[\"GUIDE-SEQ Reads\"], \n",
    "                                                             models=['GP-stacker', 'CFD', 'product', 'linear-raw-stacker',\n",
    "                                                                                'logistic stacker', 'HsuZhang', 'CCTOP'],\n",
    "                                                             guideseq_data=guideseq_data, \n",
    "                                                             preds_guideseq=preds_guideseq, \n",
    "                                                             use_mut_distances=False,\n",
    "                                                             prob_calibration_model=None,#prob_calibration_model,\n",
    "                                                            learn_options=learn_options)"
   ]
  },
  {
   "cell_type": "code",
   "execution_count": null,
   "metadata": {
    "collapsed": false
   },
   "outputs": [],
   "source": [
    "t2, pv_hsu, corr_cfd, corr_stack, corr_cfd_stack = util.get_pval_from_predictions(pred_hsu['CFD'].flatten(), \n",
    "                                                                     pred_hsu['linear-raw-stacker'].flatten(),  \n",
    "                                                                     hsu_data[\"GUIDE-SEQ Reads\"].values.flatten(), \n",
    "                                                                     twotailed=False, method='steiger')"
   ]
  },
  {
   "cell_type": "code",
   "execution_count": null,
   "metadata": {
    "collapsed": false
   },
   "outputs": [],
   "source": [
    "print corr_cfd, corr_stack\n",
    "print pv_hsu"
   ]
  },
  {
   "cell_type": "code",
   "execution_count": null,
   "metadata": {
    "collapsed": false
   },
   "outputs": [],
   "source": [
    "plt.figure(); plt.hist(pred_hsu['linear-raw-stacker'], bins=20)"
   ]
  },
  {
   "cell_type": "code",
   "execution_count": null,
   "metadata": {
    "collapsed": true
   },
   "outputs": [],
   "source": [
    "performance_hsu = get_performance(pred_hsu, hsu_data['GUIDE-SEQ Reads'])"
   ]
  },
  {
   "cell_type": "markdown",
   "metadata": {},
   "source": [
    "# Frock et al. Supplementary Table 3 data (n=33)"
   ]
  },
  {
   "cell_type": "markdown",
   "metadata": {},
   "source": [
    "GP-stacker=0.344 CFD=0.159 product=0.316 linear-raw-stacker=0.366 logistic stacker=0.397 "
   ]
  },
  {
   "cell_type": "code",
   "execution_count": null,
   "metadata": {
    "collapsed": false
   },
   "outputs": [],
   "source": [
    "nb_pred, individual_mut_pred_frock = elevation.prediction_pipeline.predict(base_model, frock_data_ST3, learn_options)\n",
    "pred_frock_t3 = elevation.prediction_pipeline.stacked_predictions(frock_data_ST3, individual_mut_pred_frock, \n",
    "                                                             truth=frock_data_ST3[\"GUIDE-SEQ Reads\"], \n",
    "                                                             models=['GP-stacker', 'CFD', 'product', 'linear-raw-stacker',\n",
    "                                                                                'logistic stacker', 'constant-power', 'HsuZhang',\n",
    "                                                                     'CCTOP'],\n",
    "                                                             guideseq_data=guideseq_data_nofilter, \n",
    "                                                             preds_guideseq=preds_guideseq_nofilter, \n",
    "                                                             use_mut_distances=False,\n",
    "                                                             prob_calibration_model=prob_calibration_model,\n",
    "                                                              learn_options=learn_options)"
   ]
  },
  {
   "cell_type": "code",
   "execution_count": null,
   "metadata": {
    "collapsed": false
   },
   "outputs": [],
   "source": [
    "t2, pv_frocks3, corr_cfd, corr_stack, corr_cfd_stack = util.get_pval_from_predictions(pred_frock_t3['CFD'].flatten(), \n",
    "                                                                     pred_frock_t3['linear-raw-stacker'].flatten(),  \n",
    "                                                                     frock_data_ST3[\"GUIDE-SEQ Reads\"].values.flatten(), \n",
    "                                                                     twotailed=False, method='steiger')\n",
    "print corr_cfd, corr_stack\n",
    "print pv_frocks3"
   ]
  },
  {
   "cell_type": "code",
   "execution_count": null,
   "metadata": {
    "collapsed": false
   },
   "outputs": [],
   "source": [
    "plt.figure(); plt.hist(pred_frock_t3['linear-raw-stacker'], bins=20)"
   ]
  },
  {
   "cell_type": "code",
   "execution_count": null,
   "metadata": {
    "collapsed": true
   },
   "outputs": [],
   "source": [
    "performance_frockt3 = get_performance(pred_frock_t3, frock_data_ST3['GUIDE-SEQ Reads'])"
   ]
  },
  {
   "cell_type": "markdown",
   "metadata": {},
   "source": [
    "# Frock et al. Supplementary Table 7 data (n=51)"
   ]
  },
  {
   "cell_type": "markdown",
   "metadata": {},
   "source": [
    "Spearman r: GP-stacker=0.546 CFD=0.435 product=0.539 linear-raw-stacker=0.554 logistic stacker=0.492 "
   ]
  },
  {
   "cell_type": "code",
   "execution_count": null,
   "metadata": {
    "collapsed": false
   },
   "outputs": [],
   "source": [
    "nb_pred, individual_mut_pred_frock = elevation.prediction_pipeline.predict(base_model, frock_data_ST7, learn_options)\n",
    "pred_frock_t7, m_stack, f_stack = elevation.prediction_pipeline.stacked_predictions(frock_data_ST7, individual_mut_pred_frock, \n",
    "                                                             truth=frock_data_ST7[\"GUIDE-SEQ Reads\"], \n",
    "                                                             models=['GP-stacker', 'CFD', 'product', 'linear-raw-stacker',\n",
    "                                                                                'logistic stacker', 'constant-power', 'HsuZhang',\n",
    "                                                                    'CCTOP'],\n",
    "                                                             guideseq_data=guideseq_data_nofilter, \n",
    "                                                             preds_guideseq=preds_guideseq_nofilter, \n",
    "                                                             use_mut_distances=False,\n",
    "                                                             prob_calibration_model=prob_calibration_model,\n",
    "                                                              learn_options=learn_options, \n",
    "                                                              return_model = True)"
   ]
  },
  {
   "cell_type": "code",
   "execution_count": null,
   "metadata": {
    "collapsed": false
   },
   "outputs": [],
   "source": [
    "t2, pv_frocks7, corr_cfd, corr_stack, corr_cfd_stack = util.get_pval_from_predictions(pred_frock_t7['CFD'].flatten(), \n",
    "                                                                     pred_frock_t7['linear-raw-stacker'].flatten(),  \n",
    "                                                                     frock_data_ST7[\"GUIDE-SEQ Reads\"].values.flatten(), \n",
    "                                                                     twotailed=False, method='steiger')\n",
    "print corr_cfd, corr_stack\n",
    "print pv_frocks7"
   ]
  },
  {
   "cell_type": "code",
   "execution_count": null,
   "metadata": {
    "collapsed": false
   },
   "outputs": [],
   "source": [
    "plt.figure(); plt.hist(pred_frock_t7['linear-raw-stacker'], bins=20)"
   ]
  },
  {
   "cell_type": "code",
   "execution_count": null,
   "metadata": {
    "collapsed": false
   },
   "outputs": [],
   "source": [
    "performance_frockt7 = get_performance(pred_frock_t7, frock_data_ST7['GUIDE-SEQ Reads'])"
   ]
  },
  {
   "cell_type": "markdown",
   "metadata": {},
   "source": [
    "# Cross-validate CD33"
   ]
  },
  {
   "cell_type": "code",
   "execution_count": null,
   "metadata": {
    "collapsed": false
   },
   "outputs": [],
   "source": [
    "# %%capture\n",
    "import copy\n",
    "label_encoder = sklearn.preprocessing.LabelEncoder()\n",
    "cv_classes = label_encoder.fit_transform(cd33_data['Category'])\n",
    "\n",
    "skf = sklearn.cross_validation.StratifiedKFold(cv_classes, n_folds=20, shuffle=True)\n",
    "# skf = sklearn.cross_validation.KFold(cd33_data.shape[0], n_folds=20, shuffle=True)\n",
    "spearman_scores_cd33 = {'CFD': [], 'ours': [], 'product': [], 'hsu':[]}\n",
    "pearson_scores_cd33 = {'CFD': [], 'ours': [], 'product': [], 'hsu':[]}\n",
    "cfd_all_preds_cd33 = np.zeros((len(cv_classes)))\n",
    "ours_all_preds_cd33 = np.zeros((len(cv_classes)))\n",
    "product_all_preds_cd33 = np.zeros((len(cv_classes)))\n",
    "all_truth_cd33 = np.zeros((len(cv_classes)))\n",
    "categories = np.zeros((len(cv_classes)))\n",
    "\n",
    "for train, test in skf:\n",
    "    learn_options_fold = copy.deepcopy(learn_options)\n",
    "    learn_options_fold['training_indices'] = train\n",
    "    base_model_i = train_base_model(learn_options_fold)[0]\n",
    "    preds_guideseq_i = elevation.prediction_pipeline.predict_guideseq(base_model_i, guideseq_data, learn_options_fold,\n",
    "                                                                    naive_bayes_combine=True)\n",
    "    \n",
    "    nb_pred, individual_mut_predictions = predict(base_model_i, cd33_data.iloc[test], learn_options)\n",
    "    \n",
    "    preds_all = elevation.prediction_pipeline.stacked_predictions(cd33_data.iloc[test], individual_mut_predictions, \n",
    "                                                             models=['linear-raw-stacker', 'HsuZhang'],\n",
    "                                                             guideseq_data=guideseq_data, \n",
    "                                                             preds_guideseq=preds_guideseq_i, \n",
    "                                                             use_mut_distances=False,\n",
    "                                                             prob_calibration_model=None,\n",
    "                                                              learn_options=learn_options_fold)\n",
    "    \n",
    "    \n",
    "    preds_i = preds_all['linear-raw-stacker']\n",
    "    preds_ih = preds_all['HsuZhang']\n",
    "\n",
    "    cfd_train = make_cfd_from_data(learn_options=learn_options_fold)\n",
    "    m1 = elevation.models.CFDModel(cfd_table=cfd_train)\n",
    "    cfd_pred =  m1.predict(cd33_data.iloc[test]['Annotation'])\n",
    "    truth = cd33_data.iloc[test]['Day21-ETP']\n",
    "\n",
    "    all_truth_cd33[test] = truth.copy()\n",
    "    ours_all_preds_cd33[test] = nb_pred.copy()\n",
    "    cfd_all_preds_cd33[test] = cfd_pred.copy()\n",
    "    categories[test] = cv_classes[test]\n",
    "\n",
    "    spearman_scores_cd33['ours'].append(sp.stats.spearmanr(preds_i, truth)[0])\n",
    "    spearman_scores_cd33['product'].append(sp.stats.spearmanr(nb_pred, truth)[0])\n",
    "    spearman_scores_cd33['CFD'].append(sp.stats.spearmanr(cfd_pred, truth)[0])\n",
    "    spearman_scores_cd33['hsu'].append(sp.stats.spearmanr(preds_ih, truth)[0])\n",
    "    pearson_scores_cd33['product'].append(sp.stats.pearsonr(nb_pred, truth)[0])\n",
    "    pearson_scores_cd33['ours'].append(sp.stats.pearsonr(preds_i, truth)[0])\n",
    "    pearson_scores_cd33['CFD'].append(sp.stats.pearsonr(cfd_pred, truth)[0])\n",
    "    print spearman_scores_cd33"
   ]
  },
  {
   "cell_type": "code",
   "execution_count": null,
   "metadata": {
    "collapsed": false
   },
   "outputs": [],
   "source": [
    "spearman_scores_cd33"
   ]
  },
  {
   "cell_type": "markdown",
   "metadata": {
    "collapsed": true
   },
   "source": [
    "# Figures and statistics"
   ]
  },
  {
   "cell_type": "markdown",
   "metadata": {},
   "source": [
    "### 1) CD33 cross validation"
   ]
  },
  {
   "cell_type": "code",
   "execution_count": null,
   "metadata": {
    "collapsed": false
   },
   "outputs": [],
   "source": [
    "for k in spearman_scores_cd33.keys():\n",
    "    print \"%s, median Spearman %.4f, median Pearson %.4f\" % (k, np.median(spearman_scores_cd33[k]), np.median(pearson_scores_cd33[k]))"
   ]
  },
  {
   "cell_type": "code",
   "execution_count": null,
   "metadata": {
    "collapsed": false
   },
   "outputs": [],
   "source": [
    "t2, pv, corr_cfd, corr_bm, corr01 = util.get_pval_from_predictions(cfd_all_preds_cd33, ours_all_preds_cd33, all_truth_cd33, \n",
    "                                                                        twotailed=False, method='steiger')\n",
    "print \"Steiger pv: %.4f\" % pv"
   ]
  },
  {
   "cell_type": "markdown",
   "metadata": {},
   "source": [
    "### 2) Guideseq"
   ]
  },
  {
   "cell_type": "code",
   "execution_count": null,
   "metadata": {
    "collapsed": false
   },
   "outputs": [],
   "source": [
    "models_to_print = ['CFD', 'linear-raw-stacker']\n",
    "for k in models_to_print:\n",
    "    sp_k = np.median([sp.stats.spearmanr(predictions_gs[k][c], truth_gs[c])[0] for c in range(len(predictions_gs[k]))])\n",
    "    pe_k = np.median([sp.stats.pearsonr(predictions_gs[k][c].flatten(), truth_gs[c].flatten())[0] for c in range(len(predictions_gs[k]))])\n",
    "    print \"%s, median Spearman %.4f, median Pearson %.4f\" % (k, sp_k, pe_k)"
   ]
  },
  {
   "cell_type": "code",
   "execution_count": null,
   "metadata": {
    "collapsed": true
   },
   "outputs": [],
   "source": [
    "# TODO steiger"
   ]
  },
  {
   "cell_type": "code",
   "execution_count": null,
   "metadata": {
    "collapsed": false
   },
   "outputs": [],
   "source": []
  },
  {
   "cell_type": "code",
   "execution_count": null,
   "metadata": {
    "collapsed": false
   },
   "outputs": [],
   "source": [
    "feat = pandas.DataFrame(index=base_feature_names, data=base_model.feature_importances_, columns=['Gini importance'])\n",
    "feat_sorted = feat.sort_values(axis=0, ascending=False, by='Gini importance')\n",
    "feat_sorted_filt = feat_sorted[feat_sorted['Gini importance'] > 0]\n",
    "\n",
    "feat_sorted.to_excel('plots/base_model_feature_importances.xls')\n",
    "\n",
    "feature_groups = {'nucleotides': [],\n",
    "                  'mutation ident.': [],\n",
    "                  'mutation position': [],\n",
    "                  'GC content': []}\n",
    "\n",
    "for f in feat_sorted_filt.index:\n",
    "    if \":\" in f:\n",
    "        feature_groups['mutation ident.'].append(f)\n",
    "    elif \"pos\" in f:\n",
    "        feature_groups['mutation position'].append(f)\n",
    "    elif \"_\" in f:\n",
    "        feature_groups['nucleotides'].append(f)\n",
    "    elif \"GC \" in f:\n",
    "        feature_groups['GC content'].append(f)\n",
    "    else: # it's a PAM\n",
    "        feature_groups['mutation ident.'].append(f)\n",
    "        \n",
    "names, values = [], []\n",
    "for fg in feature_groups.keys():\n",
    "    names.append(fg)\n",
    "    values.append(feat_sorted_filt.loc[feature_groups[fg]].sum().values[0])\n",
    "\n",
    "ind = np.argsort(values)[::-1]\n",
    "names = np.array(names)[ind]\n",
    "values = np.array(values)[ind]\n",
    "plt.style.use(['seaborn-darkgrid', 'seaborn-paper'])\n",
    "# plt.style.use(['fivethirtyeight'])\n",
    "plt.figure(facecolor='white')\n",
    "w = 0.4\n",
    "matplotlib.rcParams.update({'xtick.labelsize': 10,\n",
    "                           'ytick.labelsize': 10,\n",
    "                           'axes.labelsize': 10,\n",
    "                           'font.size': 10,\n",
    "                           'savefig.facecolor': 'white', })\n",
    "plt.ylabel('Gini importance')\n",
    "plt.bar(np.arange(len(values))+w, values, w)\n",
    "plt.xticks(np.arange(len(values))+w+w/2, names, rotation=0)\n",
    "plt.savefig('plots/base_feature_importances.pdf')"
   ]
  },
  {
   "cell_type": "code",
   "execution_count": null,
   "metadata": {
    "collapsed": false
   },
   "outputs": [],
   "source": [
    "names = ['CD33\\n(N=%d)' % len(cd33_data), \n",
    "         'GUIDE-seq\\n(N=%d)' % len(guideseq_data),  \n",
    "         'Hsu et al.\\n(N=%d)' % len(hsu_data), \n",
    "         'Frock et al. S3\\n(N=%d)' % len(frock_data_ST3), \n",
    "         'Frock et al. S7\\n(N=%d)' % len(frock_data_ST7),\n",
    "        'Mouse\\n(N=%d)' % len(mouse_data),]\n",
    "values = {'CFD': [np.median(spearman_scores_cd33['CFD']), \n",
    "                  np.median(performance_gs.T['CFD'].values),\n",
    "                 performance_hsu['CFD'],\n",
    "                 performance_frockt3['CFD'],\n",
    "                 performance_frockt7['CFD'],\n",
    "                 performance_mouse['CFD'],],\n",
    "          'us': [np.median(spearman_scores_cd33['ours']), \n",
    "                 np.median(performance_gs.T['linear-raw-stacker'].values),\n",
    "                 performance_hsu['linear-raw-stacker'],\n",
    "                 performance_frockt3['linear-raw-stacker'],\n",
    "                 performance_frockt7['linear-raw-stacker'],\n",
    "                performance_mouse['linear-raw-stacker'],],\n",
    "          'product': [np.median(spearman_scores_cd33['product']), \n",
    "                      np.median(performance_gs.T['product'].values),\n",
    "                     performance_hsu['product'],\n",
    "                     performance_frockt3['product'],\n",
    "                     performance_frockt7['product'],\n",
    "                     performance_mouse['product'],],\n",
    "         'hsu': [np.median(spearman_scores_cd33['hsu']),\n",
    "                 np.median(performance_gs.T['HsuZhang'].values),\n",
    "                      0.0,\n",
    "                     performance_frockt3['HsuZhang'],\n",
    "                     performance_frockt7['HsuZhang'],\n",
    "                     performance_mouse['HsuZhang'],]} \n",
    "\n",
    "errors = {'CFD':\n",
    "                 [[np.abs(np.percentile(spearman_scores_cd33['CFD'], 25) - values['CFD'][0]), \n",
    "                   np.abs(np.percentile(spearman_scores_cd33['CFD'], 75) - values['CFD'][0])],\n",
    "                  [np.abs(np.percentile(performance_gs.T['CFD'], 25) - values['CFD'][1]), \n",
    "                   np.abs(np.percentile(performance_gs.T['CFD'], 75) - values['CFD'][1])]],\n",
    "          \n",
    "          'us':\n",
    "                 [[np.abs(np.percentile(spearman_scores_cd33['ours'], 25) - values['us'][0]), \n",
    "                   np.abs(np.percentile(spearman_scores_cd33['ours'], 75) - values['us'][0])],\n",
    "                  [np.abs(np.percentile(performance_gs.T['linear-raw-stacker'], 25) - values['us'][1]), \n",
    "                   np.abs(np.percentile(performance_gs.T['linear-raw-stacker'], 75) - values['us'][1])]],        \n",
    "          \n",
    "          'product':\n",
    "                 [[np.abs(np.percentile(spearman_scores_cd33['product'], 25) - values['product'][0]), \n",
    "                   np.abs(np.percentile(spearman_scores_cd33['product'], 75) - values['product'][0])],\n",
    "                  [np.abs(np.percentile(performance_gs.T['product'], 25) - values['product'][1]), \n",
    "                   np.abs(np.percentile(performance_gs.T['product'], 75) - values['product'][1])]],\n",
    "         \n",
    "          'hsu':\n",
    "                 [[np.abs(np.percentile(spearman_scores_cd33['product'], 25) - values['product'][0]), \n",
    "                   np.abs(np.percentile(spearman_scores_cd33['product'], 75) - values['product'][0])],\n",
    "                  [np.abs(np.percentile(performance_gs.T['HsuZhang'], 25) - values['hsu'][1]), \n",
    "                   np.abs(np.percentile(performance_gs.T['HsuZhang'], 75) - values['hsu'][1])]],\n",
    "         \n",
    "         \n",
    "         }\n",
    "\n",
    "def get_stars(pv):\n",
    "    if pv <= 0.01:\n",
    "        return \"***\"\n",
    "    if pv <= 0.025:\n",
    "        return \"**\"\n",
    "    if pv <= 0.05:\n",
    "        return \"*\"\n",
    "    else:\n",
    "        return \"\"\n",
    "    \n",
    "stars = [get_stars(p) for p in [0.0, pv_gs_steiger, pv_hsu, pv_frocks3, pv_frocks7, pv_mouse]]\n",
    "\n",
    "cfd_color = '#d7191c'\n",
    "naive_color = '#fdae61'\n",
    "elevation_color = '#2c7bb6'\n",
    "ind = np.arange(len(names))\n",
    "width = 0.15\n",
    "\n",
    "matplotlib.rcParams.update({'xtick.labelsize': 10,\n",
    "                           'ytick.labelsize': 10,\n",
    "                           'axes.labelsize': 10,\n",
    "                           'font.size': 12,\n",
    "                           'legend.fontsize': 11})\n",
    "\n",
    "plt.figure(figsize=(8, 6), facecolor='white')\n",
    "\n",
    "plt.bar(ind[:2], values['CFD'][:2], width, yerr=np.array(errors['CFD']).T, color=cfd_color, error_kw={'elinewidth': 0.7, 'ecolor': 'k'})\n",
    "plt.bar(ind[2:], values['CFD'][2:], width, color=cfd_color, label='CFD')\n",
    "\n",
    "plt.bar(ind[:2]+width, values['product'][:2], width, yerr=np.array(errors['product']).T, color=naive_color, error_kw={'elinewidth': 0.7, 'ecolor': 'k'})\n",
    "plt.bar(ind[2:]+width, values['product'][2:], width, color=naive_color, label='Elevation-naive')\n",
    "\n",
    "plt.bar(ind[:2]+width*2, values['us'][:2], width, yerr=np.array(errors['us']).T, color=elevation_color, error_kw={'elinewidth': 0.7, 'ecolor': 'k'})\n",
    "plt.bar(ind[2:]+width*2, values['us'][2:], width, color=elevation_color, label='Elevation')\n",
    "\n",
    "plt.bar(ind[:2]+width*3, values['hsu'][:2], width, yerr=np.array(errors['hsu']).T, color='k', label='Hsu', error_kw={'elinewidth': 0.7, 'ecolor': 'k'})\n",
    "plt.bar(ind[2:]+width*3, values['hsu'][2:], width,  color='k', error_kw={'elinewidth': 0.7, 'ecolor': 'k'})\n",
    "\n",
    "plt.legend(loc=0)\n",
    "plt.ylim(0.0, 1.0)\n",
    "plt.ylabel('Spearman correlation')\n",
    "plt.xticks(ind+width+width/2., names)\n",
    "\n",
    "for i in range(len(values['us'])):\n",
    "    pos = values['us'][i]\n",
    "\n",
    "    plt.text(ind[i]+width+width, pos+0.08, stars[i])\n",
    "    \n",
    "plt.savefig('plots/Spearman_across_data.pdf')"
   ]
  },
  {
   "cell_type": "code",
   "execution_count": null,
   "metadata": {
    "collapsed": false
   },
   "outputs": [],
   "source": [
    "names = ['CD33\\n(N=%d)' % len(cd33_data), \n",
    "         'GUIDE-seq\\n(N=%d)' % len(guideseq_data),  \n",
    "         'Hsu et al.\\n(N=%d)' % len(hsu_data), \n",
    "         'Frock et al. S3\\n(N=%d)' % len(frock_data_ST3), \n",
    "         'Frock et al. S7\\n(N=%d)' % len(frock_data_ST7),\n",
    "        'Mouse\\n(N=%d)' % len(mouse_data),]\n",
    "\n",
    "performance_mouse_p = get_performance(pred_mouse, mouse_data['GUIDE-SEQ Reads'], 'pearson')\n",
    "performance_frockt7_p = get_performance(pred_frock_t7, frock_data_ST7['GUIDE-SEQ Reads'], 'pearson')\n",
    "performance_frockt3_p = get_performance(pred_frock_t3, frock_data_ST3['GUIDE-SEQ Reads'], 'pearson')\n",
    "performance_hsu_p = get_performance(pred_hsu, hsu_data['GUIDE-SEQ Reads'], 'pearson')\n",
    "performance_gs_p = pandas.DataFrame(data=np.zeros((len(predictions_gs.keys()), len(truth_gs))), \n",
    "                                    columns=['Fold %d' % (i+1) for i in range(len(truth_gs))], \n",
    "                                    index=[model for model in predictions_gs.keys()])\n",
    "for fold in range(len(truth_gs)):\n",
    "    for model in predictions_gs.keys():\n",
    "        performance_gs_p['Fold %d' % (fold+1)].T[model] = sp.stats.pearsonr(predictions_gs[model][fold].flatten(), truth_gs[fold].flatten())[0]\n",
    "        \n",
    "values = {'CFD': [np.median(pearson_scores_cd33['CFD']), \n",
    "                  np.median(performance_gs_p.T['CFD'].values),\n",
    "                 performance_hsu_p['CFD'],\n",
    "                 performance_frockt3_p['CFD'],\n",
    "                 performance_frockt7_p['CFD'],\n",
    "                 performance_mouse_p['CFD'],],\n",
    "          'us': [np.median(spearman_scores_cd33['ours']), \n",
    "                 np.median(performance_gs_p.T['linear-raw-stacker'].values),\n",
    "                 performance_hsu_p['linear-raw-stacker'],\n",
    "                 performance_frockt3_p['linear-raw-stacker'],\n",
    "                 performance_frockt7_p['linear-raw-stacker'],\n",
    "                performance_mouse_p['linear-raw-stacker'],],\n",
    "          'product': [np.median(spearman_scores_cd33['product']), \n",
    "                      np.median(performance_gs_p.T['product'].values),\n",
    "                     performance_hsu_p['product'],\n",
    "                     performance_frockt3_p['product'],\n",
    "                     performance_frockt7_p['product'],\n",
    "                     performance_mouse_p['product'],]} \n",
    "\n",
    "errors = {'CFD':\n",
    "                 [[np.abs(np.percentile(pearson_scores_cd33['CFD'], 25) - values['CFD'][0]), \n",
    "                   np.abs(np.percentile(pearson_scores_cd33['CFD'], 75) - values['CFD'][0])],\n",
    "                  [np.abs(np.percentile(performance_gs_p.T['CFD'], 25) - values['CFD'][1]), \n",
    "                   np.abs(np.percentile(performance_gs_p.T['CFD'], 75) - values['CFD'][1])]],\n",
    "          \n",
    "          'us':\n",
    "                 [[np.abs(np.percentile(pearson_scores_cd33['ours'], 25) - values['us'][0]), \n",
    "                   np.abs(np.percentile(pearson_scores_cd33['ours'], 75) - values['us'][0])],\n",
    "                  [np.abs(np.percentile(performance_gs_p.T['linear-raw-stacker'], 25) - values['us'][1]), \n",
    "                   np.abs(np.percentile(performance_gs_p.T['linear-raw-stacker'], 75) - values['us'][1])]],        \n",
    "          \n",
    "          'product':\n",
    "                 [[np.abs(np.percentile(pearson_scores_cd33['product'], 25) - values['product'][0]), \n",
    "                   np.abs(np.percentile(pearson_scores_cd33['product'], 75) - values['product'][0])],\n",
    "                  [np.abs(np.percentile(performance_gs_p.T['product'], 25) - values['product'][1]), \n",
    "                   np.abs(np.percentile(performance_gs_p.T['product'], 75) - values['product'][1])]]}\n",
    "\n",
    "def get_stars(pv):\n",
    "    if pv <= 0.01:\n",
    "        return \"***\"\n",
    "    if pv <= 0.025:\n",
    "        return \"**\"\n",
    "    if pv <= 0.05:\n",
    "        return \"*\"\n",
    "    else:\n",
    "        return \"\"\n",
    "    \n",
    "stars = [get_stars(p) for p in [0.0, pv_gs_steiger, pv_hsu, pv_frocks3, pv_frocks7, pv_mouse]]\n",
    "\n",
    "cfd_color = '#d7191c'\n",
    "naive_color = '#fdae61'\n",
    "elevation_color = '#2c7bb6'\n",
    "ind = np.arange(len(names))\n",
    "width = 0.25\n",
    "\n",
    "matplotlib.rcParams.update({'xtick.labelsize': 10,\n",
    "                           'ytick.labelsize': 10,\n",
    "                           'axes.labelsize': 10,\n",
    "                           'font.size': 12,\n",
    "                           'legend.fontsize': 11})\n",
    "\n",
    "plt.figure(figsize=(8, 6), facecolor='white')\n",
    "plt.bar(ind[:2], values['CFD'][:2], width, yerr=np.array(errors['CFD']).T, color=cfd_color, error_kw={'elinewidth': 0.7, 'ecolor': 'k'})\n",
    "plt.bar(ind[2:], values['CFD'][2:], width, color=cfd_color, label='CFD')\n",
    "plt.bar(ind[:2]+width, values['product'][:2], width, yerr=np.array(errors['product']).T, color=naive_color, error_kw={'elinewidth': 0.7, 'ecolor': 'k'})\n",
    "plt.bar(ind[2:]+width, values['product'][2:], width, color=naive_color, label='Elevation-naive')\n",
    "plt.bar(ind[:2]+width*2, values['us'][:2], width, yerr=np.array(errors['us']).T, color=elevation_color, error_kw={'elinewidth': 0.7, 'ecolor': 'k'})\n",
    "plt.bar(ind[2:]+width*2, values['us'][2:], width, color=elevation_color, label='Elevation')\n",
    "\n",
    "\n",
    "plt.legend(loc=0)\n",
    "plt.ylim(0.0, 1.0)\n",
    "plt.ylabel('Pearson correlation')\n",
    "plt.xticks(ind+width+width/2., names)\n",
    "\n",
    "for i in range(len(values['us'])):\n",
    "    pos = values['us'][i]\n",
    "\n",
    "    plt.text(ind[i]+width, pos+0.08, stars[i])\n",
    "    \n",
    "plt.savefig('plots/Pearson_across_data.pdf')"
   ]
  },
  {
   "cell_type": "code",
   "execution_count": null,
   "metadata": {
    "collapsed": false
   },
   "outputs": [],
   "source": [
    "predictions_gs['CFD'], truth_gs"
   ]
  },
  {
   "cell_type": "code",
   "execution_count": null,
   "metadata": {
    "collapsed": false
   },
   "outputs": [],
   "source": [
    "plt.figure(facecolor='white')\n",
    "coef = m_stack.coef_\n",
    "\n",
    "meta_coef = coef[-3:]\n",
    "nucl_coef = coef[:-3]\n",
    "\n",
    "names = []\n",
    "for n in f_stack:\n",
    "    if 'pos' in n:\n",
    "        l = n.replace('pos', '')\n",
    "        if l == '21':\n",
    "            l = 'N'\n",
    "        names.append(l)\n",
    "    elif 'annotations' in n:\n",
    "        names.append(n.replace('annotations', 'mismatches'))\n",
    "    else:\n",
    "        names.append(n)\n",
    "        \n",
    "ind = np.arange(len(coef))\n",
    "width = 0.8\n",
    "plt.bar(ind[:-3], nucl_coef, width, color=elevation_color)\n",
    "plt.bar(ind[-3:], meta_coef, width, color=cfd_color)\n",
    "plt.xticks(ind+width/2., names, rotation=90)\n",
    "#bbox_inches='tight'\n",
    "plt.tight_layout()\n",
    "plt.ylabel('feature weight')\n",
    "plt.savefig('plots/stacker_feat_importances.pdf')\n",
    "#plt.xticks(ind[-3:]+width/2., names[-3:], rotation=80)"
   ]
  },
  {
   "cell_type": "markdown",
   "metadata": {},
   "source": [
    "## Classification vs Regression"
   ]
  },
  {
   "cell_type": "code",
   "execution_count": null,
   "metadata": {
    "collapsed": true
   },
   "outputs": [],
   "source": [
    "learn_options_class = copy.deepcopy(learn_options)\n",
    "learn_options_class['models'] = ['AdaBoostClassifier']\n",
    "learn_options_class['phen_transform'] = 'binarize'"
   ]
  },
  {
   "cell_type": "code",
   "execution_count": null,
   "metadata": {
    "collapsed": false,
    "scrolled": true
   },
   "outputs": [],
   "source": [
    "base_model_class, base_feature_names_class = elevation.prediction_pipeline.train_base_model(learn_options_class)\n",
    "preds_guideseq_class = elevation.prediction_pipeline.predict_guideseq(base_model_class, guideseq_data, learn_options_class,\n",
    "                                                                naive_bayes_combine=True)\n",
    "predictions_gs_class, performance_gs_class, mismatches_gs_class, truth_gs_class, c_pred_class =  elevation.prediction_pipeline.cross_validate_guideseq(guideseq_data, \n",
    "                                                                                                     preds_guideseq_class, \n",
    "                                                                                                     learn_options_class,\n",
    "                                                                                models= ['GP-stacker', 'CFD', 'product',\n",
    "                                                                               'linear-raw-stacker'])"
   ]
  },
  {
   "cell_type": "markdown",
   "metadata": {},
   "source": [
    "## Old vs new features"
   ]
  },
  {
   "cell_type": "code",
   "execution_count": null,
   "metadata": {
    "collapsed": true
   },
   "outputs": [],
   "source": [
    "learn_options_feat = copy.deepcopy(learn_options)\n",
    "learn_options_feat['azimuth_feat'] = None\n",
    "learn_options_feat['annotation_decoupled_onehot'] = False\n",
    "learn_options_feat['annotation_onehot'] = True"
   ]
  },
  {
   "cell_type": "code",
   "execution_count": null,
   "metadata": {
    "collapsed": false,
    "scrolled": true
   },
   "outputs": [],
   "source": [
    "base_model_feat, base_feature_names_feat = elevation.prediction_pipeline.train_base_model(learn_options_feat)\n",
    "preds_guideseq_feat = elevation.prediction_pipeline.predict_guideseq(base_model_feat, guideseq_data, learn_options_feat,\n",
    "                                                                naive_bayes_combine=True)\n",
    "predictions_gs_feat, performance_gs_feat, mismatches_gs_feat, truth_gs_feat, c_pred_feat =  elevation.prediction_pipeline.cross_validate_guideseq(guideseq_data, \n",
    "                                                                                                     preds_guideseq_feat, \n",
    "                                                                                                     learn_options_feat,\n",
    "                                                                                models= ['GP-stacker', 'CFD', 'product',\n",
    "                                                                               'linear-raw-stacker'])"
   ]
  },
  {
   "cell_type": "code",
   "execution_count": null,
   "metadata": {
    "collapsed": false
   },
   "outputs": [],
   "source": [
    "values = [np.median(performance_gs.T['CFD']),\n",
    "          np.median(performance_gs.T['linear-raw-stacker']), \n",
    "          np.median(performance_gs_class.T['linear-raw-stacker']), \n",
    "          np.median(performance_gs_feat.T['linear-raw-stacker'])]\n",
    "\n",
    "errors = [[[np.abs(np.percentile(performance_gs.T['CFD'], 25) - values[0])], \n",
    "           [np.abs(np.percentile(performance_gs.T['CFD'], 75) - values[0])]],\n",
    "          \n",
    "          [[np.abs(np.percentile(performance_gs.T['linear-raw-stacker'], 25) - values[1])], \n",
    "           [np.abs(np.percentile(performance_gs.T['linear-raw-stacker'], 75) - values[1])]],\n",
    "          \n",
    "          [[np.abs(np.percentile(performance_gs_class.T['linear-raw-stacker'], 25) - values[2])], \n",
    "           [np.abs(np.percentile(performance_gs_class.T['linear-raw-stacker'], 75) - values[2])]],\n",
    "          \n",
    "          [[np.abs(np.percentile(performance_gs_feat.T['linear-raw-stacker'], 25) - values[3])], \n",
    "           [np.abs(np.percentile(performance_gs_feat.T['linear-raw-stacker'], 75) - values[3])]]]\n",
    "\n",
    "names = ['CFD', 'Elevation', 'Elevation-classification', 'Elevation-simple-feat']\n",
    "plt.figure(facecolor='white')\n",
    "ind = np.array([1])\n",
    "width=0.3\n",
    "plt.figure()\n",
    "plt.bar(ind, [values[0]], width, color=cfd_color, yerr=errors[0], label=names[0], error_kw={'elinewidth': 0.7, 'ecolor': 'k'})\n",
    "plt.bar(ind+width*1, [values[2]], width, color='#f4a582', yerr=errors[2], label=names[2], error_kw={'elinewidth': 0.7, 'ecolor': 'k'})\n",
    "plt.bar(ind+width*2, [values[3]], width, color='#92c5de', yerr=errors[3], label=names[3], error_kw={'elinewidth': 0.7, 'ecolor': 'k'})\n",
    "plt.bar(ind+width*3, [values[1]], width, color=elevation_color, yerr=errors[1], label=names[1], error_kw={'elinewidth': 0.7, 'ecolor': 'k'})\n",
    "plt.ylim(0.0, 0.7)\n",
    "plt.xlim(0.3, 4.0)\n",
    "plt.legend(loc=0)\n",
    "plt.ylabel('Spearman correlation')\n",
    "plt.xticks([])\n",
    "plt.savefig(\"plots/class_vs_feat_vs_elevation.pdf\")"
   ]
  },
  {
   "cell_type": "code",
   "execution_count": null,
   "metadata": {
    "collapsed": false
   },
   "outputs": [],
   "source": [
    "plt.plot(m_stack.alphas_, 'o-')"
   ]
  },
  {
   "cell_type": "code",
   "execution_count": null,
   "metadata": {
    "collapsed": false
   },
   "outputs": [],
   "source": [
    "m_stack.alphas_.min(), m_stack.alphas_.max() "
   ]
  },
  {
   "cell_type": "code",
   "execution_count": null,
   "metadata": {
    "collapsed": false
   },
   "outputs": [],
   "source": [
    "def median_dist(median, q1, q3):\n",
    "    return median, [[np.abs(q1-median)], [np.abs(q3-median)]]\n",
    "\n",
    "cd_33_exp = {'elevation': [0.78198, 0.754171, 0.793050],\n",
    "            'no position': [0.719615, 0.696937,0.732687],\n",
    "            'no mismatch nt': [0.697318, 0.681226, 0.719169],\n",
    "            'no nucleotide': [0.604790, 0.584646, 0.618526],\n",
    "            'no GC': [0.775354, 0.767718, 0.786855]}\n",
    "\n",
    "gs_exp = {'elevation': [0.595256, 0.398174, 0.641509],\n",
    "            'no position': [0.547643, 0.368088, 0.618912],\n",
    "            'no mismatch nt': [0.523239, 0.380507, 0.605046],\n",
    "            'no nucleotide': [0.523052, 0.407058,0.644489],\n",
    "            'no GC': [0.579782, 0.407438, 0.631960]}\n",
    "\n",
    "colors = ['#ca0020', '#f4a582', '#ffffbf', '#92c5de', '#0571b0']\n",
    "\n",
    "width=0.7/len(cd_33_exp.keys())\n",
    "ind = 0\n",
    "for i, n in enumerate(['elevation', 'no GC', 'no position', 'no mismatch nt', 'no nucleotide'][::-1]):\n",
    "    med, err = median_dist(*cd_33_exp[n])\n",
    "    plt.bar(ind+(width*i), med, width, color=colors[i], \n",
    "            yerr=err, label=n, error_kw={'elinewidth': 0.7, 'ecolor': 'k'})\n",
    "    med, err = median_dist(*gs_exp[n])\n",
    "    plt.bar(ind+1+(width*i), med, width, color=colors[i], \n",
    "            yerr=err, error_kw={'elinewidth': 0.7, 'ecolor': 'k'})\n",
    "\n",
    "\n",
    "plt.xlim(-0.1, 1.8)\n",
    "plt.ylim(0.0, 1.0)\n",
    "plt.legend(loc=0)\n",
    "plt.ylabel('Spearman correlation')\n",
    "plt.xticks(np.array([0, 1])+width*2+width/2., ['CD33\\n(N=%d)' % len(cd33_data), \n",
    "         'GUIDE-seq\\n(N=%d)' % len(guideseq_data)])\n",
    "plt.tight_layout()\n",
    "plt.savefig('plots/feature_importances_removing.pdf')"
   ]
  },
  {
   "cell_type": "code",
   "execution_count": null,
   "metadata": {
    "collapsed": false
   },
   "outputs": [],
   "source": [
    "hsu_data"
   ]
  },
  {
   "cell_type": "code",
   "execution_count": null,
   "metadata": {
    "collapsed": true
   },
   "outputs": [],
   "source": []
  }
 ],
 "metadata": {
  "kernelspec": {
   "display_name": "Python 2",
   "language": "python",
   "name": "python2"
  },
  "language_info": {
   "codemirror_mode": {
    "name": "ipython",
    "version": 2
   },
   "file_extension": ".py",
   "mimetype": "text/x-python",
   "name": "python",
   "nbconvert_exporter": "python",
   "pygments_lexer": "ipython2",
   "version": "2.7.11"
  }
 },
 "nbformat": 4,
 "nbformat_minor": 0
}
