{
 "cells": [
  {
   "cell_type": "markdown",
   "metadata": {},
   "source": [
    "# Guide sequence prediction and aggregate score"
   ]
  },
  {
   "cell_type": "markdown",
   "metadata": {},
   "source": [
    "### Step 0\n",
    "\n",
    "If you did not adjust `PYTHONPATH` on the command line when starting Jupyter Notebook, use a hack so Python can find Elevation modules."
   ]
  },
  {
   "cell_type": "code",
   "execution_count": null,
   "metadata": {},
   "outputs": [],
   "source": [
    "import sys\n",
    "sys.path.insert(0, '../')"
   ]
  },
  {
   "cell_type": "markdown",
   "metadata": {},
   "source": [
    "### Step 1\n",
    "Import Elevation's data loader and predictor. _sklearn (scikit-learn) will emit `DeprecationWarning`, do not worry._"
   ]
  },
  {
   "cell_type": "code",
   "execution_count": null,
   "metadata": {},
   "outputs": [],
   "source": [
    "import elevation.load_data\n",
    "from elevation.cmds.predict import Predict"
   ]
  },
  {
   "cell_type": "markdown",
   "metadata": {},
   "source": [
    "### Step 2\n",
    "\n",
    "Load the Haussler data from `CRISPR/data/offtarget/Haeussler/fig2-crisporData_withReadFraction.tab`."
   ]
  },
  {
   "cell_type": "code",
   "execution_count": null,
   "metadata": {},
   "outputs": [],
   "source": [
    "num_x = 100\n",
    "roc_data = elevation.load_data.load_HauesslerFig2(1)[0]\n",
    "wildtype = list(roc_data['30mer'])[:num_x]\n",
    "offtarget = list(roc_data['30mer_mut'])[:num_x]"
   ]
  },
  {
   "cell_type": "markdown",
   "metadata": {},
   "source": [
    "### Step 3\n",
    "\n",
    "Compute the predictions.  Depending on your system, this may take awhile.\n",
    "\n",
    "_sklearn (scikit-learn) will emit `DataConversionWarning` and `ConvergenceWarning`, do not worry._"
   ]
  },
  {
   "cell_type": "code",
   "execution_count": null,
   "metadata": {
    "scrolled": true
   },
   "outputs": [],
   "source": [
    "predictions = Predict().execute(wildtype, offtarget)"
   ]
  },
  {
   "cell_type": "markdown",
   "metadata": {},
   "source": [
    "### Step 4: Optional\n",
    "\n",
    "Pretty print the predictions."
   ]
  },
  {
   "cell_type": "code",
   "execution_count": null,
   "metadata": {
    "scrolled": true
   },
   "outputs": [],
   "source": [
    "for i in range(num_x):\n",
    "    print(wildtype[i], offtarget[i], map(lambda kv: kv[0] + \"=\" + str(kv[1][i]), predictions.iteritems()))"
   ]
  },
  {
   "cell_type": "markdown",
   "metadata": {},
   "source": [
    "### Step 5\n",
    "\n",
    "Import settings and load the aggregation model. _sklearn (scikit-learn) will emit `DeprecationWarning`, do not worry._"
   ]
  },
  {
   "cell_type": "code",
   "execution_count": null,
   "metadata": {},
   "outputs": [],
   "source": [
    "from elevation import settings\n",
    "import pickle\n",
    "\n",
    "with open(settings.agg_model_file) as fh:\n",
    "    final_model, other = pickle.load(fh)"
   ]
  },
  {
   "cell_type": "markdown",
   "metadata": {},
   "source": [
    "### Step 6\n",
    "\n",
    "Compute the aggregate score."
   ]
  },
  {
   "cell_type": "code",
   "execution_count": null,
   "metadata": {},
   "outputs": [],
   "source": [
    "from elevation import aggregation\n",
    "import numpy\n",
    "\n",
    "isgenic = numpy.zeros(num_x, dtype=numpy.bool)\n",
    "aggregate_score = aggregation.get_aggregated_score(predictions['linear-raw-stacker'],\n",
    "                                                   predictions['CFD'],\n",
    "                                                   isgenic,\n",
    "                                                   final_model)"
   ]
  },
  {
   "cell_type": "markdown",
   "metadata": {},
   "source": [
    "### Step 7: Optional\n",
    "\n",
    "Pretty print the aggregate score."
   ]
  },
  {
   "cell_type": "code",
   "execution_count": null,
   "metadata": {},
   "outputs": [],
   "source": [
    "print aggregate_score"
   ]
  }
 ],
 "metadata": {
  "kernelspec": {
   "display_name": "Python 2",
   "language": "python",
   "name": "python2"
  },
  "language_info": {
   "codemirror_mode": {
    "name": "ipython",
    "version": 2
   },
   "file_extension": ".py",
   "mimetype": "text/x-python",
   "name": "python",
   "nbconvert_exporter": "python",
   "pygments_lexer": "ipython2",
   "version": "2.7.16"
  }
 },
 "nbformat": 4,
 "nbformat_minor": 2
}
